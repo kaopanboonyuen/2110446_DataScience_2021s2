{
  "nbformat": 4,
  "nbformat_minor": 0,
  "metadata": {
    "colab": {
      "name": "1_Basic_Statistics_Demo_toStudent.ipynb",
      "provenance": [],
      "collapsed_sections": [],
      "toc_visible": true
    },
    "kernelspec": {
      "name": "python3",
      "display_name": "Python 3"
    }
  },
  "cells": [
    {
      "cell_type": "markdown",
      "metadata": {
        "id": "c5iTN0-9OiHU"
      },
      "source": [
        "# OUTLINES\n",
        "\n",
        "Part1: Statistical Analysis\n",
        "\n",
        "Part2: Inferential Statistics\n",
        "\n",
        "Part3: A/B Testing\n",
        "\n",
        "\n"
      ]
    },
    {
      "cell_type": "markdown",
      "metadata": {
        "id": "gM2uPpV2O-UV"
      },
      "source": [
        "# Part1: Statistical Analysis"
      ]
    },
    {
      "cell_type": "markdown",
      "metadata": {
        "id": "mJEZ0HipOvv-"
      },
      "source": [
        "## Introduction to Statistics\n"
      ]
    },
    {
      "cell_type": "code",
      "metadata": {
        "id": "24Kv63BWOwqe"
      },
      "source": [
        "import pandas\n",
        "import matplotlib.pyplot as plt\n",
        "import seaborn as sns\n",
        "import scipy\n",
        "\n",
        "%matplotlib inline\n",
        "plt.rcParams['figure.figsize'] = (15,12)"
      ],
      "execution_count": 1,
      "outputs": []
    },
    {
      "cell_type": "code",
      "metadata": {
        "id": "tkhjGwmGOyB-"
      },
      "source": [
        "#Data\n",
        "url = \"https://github.com/kaopanboonyuen/2110446_DataScience_2021s2/raw/main/datasets/pima-indians-diabetes.data.csv\"\n",
        "names = ['preg','plas','pres','skin','test','mass','pedi','age','class']\n",
        "data = pandas.read_csv(url, names=names)"
      ],
      "execution_count": 2,
      "outputs": []
    },
    {
      "cell_type": "code",
      "metadata": {
        "id": "O30iDNuPOoZQ",
        "colab": {
          "base_uri": "https://localhost:8080/",
          "height": 363
        },
        "outputId": "33dd0ab0-db6f-492f-e0c9-857ec1349b6b"
      },
      "source": [
        "# Take a peek at your raw data.\n",
        "data.head(10)"
      ],
      "execution_count": 3,
      "outputs": [
        {
          "output_type": "execute_result",
          "data": {
            "text/html": [
              "\n",
              "  <div id=\"df-dd4369fd-6aa0-4faf-9dde-3b198596dcca\">\n",
              "    <div class=\"colab-df-container\">\n",
              "      <div>\n",
              "<style scoped>\n",
              "    .dataframe tbody tr th:only-of-type {\n",
              "        vertical-align: middle;\n",
              "    }\n",
              "\n",
              "    .dataframe tbody tr th {\n",
              "        vertical-align: top;\n",
              "    }\n",
              "\n",
              "    .dataframe thead th {\n",
              "        text-align: right;\n",
              "    }\n",
              "</style>\n",
              "<table border=\"1\" class=\"dataframe\">\n",
              "  <thead>\n",
              "    <tr style=\"text-align: right;\">\n",
              "      <th></th>\n",
              "      <th>preg</th>\n",
              "      <th>plas</th>\n",
              "      <th>pres</th>\n",
              "      <th>skin</th>\n",
              "      <th>test</th>\n",
              "      <th>mass</th>\n",
              "      <th>pedi</th>\n",
              "      <th>age</th>\n",
              "      <th>class</th>\n",
              "    </tr>\n",
              "  </thead>\n",
              "  <tbody>\n",
              "    <tr>\n",
              "      <th>0</th>\n",
              "      <td>6</td>\n",
              "      <td>148</td>\n",
              "      <td>72</td>\n",
              "      <td>35</td>\n",
              "      <td>0</td>\n",
              "      <td>33.6</td>\n",
              "      <td>0.627</td>\n",
              "      <td>50</td>\n",
              "      <td>1</td>\n",
              "    </tr>\n",
              "    <tr>\n",
              "      <th>1</th>\n",
              "      <td>1</td>\n",
              "      <td>85</td>\n",
              "      <td>66</td>\n",
              "      <td>29</td>\n",
              "      <td>0</td>\n",
              "      <td>26.6</td>\n",
              "      <td>0.351</td>\n",
              "      <td>31</td>\n",
              "      <td>0</td>\n",
              "    </tr>\n",
              "    <tr>\n",
              "      <th>2</th>\n",
              "      <td>8</td>\n",
              "      <td>183</td>\n",
              "      <td>64</td>\n",
              "      <td>0</td>\n",
              "      <td>0</td>\n",
              "      <td>23.3</td>\n",
              "      <td>0.672</td>\n",
              "      <td>32</td>\n",
              "      <td>1</td>\n",
              "    </tr>\n",
              "    <tr>\n",
              "      <th>3</th>\n",
              "      <td>1</td>\n",
              "      <td>89</td>\n",
              "      <td>66</td>\n",
              "      <td>23</td>\n",
              "      <td>94</td>\n",
              "      <td>28.1</td>\n",
              "      <td>0.167</td>\n",
              "      <td>21</td>\n",
              "      <td>0</td>\n",
              "    </tr>\n",
              "    <tr>\n",
              "      <th>4</th>\n",
              "      <td>0</td>\n",
              "      <td>137</td>\n",
              "      <td>40</td>\n",
              "      <td>35</td>\n",
              "      <td>168</td>\n",
              "      <td>43.1</td>\n",
              "      <td>2.288</td>\n",
              "      <td>33</td>\n",
              "      <td>1</td>\n",
              "    </tr>\n",
              "    <tr>\n",
              "      <th>5</th>\n",
              "      <td>5</td>\n",
              "      <td>116</td>\n",
              "      <td>74</td>\n",
              "      <td>0</td>\n",
              "      <td>0</td>\n",
              "      <td>25.6</td>\n",
              "      <td>0.201</td>\n",
              "      <td>30</td>\n",
              "      <td>0</td>\n",
              "    </tr>\n",
              "    <tr>\n",
              "      <th>6</th>\n",
              "      <td>3</td>\n",
              "      <td>78</td>\n",
              "      <td>50</td>\n",
              "      <td>32</td>\n",
              "      <td>88</td>\n",
              "      <td>31.0</td>\n",
              "      <td>0.248</td>\n",
              "      <td>26</td>\n",
              "      <td>1</td>\n",
              "    </tr>\n",
              "    <tr>\n",
              "      <th>7</th>\n",
              "      <td>10</td>\n",
              "      <td>115</td>\n",
              "      <td>0</td>\n",
              "      <td>0</td>\n",
              "      <td>0</td>\n",
              "      <td>35.3</td>\n",
              "      <td>0.134</td>\n",
              "      <td>29</td>\n",
              "      <td>0</td>\n",
              "    </tr>\n",
              "    <tr>\n",
              "      <th>8</th>\n",
              "      <td>2</td>\n",
              "      <td>197</td>\n",
              "      <td>70</td>\n",
              "      <td>45</td>\n",
              "      <td>543</td>\n",
              "      <td>30.5</td>\n",
              "      <td>0.158</td>\n",
              "      <td>53</td>\n",
              "      <td>1</td>\n",
              "    </tr>\n",
              "    <tr>\n",
              "      <th>9</th>\n",
              "      <td>8</td>\n",
              "      <td>125</td>\n",
              "      <td>96</td>\n",
              "      <td>0</td>\n",
              "      <td>0</td>\n",
              "      <td>0.0</td>\n",
              "      <td>0.232</td>\n",
              "      <td>54</td>\n",
              "      <td>1</td>\n",
              "    </tr>\n",
              "  </tbody>\n",
              "</table>\n",
              "</div>\n",
              "      <button class=\"colab-df-convert\" onclick=\"convertToInteractive('df-dd4369fd-6aa0-4faf-9dde-3b198596dcca')\"\n",
              "              title=\"Convert this dataframe to an interactive table.\"\n",
              "              style=\"display:none;\">\n",
              "        \n",
              "  <svg xmlns=\"http://www.w3.org/2000/svg\" height=\"24px\"viewBox=\"0 0 24 24\"\n",
              "       width=\"24px\">\n",
              "    <path d=\"M0 0h24v24H0V0z\" fill=\"none\"/>\n",
              "    <path d=\"M18.56 5.44l.94 2.06.94-2.06 2.06-.94-2.06-.94-.94-2.06-.94 2.06-2.06.94zm-11 1L8.5 8.5l.94-2.06 2.06-.94-2.06-.94L8.5 2.5l-.94 2.06-2.06.94zm10 10l.94 2.06.94-2.06 2.06-.94-2.06-.94-.94-2.06-.94 2.06-2.06.94z\"/><path d=\"M17.41 7.96l-1.37-1.37c-.4-.4-.92-.59-1.43-.59-.52 0-1.04.2-1.43.59L10.3 9.45l-7.72 7.72c-.78.78-.78 2.05 0 2.83L4 21.41c.39.39.9.59 1.41.59.51 0 1.02-.2 1.41-.59l7.78-7.78 2.81-2.81c.8-.78.8-2.07 0-2.86zM5.41 20L4 18.59l7.72-7.72 1.47 1.35L5.41 20z\"/>\n",
              "  </svg>\n",
              "      </button>\n",
              "      \n",
              "  <style>\n",
              "    .colab-df-container {\n",
              "      display:flex;\n",
              "      flex-wrap:wrap;\n",
              "      gap: 12px;\n",
              "    }\n",
              "\n",
              "    .colab-df-convert {\n",
              "      background-color: #E8F0FE;\n",
              "      border: none;\n",
              "      border-radius: 50%;\n",
              "      cursor: pointer;\n",
              "      display: none;\n",
              "      fill: #1967D2;\n",
              "      height: 32px;\n",
              "      padding: 0 0 0 0;\n",
              "      width: 32px;\n",
              "    }\n",
              "\n",
              "    .colab-df-convert:hover {\n",
              "      background-color: #E2EBFA;\n",
              "      box-shadow: 0px 1px 2px rgba(60, 64, 67, 0.3), 0px 1px 3px 1px rgba(60, 64, 67, 0.15);\n",
              "      fill: #174EA6;\n",
              "    }\n",
              "\n",
              "    [theme=dark] .colab-df-convert {\n",
              "      background-color: #3B4455;\n",
              "      fill: #D2E3FC;\n",
              "    }\n",
              "\n",
              "    [theme=dark] .colab-df-convert:hover {\n",
              "      background-color: #434B5C;\n",
              "      box-shadow: 0px 1px 3px 1px rgba(0, 0, 0, 0.15);\n",
              "      filter: drop-shadow(0px 1px 2px rgba(0, 0, 0, 0.3));\n",
              "      fill: #FFFFFF;\n",
              "    }\n",
              "  </style>\n",
              "\n",
              "      <script>\n",
              "        const buttonEl =\n",
              "          document.querySelector('#df-dd4369fd-6aa0-4faf-9dde-3b198596dcca button.colab-df-convert');\n",
              "        buttonEl.style.display =\n",
              "          google.colab.kernel.accessAllowed ? 'block' : 'none';\n",
              "\n",
              "        async function convertToInteractive(key) {\n",
              "          const element = document.querySelector('#df-dd4369fd-6aa0-4faf-9dde-3b198596dcca');\n",
              "          const dataTable =\n",
              "            await google.colab.kernel.invokeFunction('convertToInteractive',\n",
              "                                                     [key], {});\n",
              "          if (!dataTable) return;\n",
              "\n",
              "          const docLinkHtml = 'Like what you see? Visit the ' +\n",
              "            '<a target=\"_blank\" href=https://colab.research.google.com/notebooks/data_table.ipynb>data table notebook</a>'\n",
              "            + ' to learn more about interactive tables.';\n",
              "          element.innerHTML = '';\n",
              "          dataTable['output_type'] = 'display_data';\n",
              "          await google.colab.output.renderOutput(dataTable, element);\n",
              "          const docLink = document.createElement('div');\n",
              "          docLink.innerHTML = docLinkHtml;\n",
              "          element.appendChild(docLink);\n",
              "        }\n",
              "      </script>\n",
              "    </div>\n",
              "  </div>\n",
              "  "
            ],
            "text/plain": [
              "   preg  plas  pres  skin  test  mass   pedi  age  class\n",
              "0     6   148    72    35     0  33.6  0.627   50      1\n",
              "1     1    85    66    29     0  26.6  0.351   31      0\n",
              "2     8   183    64     0     0  23.3  0.672   32      1\n",
              "3     1    89    66    23    94  28.1  0.167   21      0\n",
              "4     0   137    40    35   168  43.1  2.288   33      1\n",
              "5     5   116    74     0     0  25.6  0.201   30      0\n",
              "6     3    78    50    32    88  31.0  0.248   26      1\n",
              "7    10   115     0     0     0  35.3  0.134   29      0\n",
              "8     2   197    70    45   543  30.5  0.158   53      1\n",
              "9     8   125    96     0     0   0.0  0.232   54      1"
            ]
          },
          "metadata": {},
          "execution_count": 3
        }
      ]
    },
    {
      "cell_type": "code",
      "metadata": {
        "id": "3oSrLuecQ97C",
        "colab": {
          "base_uri": "https://localhost:8080/"
        },
        "outputId": "72ec756b-b698-417f-e228-c52fa6c8dd75"
      },
      "source": [
        "# Review the dimensions of your dataset.\n",
        "data.shape"
      ],
      "execution_count": 4,
      "outputs": [
        {
          "output_type": "execute_result",
          "data": {
            "text/plain": [
              "(768, 9)"
            ]
          },
          "metadata": {},
          "execution_count": 4
        }
      ]
    },
    {
      "cell_type": "code",
      "metadata": {
        "id": "EoCXgdY7RA8H",
        "colab": {
          "base_uri": "https://localhost:8080/"
        },
        "outputId": "2f70a3f0-1eaf-4396-9281-4a075f9b39ab"
      },
      "source": [
        "# Review the data types of attributes in your data.\n",
        "data.dtypes"
      ],
      "execution_count": 5,
      "outputs": [
        {
          "output_type": "execute_result",
          "data": {
            "text/plain": [
              "preg       int64\n",
              "plas       int64\n",
              "pres       int64\n",
              "skin       int64\n",
              "test       int64\n",
              "mass     float64\n",
              "pedi     float64\n",
              "age        int64\n",
              "class      int64\n",
              "dtype: object"
            ]
          },
          "metadata": {},
          "execution_count": 5
        }
      ]
    },
    {
      "cell_type": "markdown",
      "metadata": {
        "id": "MCgpzOhQRdHM"
      },
      "source": [
        "## Descriptive Statistics"
      ]
    },
    {
      "cell_type": "code",
      "metadata": {
        "id": "lkO4zz1b2oc_",
        "colab": {
          "base_uri": "https://localhost:8080/"
        },
        "outputId": "f14caf2a-45a0-4fe3-e29e-f8482ff0bf9d"
      },
      "source": [
        "data.info()"
      ],
      "execution_count": 6,
      "outputs": [
        {
          "output_type": "stream",
          "name": "stdout",
          "text": [
            "<class 'pandas.core.frame.DataFrame'>\n",
            "RangeIndex: 768 entries, 0 to 767\n",
            "Data columns (total 9 columns):\n",
            " #   Column  Non-Null Count  Dtype  \n",
            "---  ------  --------------  -----  \n",
            " 0   preg    768 non-null    int64  \n",
            " 1   plas    768 non-null    int64  \n",
            " 2   pres    768 non-null    int64  \n",
            " 3   skin    768 non-null    int64  \n",
            " 4   test    768 non-null    int64  \n",
            " 5   mass    768 non-null    float64\n",
            " 6   pedi    768 non-null    float64\n",
            " 7   age     768 non-null    int64  \n",
            " 8   class   768 non-null    int64  \n",
            "dtypes: float64(2), int64(7)\n",
            "memory usage: 54.1 KB\n"
          ]
        }
      ]
    },
    {
      "cell_type": "code",
      "metadata": {
        "id": "DnXLTnAiRCre",
        "colab": {
          "base_uri": "https://localhost:8080/",
          "height": 300
        },
        "outputId": "28d8bf45-b869-47e9-f1be-0ba7caaa2828"
      },
      "source": [
        "# Summarize the distribution of instances across classes in your dataset.\n",
        "data.describe(include=\"all\")"
      ],
      "execution_count": 7,
      "outputs": [
        {
          "output_type": "execute_result",
          "data": {
            "text/html": [
              "\n",
              "  <div id=\"df-78468df5-d9e1-4b60-a0de-14fe19dd9378\">\n",
              "    <div class=\"colab-df-container\">\n",
              "      <div>\n",
              "<style scoped>\n",
              "    .dataframe tbody tr th:only-of-type {\n",
              "        vertical-align: middle;\n",
              "    }\n",
              "\n",
              "    .dataframe tbody tr th {\n",
              "        vertical-align: top;\n",
              "    }\n",
              "\n",
              "    .dataframe thead th {\n",
              "        text-align: right;\n",
              "    }\n",
              "</style>\n",
              "<table border=\"1\" class=\"dataframe\">\n",
              "  <thead>\n",
              "    <tr style=\"text-align: right;\">\n",
              "      <th></th>\n",
              "      <th>preg</th>\n",
              "      <th>plas</th>\n",
              "      <th>pres</th>\n",
              "      <th>skin</th>\n",
              "      <th>test</th>\n",
              "      <th>mass</th>\n",
              "      <th>pedi</th>\n",
              "      <th>age</th>\n",
              "      <th>class</th>\n",
              "    </tr>\n",
              "  </thead>\n",
              "  <tbody>\n",
              "    <tr>\n",
              "      <th>count</th>\n",
              "      <td>768.000000</td>\n",
              "      <td>768.000000</td>\n",
              "      <td>768.000000</td>\n",
              "      <td>768.000000</td>\n",
              "      <td>768.000000</td>\n",
              "      <td>768.000000</td>\n",
              "      <td>768.000000</td>\n",
              "      <td>768.000000</td>\n",
              "      <td>768.000000</td>\n",
              "    </tr>\n",
              "    <tr>\n",
              "      <th>mean</th>\n",
              "      <td>3.845052</td>\n",
              "      <td>120.894531</td>\n",
              "      <td>69.105469</td>\n",
              "      <td>20.536458</td>\n",
              "      <td>79.799479</td>\n",
              "      <td>31.992578</td>\n",
              "      <td>0.471876</td>\n",
              "      <td>33.240885</td>\n",
              "      <td>0.348958</td>\n",
              "    </tr>\n",
              "    <tr>\n",
              "      <th>std</th>\n",
              "      <td>3.369578</td>\n",
              "      <td>31.972618</td>\n",
              "      <td>19.355807</td>\n",
              "      <td>15.952218</td>\n",
              "      <td>115.244002</td>\n",
              "      <td>7.884160</td>\n",
              "      <td>0.331329</td>\n",
              "      <td>11.760232</td>\n",
              "      <td>0.476951</td>\n",
              "    </tr>\n",
              "    <tr>\n",
              "      <th>min</th>\n",
              "      <td>0.000000</td>\n",
              "      <td>0.000000</td>\n",
              "      <td>0.000000</td>\n",
              "      <td>0.000000</td>\n",
              "      <td>0.000000</td>\n",
              "      <td>0.000000</td>\n",
              "      <td>0.078000</td>\n",
              "      <td>21.000000</td>\n",
              "      <td>0.000000</td>\n",
              "    </tr>\n",
              "    <tr>\n",
              "      <th>25%</th>\n",
              "      <td>1.000000</td>\n",
              "      <td>99.000000</td>\n",
              "      <td>62.000000</td>\n",
              "      <td>0.000000</td>\n",
              "      <td>0.000000</td>\n",
              "      <td>27.300000</td>\n",
              "      <td>0.243750</td>\n",
              "      <td>24.000000</td>\n",
              "      <td>0.000000</td>\n",
              "    </tr>\n",
              "    <tr>\n",
              "      <th>50%</th>\n",
              "      <td>3.000000</td>\n",
              "      <td>117.000000</td>\n",
              "      <td>72.000000</td>\n",
              "      <td>23.000000</td>\n",
              "      <td>30.500000</td>\n",
              "      <td>32.000000</td>\n",
              "      <td>0.372500</td>\n",
              "      <td>29.000000</td>\n",
              "      <td>0.000000</td>\n",
              "    </tr>\n",
              "    <tr>\n",
              "      <th>75%</th>\n",
              "      <td>6.000000</td>\n",
              "      <td>140.250000</td>\n",
              "      <td>80.000000</td>\n",
              "      <td>32.000000</td>\n",
              "      <td>127.250000</td>\n",
              "      <td>36.600000</td>\n",
              "      <td>0.626250</td>\n",
              "      <td>41.000000</td>\n",
              "      <td>1.000000</td>\n",
              "    </tr>\n",
              "    <tr>\n",
              "      <th>max</th>\n",
              "      <td>17.000000</td>\n",
              "      <td>199.000000</td>\n",
              "      <td>122.000000</td>\n",
              "      <td>99.000000</td>\n",
              "      <td>846.000000</td>\n",
              "      <td>67.100000</td>\n",
              "      <td>2.420000</td>\n",
              "      <td>81.000000</td>\n",
              "      <td>1.000000</td>\n",
              "    </tr>\n",
              "  </tbody>\n",
              "</table>\n",
              "</div>\n",
              "      <button class=\"colab-df-convert\" onclick=\"convertToInteractive('df-78468df5-d9e1-4b60-a0de-14fe19dd9378')\"\n",
              "              title=\"Convert this dataframe to an interactive table.\"\n",
              "              style=\"display:none;\">\n",
              "        \n",
              "  <svg xmlns=\"http://www.w3.org/2000/svg\" height=\"24px\"viewBox=\"0 0 24 24\"\n",
              "       width=\"24px\">\n",
              "    <path d=\"M0 0h24v24H0V0z\" fill=\"none\"/>\n",
              "    <path d=\"M18.56 5.44l.94 2.06.94-2.06 2.06-.94-2.06-.94-.94-2.06-.94 2.06-2.06.94zm-11 1L8.5 8.5l.94-2.06 2.06-.94-2.06-.94L8.5 2.5l-.94 2.06-2.06.94zm10 10l.94 2.06.94-2.06 2.06-.94-2.06-.94-.94-2.06-.94 2.06-2.06.94z\"/><path d=\"M17.41 7.96l-1.37-1.37c-.4-.4-.92-.59-1.43-.59-.52 0-1.04.2-1.43.59L10.3 9.45l-7.72 7.72c-.78.78-.78 2.05 0 2.83L4 21.41c.39.39.9.59 1.41.59.51 0 1.02-.2 1.41-.59l7.78-7.78 2.81-2.81c.8-.78.8-2.07 0-2.86zM5.41 20L4 18.59l7.72-7.72 1.47 1.35L5.41 20z\"/>\n",
              "  </svg>\n",
              "      </button>\n",
              "      \n",
              "  <style>\n",
              "    .colab-df-container {\n",
              "      display:flex;\n",
              "      flex-wrap:wrap;\n",
              "      gap: 12px;\n",
              "    }\n",
              "\n",
              "    .colab-df-convert {\n",
              "      background-color: #E8F0FE;\n",
              "      border: none;\n",
              "      border-radius: 50%;\n",
              "      cursor: pointer;\n",
              "      display: none;\n",
              "      fill: #1967D2;\n",
              "      height: 32px;\n",
              "      padding: 0 0 0 0;\n",
              "      width: 32px;\n",
              "    }\n",
              "\n",
              "    .colab-df-convert:hover {\n",
              "      background-color: #E2EBFA;\n",
              "      box-shadow: 0px 1px 2px rgba(60, 64, 67, 0.3), 0px 1px 3px 1px rgba(60, 64, 67, 0.15);\n",
              "      fill: #174EA6;\n",
              "    }\n",
              "\n",
              "    [theme=dark] .colab-df-convert {\n",
              "      background-color: #3B4455;\n",
              "      fill: #D2E3FC;\n",
              "    }\n",
              "\n",
              "    [theme=dark] .colab-df-convert:hover {\n",
              "      background-color: #434B5C;\n",
              "      box-shadow: 0px 1px 3px 1px rgba(0, 0, 0, 0.15);\n",
              "      filter: drop-shadow(0px 1px 2px rgba(0, 0, 0, 0.3));\n",
              "      fill: #FFFFFF;\n",
              "    }\n",
              "  </style>\n",
              "\n",
              "      <script>\n",
              "        const buttonEl =\n",
              "          document.querySelector('#df-78468df5-d9e1-4b60-a0de-14fe19dd9378 button.colab-df-convert');\n",
              "        buttonEl.style.display =\n",
              "          google.colab.kernel.accessAllowed ? 'block' : 'none';\n",
              "\n",
              "        async function convertToInteractive(key) {\n",
              "          const element = document.querySelector('#df-78468df5-d9e1-4b60-a0de-14fe19dd9378');\n",
              "          const dataTable =\n",
              "            await google.colab.kernel.invokeFunction('convertToInteractive',\n",
              "                                                     [key], {});\n",
              "          if (!dataTable) return;\n",
              "\n",
              "          const docLinkHtml = 'Like what you see? Visit the ' +\n",
              "            '<a target=\"_blank\" href=https://colab.research.google.com/notebooks/data_table.ipynb>data table notebook</a>'\n",
              "            + ' to learn more about interactive tables.';\n",
              "          element.innerHTML = '';\n",
              "          dataTable['output_type'] = 'display_data';\n",
              "          await google.colab.output.renderOutput(dataTable, element);\n",
              "          const docLink = document.createElement('div');\n",
              "          docLink.innerHTML = docLinkHtml;\n",
              "          element.appendChild(docLink);\n",
              "        }\n",
              "      </script>\n",
              "    </div>\n",
              "  </div>\n",
              "  "
            ],
            "text/plain": [
              "             preg        plas        pres  ...        pedi         age       class\n",
              "count  768.000000  768.000000  768.000000  ...  768.000000  768.000000  768.000000\n",
              "mean     3.845052  120.894531   69.105469  ...    0.471876   33.240885    0.348958\n",
              "std      3.369578   31.972618   19.355807  ...    0.331329   11.760232    0.476951\n",
              "min      0.000000    0.000000    0.000000  ...    0.078000   21.000000    0.000000\n",
              "25%      1.000000   99.000000   62.000000  ...    0.243750   24.000000    0.000000\n",
              "50%      3.000000  117.000000   72.000000  ...    0.372500   29.000000    0.000000\n",
              "75%      6.000000  140.250000   80.000000  ...    0.626250   41.000000    1.000000\n",
              "max     17.000000  199.000000  122.000000  ...    2.420000   81.000000    1.000000\n",
              "\n",
              "[8 rows x 9 columns]"
            ]
          },
          "metadata": {},
          "execution_count": 7
        }
      ]
    },
    {
      "cell_type": "code",
      "metadata": {
        "id": "LNKqyP9E6NuJ",
        "colab": {
          "base_uri": "https://localhost:8080/"
        },
        "outputId": "311b3988-063a-4629-98ed-8a5374125da5"
      },
      "source": [
        "# mean\n",
        "data[\"age\"].mean()"
      ],
      "execution_count": 8,
      "outputs": [
        {
          "output_type": "execute_result",
          "data": {
            "text/plain": [
              "33.240885416666664"
            ]
          },
          "metadata": {},
          "execution_count": 8
        }
      ]
    },
    {
      "cell_type": "code",
      "metadata": {
        "id": "Gic8VCe_6Tvq",
        "colab": {
          "base_uri": "https://localhost:8080/"
        },
        "outputId": "ed12c8e1-409b-458b-83fa-a865ed178697"
      },
      "source": [
        "# std\n",
        "data[\"age\"].std()"
      ],
      "execution_count": 9,
      "outputs": [
        {
          "output_type": "execute_result",
          "data": {
            "text/plain": [
              "11.76023154067868"
            ]
          },
          "metadata": {},
          "execution_count": 9
        }
      ]
    },
    {
      "cell_type": "code",
      "metadata": {
        "id": "XFa3uaa36Ts2",
        "colab": {
          "base_uri": "https://localhost:8080/"
        },
        "outputId": "80ded900-8375-4143-a753-670d6d36aba2"
      },
      "source": [
        "# variance\n",
        "data[\"age\"].var()"
      ],
      "execution_count": 10,
      "outputs": [
        {
          "output_type": "execute_result",
          "data": {
            "text/plain": [
              "138.30304589037365"
            ]
          },
          "metadata": {},
          "execution_count": 10
        }
      ]
    },
    {
      "cell_type": "code",
      "metadata": {
        "id": "EGkoD_lZ6Tp3",
        "colab": {
          "base_uri": "https://localhost:8080/"
        },
        "outputId": "effddd93-d82f-4479-e20d-4af3f176ed80"
      },
      "source": [
        "# mode\n",
        "data[\"age\"].mode()"
      ],
      "execution_count": 11,
      "outputs": [
        {
          "output_type": "execute_result",
          "data": {
            "text/plain": [
              "0    22\n",
              "dtype: int64"
            ]
          },
          "metadata": {},
          "execution_count": 11
        }
      ]
    },
    {
      "cell_type": "code",
      "metadata": {
        "id": "aiK2gXtJ6TnD",
        "colab": {
          "base_uri": "https://localhost:8080/"
        },
        "outputId": "10a6ff90-acdc-43c4-8c61-403e505e435d"
      },
      "source": [
        "# median\n",
        "data[\"age\"].median()"
      ],
      "execution_count": 12,
      "outputs": [
        {
          "output_type": "execute_result",
          "data": {
            "text/plain": [
              "29.0"
            ]
          },
          "metadata": {},
          "execution_count": 12
        }
      ]
    },
    {
      "cell_type": "code",
      "metadata": {
        "id": "r4KrXJMH6TkB",
        "colab": {
          "base_uri": "https://localhost:8080/"
        },
        "outputId": "fad17695-175c-4961-ad59-7be2e67c6cf2"
      },
      "source": [
        "# interquartile range (IQR)\n",
        "from scipy.stats import iqr\n",
        "iqr(data[\"age\"])"
      ],
      "execution_count": 13,
      "outputs": [
        {
          "output_type": "execute_result",
          "data": {
            "text/plain": [
              "17.0"
            ]
          },
          "metadata": {},
          "execution_count": 13
        }
      ]
    },
    {
      "cell_type": "code",
      "metadata": {
        "id": "rINKA1xJZMHi",
        "colab": {
          "base_uri": "https://localhost:8080/"
        },
        "outputId": "cf5e9db9-216e-4d7f-b84b-885a400798de"
      },
      "source": [
        "# 10th percentile\n",
        "data[\"age\"].quantile(0.1)"
      ],
      "execution_count": 14,
      "outputs": [
        {
          "output_type": "execute_result",
          "data": {
            "text/plain": [
              "22.0"
            ]
          },
          "metadata": {},
          "execution_count": 14
        }
      ]
    },
    {
      "cell_type": "code",
      "metadata": {
        "id": "_lrq-aRxnPdT",
        "colab": {
          "base_uri": "https://localhost:8080/"
        },
        "outputId": "2785947e-535e-433b-d66e-e273da563e24"
      },
      "source": [
        "# 50th percentile same as median\n",
        "data[\"age\"].quantile(0.5)"
      ],
      "execution_count": 15,
      "outputs": [
        {
          "output_type": "execute_result",
          "data": {
            "text/plain": [
              "29.0"
            ]
          },
          "metadata": {},
          "execution_count": 15
        }
      ]
    },
    {
      "cell_type": "code",
      "metadata": {
        "id": "POf3_f__nPpm",
        "colab": {
          "base_uri": "https://localhost:8080/"
        },
        "outputId": "1b2ee1b0-f114-4bbc-d2bb-8ece41d55d74"
      },
      "source": [
        "# 90th percentile\n",
        "data[\"age\"].quantile(0.9)"
      ],
      "execution_count": 16,
      "outputs": [
        {
          "output_type": "execute_result",
          "data": {
            "text/plain": [
              "51.0"
            ]
          },
          "metadata": {},
          "execution_count": 16
        }
      ]
    },
    {
      "cell_type": "code",
      "metadata": {
        "id": "TC0yBBfGRD41",
        "colab": {
          "base_uri": "https://localhost:8080/"
        },
        "outputId": "1732f37a-b082-4fef-9acf-ee12f8f51a59"
      },
      "source": [
        "# Class Distribution \n",
        "data.groupby('class').size()"
      ],
      "execution_count": 17,
      "outputs": [
        {
          "output_type": "execute_result",
          "data": {
            "text/plain": [
              "class\n",
              "0    500\n",
              "1    268\n",
              "dtype: int64"
            ]
          },
          "metadata": {},
          "execution_count": 17
        }
      ]
    },
    {
      "cell_type": "code",
      "metadata": {
        "id": "NbiawuWERH02",
        "colab": {
          "base_uri": "https://localhost:8080/",
          "height": 280
        },
        "outputId": "19016f60-f6ed-4ad8-9401-6e9fa951b97a"
      },
      "source": [
        "# Histograms\n",
        "data.hist(bins=20) # adjust bin, range \n",
        "plt.show()"
      ],
      "execution_count": 18,
      "outputs": [
        {
          "output_type": "display_data",
          "data": {
            "image/png": "[encoded data removed]",
            "text/plain": [
              "<Figure size 432x288 with 9 Axes>"
            ]
          },
          "metadata": {
            "needs_background": "light"
          }
        }
      ]
    },
    {
      "cell_type": "code",
      "metadata": {
        "id": "X_tn7xwLRJvo",
        "colab": {
          "base_uri": "https://localhost:8080/",
          "height": 265
        },
        "outputId": "130292cf-4e07-45df-f300-4f24ab5e96eb"
      },
      "source": [
        "# Density distribution\n",
        "data.plot(kind= 'density' , subplots=True, layout=(3,3), sharex=False)\n",
        "plt.show()"
      ],
      "execution_count": 19,
      "outputs": [
        {
          "output_type": "display_data",
          "data": {
            "image/png": "[encoded data removed]",
            "text/plain": [
              "<Figure size 432x288 with 9 Axes>"
            ]
          },
          "metadata": {
            "needs_background": "light"
          }
        }
      ]
    },
    {
      "cell_type": "code",
      "metadata": {
        "id": "XdaGzJ6nY8LQ",
        "colab": {
          "base_uri": "https://localhost:8080/",
          "height": 267
        },
        "outputId": "444a2c69-5cbd-4905-a622-d8d984b1055c"
      },
      "source": [
        "# Box plot\n",
        "# Box plot with points representing data that extend beyond the whiskers (outliers)\n",
        "data.plot(kind= 'box' , subplots=True, layout=(3,3), sharex=False, sharey=False)\n",
        "plt.show()"
      ],
      "execution_count": 20,
      "outputs": [
        {
          "output_type": "display_data",
          "data": {
            "image/png": "[encoded data removed]",
            "text/plain": [
              "<Figure size 432x288 with 9 Axes>"
            ]
          },
          "metadata": {
            "needs_background": "light"
          }
        }
      ]
    },
    {
      "cell_type": "code",
      "metadata": {
        "id": "IpGw9eDxRTMT",
        "colab": {
          "base_uri": "https://localhost:8080/",
          "height": 267
        },
        "outputId": "ccd9f6e9-dc14-401b-c268-559f6321bbea"
      },
      "source": [
        "# don't show outliers\n",
        "data.plot(kind= 'box' , subplots=True, layout=(3,3), sharex=False, sharey=False, showfliers=False)\n",
        "plt.show()"
      ],
      "execution_count": 21,
      "outputs": [
        {
          "output_type": "display_data",
          "data": {
            "image/png": "[encoded data removed]",
            "text/plain": [
              "<Figure size 432x288 with 9 Axes>"
            ]
          },
          "metadata": {
            "needs_background": "light"
          }
        }
      ]
    },
    {
      "cell_type": "code",
      "metadata": {
        "id": "n1zPq2jnnmwa",
        "colab": {
          "base_uri": "https://localhost:8080/"
        },
        "outputId": "44988515-3e75-427e-c6d8-72263cc84546"
      },
      "source": [
        "# X% Truncated (Trimmed) Mean\n",
        "# x% of observations from each end are removed before the mean is computed\n",
        "from scipy import stats\n",
        "# scipy.stats.trim_mean(a, proportiontocut, axis=0)[source]\n",
        "# If proportiontocut = 0.1, slices off ‘leftmost’ and ‘rightmost’ 10% of scores.\n",
        "stats.trim_mean(data[\"age\"], 0.1)"
      ],
      "execution_count": 22,
      "outputs": [
        {
          "output_type": "execute_result",
          "data": {
            "text/plain": [
              "31.54383116883117"
            ]
          },
          "metadata": {},
          "execution_count": 22
        }
      ]
    },
    {
      "cell_type": "code",
      "metadata": {
        "id": "0VJ7OpGen6Ll",
        "colab": {
          "base_uri": "https://localhost:8080/"
        },
        "outputId": "fecb2475-0345-4fe2-9286-af7cc5093323"
      },
      "source": [
        "# X% Winsorized Mean\n",
        "# x% of observations from each end are replaced with the most extreme remaining values (on both ends) before the mean is computed\n",
        "\n",
        "# https://docs.scipy.org/doc/scipy-0.14.0/reference/generated/scipy.stats.mstats.winsorize.html\n",
        "\n",
        "age = data[\"age\"]\n",
        "age.describe()"
      ],
      "execution_count": 23,
      "outputs": [
        {
          "output_type": "execute_result",
          "data": {
            "text/plain": [
              "count    768.000000\n",
              "mean      33.240885\n",
              "std       11.760232\n",
              "min       21.000000\n",
              "25%       24.000000\n",
              "50%       29.000000\n",
              "75%       41.000000\n",
              "max       81.000000\n",
              "Name: age, dtype: float64"
            ]
          },
          "metadata": {},
          "execution_count": 23
        }
      ]
    },
    {
      "cell_type": "code",
      "metadata": {
        "id": "dEq5LZE9EHhH",
        "colab": {
          "base_uri": "https://localhost:8080/"
        },
        "outputId": "83e6d5ff-efdf-49b9-ebd3-12c6620e122d"
      },
      "source": [
        "# The 10% of the lowest value and the 20% of the highest\n",
        "stats.mstats.winsorize(age, limits=[0.1, 0.2], inplace=True)\n",
        "age.describe()"
      ],
      "execution_count": 24,
      "outputs": [
        {
          "output_type": "execute_result",
          "data": {
            "text/plain": [
              "count    768.000000\n",
              "mean      31.404948\n",
              "std        8.043644\n",
              "min       22.000000\n",
              "25%       24.000000\n",
              "50%       29.000000\n",
              "75%       41.000000\n",
              "max       43.000000\n",
              "Name: age, dtype: float64"
            ]
          },
          "metadata": {},
          "execution_count": 24
        }
      ]
    },
    {
      "cell_type": "markdown",
      "metadata": {
        "id": "g_TPgz5lV5JI"
      },
      "source": [
        "# Part2: Inferential Statistics\n"
      ]
    },
    {
      "cell_type": "code",
      "metadata": {
        "id": "vm6uQ3gxohKJ"
      },
      "source": [
        "import pandas as pd\n",
        "import numpy as np\n",
        "\n",
        "import matplotlib.pyplot as plt\n",
        "% matplotlib inline\n",
        "\n",
        "np.random.seed(42)"
      ],
      "execution_count": 25,
      "outputs": []
    },
    {
      "cell_type": "code",
      "metadata": {
        "id": "9UrNfQOPrmaF",
        "colab": {
          "base_uri": "https://localhost:8080/"
        },
        "outputId": "8fce36da-d531-4738-a342-7ea8fa002670"
      },
      "source": [
        "coffee_full = pd.read_csv('https://github.com/kaopanboonyuen/2110446_DataScience_2021s2/raw/main/datasets/coffee_dataset.csv')\n",
        "print(coffee_full.shape)"
      ],
      "execution_count": 26,
      "outputs": [
        {
          "output_type": "stream",
          "name": "stdout",
          "text": [
            "(2974, 4)\n"
          ]
        }
      ]
    },
    {
      "cell_type": "code",
      "metadata": {
        "id": "7QY8RVtFer8b",
        "colab": {
          "base_uri": "https://localhost:8080/"
        },
        "outputId": "024478b3-ec91-4b3d-fffa-6af8022306a9"
      },
      "source": [
        "coffee_full.info()"
      ],
      "execution_count": 27,
      "outputs": [
        {
          "output_type": "stream",
          "name": "stdout",
          "text": [
            "<class 'pandas.core.frame.DataFrame'>\n",
            "RangeIndex: 2974 entries, 0 to 2973\n",
            "Data columns (total 4 columns):\n",
            " #   Column         Non-Null Count  Dtype  \n",
            "---  ------         --------------  -----  \n",
            " 0   user_id        2974 non-null   int64  \n",
            " 1   age            2974 non-null   object \n",
            " 2   drinks_coffee  2974 non-null   bool   \n",
            " 3   height         2974 non-null   float64\n",
            "dtypes: bool(1), float64(1), int64(1), object(1)\n",
            "memory usage: 72.7+ KB\n"
          ]
        }
      ]
    },
    {
      "cell_type": "code",
      "metadata": {
        "id": "94En1WZEer6g",
        "colab": {
          "base_uri": "https://localhost:8080/"
        },
        "outputId": "c24fa146-92c3-48e3-fb77-777693173052"
      },
      "source": [
        "# population\n",
        "coffee_full[\"drinks_coffee\"].mean()"
      ],
      "execution_count": 28,
      "outputs": [
        {
          "output_type": "execute_result",
          "data": {
            "text/plain": [
              "0.589778076664425"
            ]
          },
          "metadata": {},
          "execution_count": 28
        }
      ]
    },
    {
      "cell_type": "code",
      "metadata": {
        "id": "bZWIz2h4fHgw",
        "colab": {
          "base_uri": "https://localhost:8080/"
        },
        "outputId": "c71c1bdb-122d-48d4-d3ce-d7417cc4e19e"
      },
      "source": [
        "# sample1\n",
        "coffee_sample = coffee_full.sample(200)\n",
        "coffee_sample[\"drinks_coffee\"].mean()"
      ],
      "execution_count": 29,
      "outputs": [
        {
          "output_type": "execute_result",
          "data": {
            "text/plain": [
              "0.595"
            ]
          },
          "metadata": {},
          "execution_count": 29
        }
      ]
    },
    {
      "cell_type": "code",
      "metadata": {
        "id": "0JGO7gw4fHeS",
        "colab": {
          "base_uri": "https://localhost:8080/"
        },
        "outputId": "4760bf9a-bc21-4abf-d670-36e089914015"
      },
      "source": [
        "# sample2\n",
        "coffee_sample = coffee_full.sample(200)\n",
        "coffee_sample[\"drinks_coffee\"].mean()"
      ],
      "execution_count": 30,
      "outputs": [
        {
          "output_type": "execute_result",
          "data": {
            "text/plain": [
              "0.58"
            ]
          },
          "metadata": {},
          "execution_count": 30
        }
      ]
    },
    {
      "cell_type": "code",
      "metadata": {
        "id": "XMlKVfS6gBRx",
        "colab": {
          "base_uri": "https://localhost:8080/"
        },
        "outputId": "43c25f56-7fe1-4fdf-a295-22afc396aa77"
      },
      "source": [
        "# sample3\n",
        "coffee_sample = coffee_full.sample(200)\n",
        "coffee_sample[\"drinks_coffee\"].mean()"
      ],
      "execution_count": 31,
      "outputs": [
        {
          "output_type": "execute_result",
          "data": {
            "text/plain": [
              "0.55"
            ]
          },
          "metadata": {},
          "execution_count": 31
        }
      ]
    },
    {
      "cell_type": "code",
      "metadata": {
        "id": "Yyn6S5X0gBPW",
        "colab": {
          "base_uri": "https://localhost:8080/",
          "height": 265
        },
        "outputId": "f42f712c-f551-40bb-b88d-1d96f0be8263"
      },
      "source": [
        "# central limit theorem; is it normal distribution?\n",
        "# population mean = 0.589778076664425\n",
        "sample_means = []\n",
        "for _ in range(10000):\n",
        "  coffee_sample = coffee_full.sample(200)\n",
        "  m = coffee_sample[\"drinks_coffee\"].mean()\n",
        "  sample_means.append(m)\n",
        "    \n",
        "plt.hist(sample_means, bins=30)\n",
        "plt.show()"
      ],
      "execution_count": 32,
      "outputs": [
        {
          "output_type": "display_data",
          "data": {
            "image/png": "[encoded data removed]",
            "text/plain": [
              "<Figure size 432x288 with 1 Axes>"
            ]
          },
          "metadata": {
            "needs_background": "light"
          }
        }
      ]
    },
    {
      "cell_type": "code",
      "metadata": {
        "id": "C7sqCt9LgREw",
        "colab": {
          "base_uri": "https://localhost:8080/"
        },
        "outputId": "caf12f2c-750f-4cac-9069-c4a8a2df945b"
      },
      "source": [
        "# confidence interval\n",
        "# population mean = 0.589778076664425\n",
        "\n",
        "def mean_confidence_interval(data, confidence=0.95):\n",
        "  a = 1.0 * np.array(data)\n",
        "  n = len(a)\n",
        "  m = np.mean(a) \n",
        "  se = scipy.stats.sem(a)\n",
        "  h = se * scipy.stats.t.ppf((1 + confidence) / 2., n-1)\n",
        "  return m, h, m-h, m+h\n",
        "\n",
        "coffee_sample = coffee_full.sample(200)\n",
        "data = coffee_sample[\"drinks_coffee\"]\n",
        "m, bound, lower1, upper1 = mean_confidence_interval(data)\n",
        "print(m, lower1, upper1)"
      ],
      "execution_count": 33,
      "outputs": [
        {
          "output_type": "stream",
          "name": "stdout",
          "text": [
            "0.585 0.5161232282746694 0.6538767717253305\n"
          ]
        }
      ]
    },
    {
      "cell_type": "code",
      "metadata": {
        "id": "swwFNq0ciF1W",
        "colab": {
          "base_uri": "https://localhost:8080/"
        },
        "outputId": "a51af8da-f263-45fb-8b70-4fe82a07f7ac"
      },
      "source": [
        "# confidence interval with function\n",
        "import numpy as np, scipy.stats as st\n",
        "st.t.interval(0.95, len(data)-1, loc=np.mean(data), scale=st.sem(data))"
      ],
      "execution_count": 34,
      "outputs": [
        {
          "output_type": "execute_result",
          "data": {
            "text/plain": [
              "(0.5161232282746694, 0.6538767717253305)"
            ]
          },
          "metadata": {},
          "execution_count": 34
        }
      ]
    },
    {
      "cell_type": "markdown",
      "metadata": {
        "id": "nDw5YpTI9J5r"
      },
      "source": [
        "## Central Limit Theorem (optional)\n",
        "\n",
        "\n",
        "*   Vary number of samplings\n",
        "*   Vary sampling size\n",
        "\n"
      ]
    },
    {
      "cell_type": "code",
      "metadata": {
        "id": "Ar3ldAzS9LYR",
        "colab": {
          "base_uri": "https://localhost:8080/",
          "height": 592
        },
        "outputId": "43ec250f-e5b5-454e-a24f-99a8c7978436"
      },
      "source": [
        "#---------------------------------------\n",
        "# Generate simulated data from Gamma distribution\n",
        "#---------------------------------------\n",
        "\n",
        "import numpy as np\n",
        "import random\n",
        "import matplotlib.pyplot as plt\n",
        "import scipy.stats as stats\n",
        "%matplotlib inline\n",
        "\n",
        "## Central limit theorom\n",
        "# build gamma distribution as population\n",
        "shape, scale = 2., 2.  # mean=4, std=2*sqrt(2)\n",
        "s = np.random.gamma(shape, scale, 1000000)\n",
        "# plot\n",
        "plt.figure(figsize=(20,10))\n",
        "plt.hist(s, 200, density=True)\n",
        "plt.show()"
      ],
      "execution_count": 35,
      "outputs": [
        {
          "output_type": "display_data",
          "data": {
            "image/png": "[encoded data removed]",
            "text/plain": [
              "<Figure size 1440x720 with 1 Axes>"
            ]
          },
          "metadata": {
            "needs_background": "light"
          }
        }
      ]
    },
    {
      "cell_type": "code",
      "metadata": {
        "id": "Stqcojqc9LVi",
        "colab": {
          "base_uri": "https://localhost:8080/",
          "height": 879
        },
        "outputId": "6ae89243-7b06-4555-de65-0a4d6d4753a4"
      },
      "source": [
        "#---------------------------------------\n",
        "# PART1: fixed sample size = 500 & vary the number samplings\n",
        "#---------------------------------------\n",
        "\n",
        "# sample from population with different number of sampling\n",
        "# a list of sample mean\n",
        "meansample = []\n",
        "# number of sample\n",
        "numofsample = [1000,2500,5000,10000,25000,50000]\n",
        "# sample size\n",
        "samplesize = 500\n",
        "# for each number of sampling (1000 to 50000)\n",
        "for i in numofsample:\n",
        "    # collect mean of each sample\n",
        "    eachmeansample = []\n",
        "    # for each sampling\n",
        "    for j in range(0,i):\n",
        "        # sampling 500 sample from population\n",
        "        rc = random.choices(s, k=samplesize)\n",
        "        # collect mean of each sample\n",
        "        eachmeansample.append(sum(rc)/len(rc))\n",
        "    # add mean of each sampling to the list\n",
        "    meansample.append(eachmeansample)\n",
        "    \n",
        "# plot\n",
        "cols = 2\n",
        "rows = 3\n",
        "fig, ax = plt.subplots(rows, cols, figsize=(20,15))\n",
        "n = 0\n",
        "for i in range(0, rows):\n",
        "    for j in range(0, cols):\n",
        "        ax[i, j].hist(meansample[n], 200, density=True)\n",
        "        ax[i, j].set_title(label=\"number of sampling :\" + str(numofsample[n]))\n",
        "        n += 1"
      ],
      "execution_count": 36,
      "outputs": [
        {
          "output_type": "display_data",
          "data": {
            "image/png": "[encoded data removed]",
            "text/plain": [
              "<Figure size 1440x1080 with 6 Axes>"
            ]
          },
          "metadata": {
            "needs_background": "light"
          }
        }
      ]
    },
    {
      "cell_type": "code",
      "metadata": {
        "id": "AcPz_RXW9LTd",
        "colab": {
          "base_uri": "https://localhost:8080/",
          "height": 592
        },
        "outputId": "98acc692-5d48-4e90-b547-fec37373c407"
      },
      "source": [
        "#---------------------------------------\n",
        "# PART1 (cont.): fixed sample size = 500 & vary the number samplings\n",
        "# convert to z-score\n",
        "#---------------------------------------\n",
        "# use last sampling\n",
        "sm = meansample[len(meansample)-1]\n",
        "# calculate start deviation\n",
        "std = np.std(sm)\n",
        "# set population mean\n",
        "mean = np.mean(sm)\n",
        "# list of standarded sample\n",
        "zn = []\n",
        "# for each sample subtract with mean and devided by standard deviation\n",
        "for i in sm:\n",
        "    zn.append((i-mean)/std)\n",
        "    \n",
        "# plot hist\n",
        "plt.figure(figsize=(20,10))\n",
        "plt.hist(zn, 200, density=True)\n",
        "# compare with standard normal disrtibution line\n",
        "mu = 0\n",
        "sigma = 1\n",
        "x = np.linspace(mu - 3*sigma, mu + 3*sigma, 100)\n",
        "# draw standard normal disrtibution line\n",
        "plt.plot(x, stats.norm.pdf(x, mu, sigma),linewidth = 5, color='red')\n",
        "plt.show()"
      ],
      "execution_count": 37,
      "outputs": [
        {
          "output_type": "display_data",
          "data": {
            "image/png": "[encoded data removed]",
            "text/plain": [
              "<Figure size 1440x720 with 1 Axes>"
            ]
          },
          "metadata": {
            "needs_background": "light"
          }
        }
      ]
    },
    {
      "cell_type": "code",
      "metadata": {
        "id": "zhNZTN7f9LPV",
        "colab": {
          "base_uri": "https://localhost:8080/",
          "height": 879
        },
        "outputId": "4dbae63b-95fb-4241-f24a-8ec2f4e0928d"
      },
      "source": [
        "#---------------------------------------\n",
        "# PART2: vary the number of sampling sizes & the number samplings = 500 times\n",
        "#---------------------------------------\n",
        "## sample with different sample size\n",
        "# list of sample mean\n",
        "meansample = []\n",
        "# number of sampling\n",
        "numofsample = 25000\n",
        "# sample size\n",
        "samplesize = [1,5,10,30,100,1000]\n",
        "# for each sample size (1 to 1000)\n",
        "for i in samplesize:\n",
        "    # collect mean of each sample\n",
        "    eachmeansample = []\n",
        "    # for each sampling\n",
        "    for j in range(0,numofsample):\n",
        "        # sampling i sample from population\n",
        "        rc = random.choices(s, k=i)\n",
        "        # collect mean of each sample\n",
        "        eachmeansample.append(sum(rc)/len(rc))\n",
        "    # add mean of each sampling to the list\n",
        "    meansample.append(eachmeansample)\n",
        "    \n",
        "# plot\n",
        "cols = 2\n",
        "rows = 3\n",
        "fig, ax = plt.subplots(rows, cols, figsize=(20,15))\n",
        "n = 0\n",
        "for i in range(0, rows):\n",
        "    for j in range(0, cols):\n",
        "        ax[i, j].hist(meansample[n], 200, density=True)\n",
        "        ax[i, j].set_title(label=\"sample size :\" + str(samplesize[n]))\n",
        "        n += 1"
      ],
      "execution_count": 38,
      "outputs": [
        {
          "output_type": "display_data",
          "data": {
            "image/png": "[encoded data removed]",
            "text/plain": [
              "<Figure size 1440x1080 with 6 Axes>"
            ]
          },
          "metadata": {
            "needs_background": "light"
          }
        }
      ]
    },
    {
      "cell_type": "code",
      "metadata": {
        "id": "DYczmp5i9Wkk",
        "colab": {
          "base_uri": "https://localhost:8080/"
        },
        "outputId": "3c12d13a-a266-4a42-ca0f-f7a439d8afe8"
      },
      "source": [
        "#---------------------------------------\n",
        "# PART2 (cont.): vary the number of sampling sizes & the number samplings = 500 times\n",
        "# With sample size = 1000 - check all the values\n",
        "#---------------------------------------\n",
        "\n",
        "## expect value of sample\n",
        "# use last sampling (samplesize=1000)\n",
        "sample = meansample[len(meansample)-1]\n",
        "\n",
        "# expected value of sample equal to expect value of population\n",
        "print(\"expected value of sample:\", np.mean(sample))\n",
        "print(\"expected value of population:\", shape*scale)\n",
        "print()\n",
        "\n",
        "# standard deviation of sample equal to standard deviation of population divided by squre root of n\n",
        "print(\"standard deviation of sample:\", np.std(sample))\n",
        "print(\"standard deviation of population:\", scale*np.sqrt(shape))\n",
        "print(\"standard deviation of population divided by squre root of sample size:\", scale*np.sqrt(shape)/np.sqrt(1000))"
      ],
      "execution_count": 39,
      "outputs": [
        {
          "output_type": "stream",
          "name": "stdout",
          "text": [
            "expected value of sample: 3.997532373368555\n",
            "expected value of population: 4.0\n",
            "\n",
            "standard deviation of sample: 0.08972522692406266\n",
            "standard deviation of population: 2.8284271247461903\n",
            "standard deviation of population divided by squre root of sample size: 0.0894427190999916\n"
          ]
        }
      ]
    },
    {
      "cell_type": "code",
      "metadata": {
        "id": "qoK-gn0h9Wai",
        "colab": {
          "base_uri": "https://localhost:8080/",
          "height": 592
        },
        "outputId": "038fadaf-39dc-4086-9af0-95628f94ca41"
      },
      "source": [
        "#---------------------------------------\n",
        "# PART3: increase sample size can reduce error\n",
        "#---------------------------------------\n",
        "\n",
        "## show that as the sample size increases the mean of sample is close to population mean\n",
        "# set expected values of population\n",
        "mu = shape*scale # mean\n",
        "# sample size\n",
        "samplesize = []\n",
        "# collect difference between sample mean and mu\n",
        "diflist = []\n",
        "# for each sample size\n",
        "for n in range(10,20000,20): \n",
        "    # sample 10000 sample\n",
        "    rs = random.choices(s, k=n)\n",
        "    # start count\n",
        "    c = 0\n",
        "    # calculate mean\n",
        "    mean = sum(rs)/len(rs)\n",
        "    # collect difference between sample mean and mu\n",
        "    diflist.append(mean-mu)\n",
        "    samplesize.append(n)\n",
        "\n",
        "# set figure size.\n",
        "plt.figure(figsize=(20,10))\n",
        "# plot each diference.\n",
        "plt.scatter(samplesize,diflist, marker='o')\n",
        "# show plot.\n",
        "plt.show()"
      ],
      "execution_count": 40,
      "outputs": [
        {
          "output_type": "display_data",
          "data": {
            "image/png": "[encoded data removed]",
            "text/plain": [
              "<Figure size 1440x720 with 1 Axes>"
            ]
          },
          "metadata": {
            "needs_background": "light"
          }
        }
      ]
    },
    {
      "cell_type": "code",
      "metadata": {
        "id": "oLAI0yT09Whz",
        "colab": {
          "base_uri": "https://localhost:8080/",
          "height": 592
        },
        "outputId": "9192f103-7c87-4f98-9b2c-bcd23fa27755"
      },
      "source": [
        "#---------------------------------------\n",
        "# PART4: vary sample size\n",
        "# for each sample size, trial 100 times\n",
        "# count #error > 0.05\n",
        "# Increase sample size can reduce prob of errors\n",
        "#---------------------------------------\n",
        "\n",
        "## show that as the sample size increases the probability that sample mean is further from population mean than error\n",
        "# margin of error\n",
        "epsilon = 0.05\n",
        "# list of probability of each sample size\n",
        "proberror = []\n",
        "# sample size for plotting\n",
        "samplesize = []\n",
        "\n",
        "# for each sample size\n",
        "for n in range(100,10101,500): \n",
        "    # start count\n",
        "    c = 0\n",
        "    for i in range(0,100):\n",
        "        # sample 10000 sample\n",
        "        rs = random.choices(s, k=n)\n",
        "        # calculate mean\n",
        "        mean = sum(rs)/len(rs)\n",
        "        # check if the difference is larger than error\n",
        "        if abs(mean - mu) > epsilon:\n",
        "            # if larger count the sampling\n",
        "            c += 1\n",
        "    # calculate the probability\n",
        "    proberror.append(c/100)\n",
        "    # save sample size for plotting\n",
        "    samplesize.append(n)\n",
        "\n",
        "# set figure size.\n",
        "plt.figure(figsize=(20,10))\n",
        "# plot each probability.\n",
        "plt.plot(samplesize,proberror, marker='o')\n",
        "# show plot.\n",
        "plt.show()"
      ],
      "execution_count": 41,
      "outputs": [
        {
          "output_type": "display_data",
          "data": {
            "image/png": "[encoded data removed]",
            "text/plain": [
              "<Figure size 1440x720 with 1 Axes>"
            ]
          },
          "metadata": {
            "needs_background": "light"
          }
        }
      ]
    },
    {
      "cell_type": "markdown",
      "metadata": {
        "id": "r5PKqh2A9Nxm"
      },
      "source": [
        "# Part3: A/B Testing"
      ]
    },
    {
      "cell_type": "markdown",
      "metadata": {
        "id": "zTybNCz7f6pp"
      },
      "source": [
        "## One sample t-test: \n",
        "\n",
        "You have 10 ages and you are checking whether avg age is 30 or not. (check code below for that using python)"
      ]
    },
    {
      "cell_type": "code",
      "metadata": {
        "id": "NK6Pk1Ppj_6V"
      },
      "source": [
        "mylist = [32,34,29,29,22,39,38,37,38,36,30,26,22,22]\n",
        "df = pandas.DataFrame(data=mylist)\n",
        "df.to_csv(\"ages.csv\", sep=',',index=False,header=None)"
      ],
      "execution_count": 42,
      "outputs": []
    },
    {
      "cell_type": "code",
      "metadata": {
        "id": "NdK6h05akiU3",
        "colab": {
          "base_uri": "https://localhost:8080/"
        },
        "outputId": "cbc00f48-5fe7-4b99-b41c-b1db9f4e3545"
      },
      "source": [
        "!head ages.csv"
      ],
      "execution_count": 43,
      "outputs": [
        {
          "output_type": "stream",
          "name": "stdout",
          "text": [
            "32\n",
            "34\n",
            "29\n",
            "29\n",
            "22\n",
            "39\n",
            "38\n",
            "37\n",
            "38\n",
            "36\n"
          ]
        }
      ]
    },
    {
      "cell_type": "code",
      "metadata": {
        "id": "g-m1agYoRlSA",
        "colab": {
          "base_uri": "https://localhost:8080/"
        },
        "outputId": "f20955b3-7f7b-4d51-8d9c-03e2caefaa83"
      },
      "source": [
        "from scipy.stats import ttest_1samp\n",
        "import numpy as np\n",
        "ages = np.genfromtxt('ages.csv')\n",
        "print(ages)"
      ],
      "execution_count": 44,
      "outputs": [
        {
          "output_type": "stream",
          "name": "stdout",
          "text": [
            "[32. 34. 29. 29. 22. 39. 38. 37. 38. 36. 30. 26. 22. 22.]\n"
          ]
        }
      ]
    },
    {
      "cell_type": "code",
      "metadata": {
        "id": "Crpha2zokdaW",
        "colab": {
          "base_uri": "https://localhost:8080/"
        },
        "outputId": "d7a80407-7a5f-4697-e8e9-5aa4bd1743cb"
      },
      "source": [
        "ages_mean = np.mean(ages)\n",
        "print(ages_mean)\n",
        "t, pval = ttest_1samp(ages, 30) # Calculate the T-test for the mean of ONE group of scores.\n",
        "print(\"t =\", t, \", p-value =\", pval)"
      ],
      "execution_count": 45,
      "outputs": [
        {
          "output_type": "stream",
          "name": "stdout",
          "text": [
            "31.0\n",
            "t = 0.5973799001456603 , p-value = 0.5605155888171379\n"
          ]
        }
      ]
    },
    {
      "cell_type": "code",
      "metadata": {
        "id": "ei9iVOuflQfh",
        "colab": {
          "base_uri": "https://localhost:8080/"
        },
        "outputId": "e336f9a8-e649-4bac-a245-adb0076f337e"
      },
      "source": [
        "if pval < 0.05:    # alpha value is 0.05 or 5%\n",
        "   print(\"we are rejecting null hypothesis\")\n",
        "else:\n",
        "  print(\"we are accepting null hypothesis\")"
      ],
      "execution_count": 46,
      "outputs": [
        {
          "output_type": "stream",
          "name": "stdout",
          "text": [
            "we are accepting null hypothesis\n"
          ]
        }
      ]
    },
    {
      "cell_type": "markdown",
      "metadata": {
        "id": "spNITaKwlg-y"
      },
      "source": [
        "## Two sample t-test: \n",
        "\n",
        "## Example: is there any association between week1 and week2 ( code is given below in python)"
      ]
    },
    {
      "cell_type": "code",
      "metadata": {
        "id": "Ua03yz_7mAQx"
      },
      "source": [
        "import numpy as np\n",
        "np.random.seed(2019) #option for reproducibility\n",
        "week1_list = np.random.randint(low=0, high=100, size=50).tolist()"
      ],
      "execution_count": 47,
      "outputs": []
    },
    {
      "cell_type": "code",
      "metadata": {
        "id": "HmDCh14jmFJI"
      },
      "source": [
        "np.random.seed(2020) #option for reproducibility\n",
        "week2_list = np.random.randint(low=0, high=100, size=50).tolist()"
      ],
      "execution_count": 48,
      "outputs": []
    },
    {
      "cell_type": "code",
      "metadata": {
        "id": "28XhM-aOlU0u"
      },
      "source": [
        "df = pandas.DataFrame(data=week1_list)\n",
        "df.to_csv(\"week1.csv\", sep=',',index=False,header=None)\n",
        "df = pandas.DataFrame(data=week2_list)\n",
        "df.to_csv(\"week2.csv\", sep=',',index=False,header=None)"
      ],
      "execution_count": 49,
      "outputs": []
    },
    {
      "cell_type": "code",
      "metadata": {
        "id": "BxSbt1rimZu1"
      },
      "source": [
        "from scipy.stats import ttest_ind\n",
        "import numpy as np"
      ],
      "execution_count": 50,
      "outputs": []
    },
    {
      "cell_type": "code",
      "metadata": {
        "id": "SjRvO_eqmdnV",
        "colab": {
          "base_uri": "https://localhost:8080/"
        },
        "outputId": "b1b3faea-2184-4b5b-ee7e-56e5cd7e38fb"
      },
      "source": [
        "week1 = np.genfromtxt(\"week1.csv\",  delimiter=\",\")\n",
        "week2 = np.genfromtxt(\"week2.csv\",  delimiter=\",\")\n",
        "print(\"week1 data :-\\n\")\n",
        "print(week1)\n",
        "print(\"\\n\")\n",
        "print(\"week2 data :-\\n\")\n",
        "print(week2)"
      ],
      "execution_count": 51,
      "outputs": [
        {
          "output_type": "stream",
          "name": "stdout",
          "text": [
            "week1 data :-\n",
            "\n",
            "[72. 31. 37. 88. 62. 24. 29. 15. 12. 16. 48. 71. 83. 12. 80. 50. 95.  5.\n",
            " 24. 28. 21. 48. 91. 15. 65. 54. 10. 96. 11. 82. 79. 86. 86. 51. 61. 33.\n",
            " 99. 53. 80. 70. 97. 88. 58. 82. 57.  8. 55. 71.  7. 80.]\n",
            "\n",
            "\n",
            "week2 data :-\n",
            "\n",
            "[96.  8. 67. 67. 91.  3. 71. 56. 29. 48. 32. 24. 74.  9. 51. 11. 55. 62.\n",
            " 67. 69. 48. 28. 20.  8. 38. 84. 65.  1. 79. 69. 74. 73. 62. 21. 29. 90.\n",
            "  6. 38. 22. 63. 21. 68.  6. 98.  3. 20. 55.  1. 52.  9.]\n"
          ]
        }
      ]
    },
    {
      "cell_type": "code",
      "metadata": {
        "id": "PKdszGa52fKI",
        "colab": {
          "base_uri": "https://localhost:8080/"
        },
        "outputId": "5bc52834-249f-4c28-e423-71dce057c469"
      },
      "source": [
        "import scipy.stats\n",
        "# https://docs.scipy.org/doc/scipy-0.14.0/reference/generated/scipy.stats.levene.html\n",
        "stats.levene(week1,week2)"
      ],
      "execution_count": 52,
      "outputs": [
        {
          "output_type": "execute_result",
          "data": {
            "text/plain": [
              "LeveneResult(statistic=0.002264718310921979, pvalue=0.9621406014510561)"
            ]
          },
          "metadata": {},
          "execution_count": 52
        }
      ]
    },
    {
      "cell_type": "code",
      "metadata": {
        "id": "JfQhLj6tmgpK",
        "colab": {
          "base_uri": "https://localhost:8080/"
        },
        "outputId": "61a0dca1-30d3-4430-8947-26b8767d1b86"
      },
      "source": [
        "week1_mean = np.mean(week1)\n",
        "week2_mean = np.mean(week2)\n",
        "print(\"week1 mean value:\",week1_mean)\n",
        "print(\"week2 mean value:\",week2_mean)"
      ],
      "execution_count": 53,
      "outputs": [
        {
          "output_type": "stream",
          "name": "stdout",
          "text": [
            "week1 mean value: 53.52\n",
            "week2 mean value: 44.82\n"
          ]
        }
      ]
    },
    {
      "cell_type": "code",
      "metadata": {
        "id": "mLY8xHaZmsZ5",
        "colab": {
          "base_uri": "https://localhost:8080/"
        },
        "outputId": "47bad20f-4424-4078-fbd8-70ea0dde0b11"
      },
      "source": [
        "week1_std = np.std(week1)\n",
        "week2_std = np.std(week2)\n",
        "print(\"week1 std value:\",week1_std)\n",
        "print(\"week2 std value:\",week2_std)"
      ],
      "execution_count": 54,
      "outputs": [
        {
          "output_type": "stream",
          "name": "stdout",
          "text": [
            "week1 std value: 29.525744698483052\n",
            "week2 std value: 28.842808462422656\n"
          ]
        }
      ]
    },
    {
      "cell_type": "code",
      "metadata": {
        "id": "HBiBOuhumuSq",
        "colab": {
          "base_uri": "https://localhost:8080/"
        },
        "outputId": "0c1c512e-06ae-4017-d1d5-65960bc7cc70"
      },
      "source": [
        "ttest,pval = ttest_ind(week1,week2,equal_var=True) #  two independent samples of scores.\n",
        "# ref: https://docs.scipy.org/doc/scipy/reference/generated/scipy.stats.ttest_ind.html\n",
        "print(\"p-value\",pval)"
      ],
      "execution_count": 55,
      "outputs": [
        {
          "output_type": "stream",
          "name": "stdout",
          "text": [
            "p-value 0.14329810698879697\n"
          ]
        }
      ]
    },
    {
      "cell_type": "code",
      "metadata": {
        "id": "kzoBBKGjmwT6",
        "colab": {
          "base_uri": "https://localhost:8080/"
        },
        "outputId": "8bf981a7-32d7-4ed7-f3aa-f88e06d1080e"
      },
      "source": [
        "if pval <0.05:\n",
        "  print(\"we reject null hypothesis\")\n",
        "else:\n",
        "  print(\"we accept null hypothesis\")"
      ],
      "execution_count": 56,
      "outputs": [
        {
          "output_type": "stream",
          "name": "stdout",
          "text": [
            "we accept null hypothesis\n"
          ]
        }
      ]
    },
    {
      "cell_type": "markdown",
      "metadata": {
        "id": "G-ZEYd0xm6Ws"
      },
      "source": [
        "## Paired t-test\n",
        "\n",
        "H0 :- mean difference between two sample is 0\n",
        "\n",
        "H1:- mean difference between two sample is not 0\n",
        "\n",
        "check the code below for same"
      ]
    },
    {
      "cell_type": "code",
      "metadata": {
        "id": "rDSYt2G8mytK",
        "colab": {
          "base_uri": "https://localhost:8080/"
        },
        "outputId": "4f46e93f-5235-4869-bd3d-00b579160aee"
      },
      "source": [
        "import pandas as pd\n",
        "from scipy import stats\n",
        "from statsmodels.stats import weightstats as stests"
      ],
      "execution_count": 57,
      "outputs": [
        {
          "output_type": "stream",
          "name": "stderr",
          "text": [
            "/usr/local/lib/python3.7/dist-packages/statsmodels/tools/_testing.py:19: FutureWarning: pandas.util.testing is deprecated. Use the functions in the public API at pandas.testing instead.\n",
            "  import pandas.util.testing as tm\n"
          ]
        }
      ]
    },
    {
      "cell_type": "code",
      "metadata": {
        "id": "Akcg2e-3nEqX"
      },
      "source": [
        "df = pd.read_csv(\"https://github.com/kaopanboonyuen/2110446_DataScience_2021s2/raw/main/datasets/blood_pressure.csv\")"
      ],
      "execution_count": 58,
      "outputs": []
    },
    {
      "cell_type": "code",
      "metadata": {
        "id": "yn2toi27oV6c",
        "colab": {
          "base_uri": "https://localhost:8080/",
          "height": 207
        },
        "outputId": "d2472e27-b7a7-4285-c31f-c7e2cc40a1a4"
      },
      "source": [
        "df.head()"
      ],
      "execution_count": 59,
      "outputs": [
        {
          "output_type": "execute_result",
          "data": {
            "text/html": [
              "\n",
              "  <div id=\"df-f8eb8819-169d-4b06-a596-57ee643c66fb\">\n",
              "    <div class=\"colab-df-container\">\n",
              "      <div>\n",
              "<style scoped>\n",
              "    .dataframe tbody tr th:only-of-type {\n",
              "        vertical-align: middle;\n",
              "    }\n",
              "\n",
              "    .dataframe tbody tr th {\n",
              "        vertical-align: top;\n",
              "    }\n",
              "\n",
              "    .dataframe thead th {\n",
              "        text-align: right;\n",
              "    }\n",
              "</style>\n",
              "<table border=\"1\" class=\"dataframe\">\n",
              "  <thead>\n",
              "    <tr style=\"text-align: right;\">\n",
              "      <th></th>\n",
              "      <th>patient</th>\n",
              "      <th>sex</th>\n",
              "      <th>agegrp</th>\n",
              "      <th>bp_before</th>\n",
              "      <th>bp_after</th>\n",
              "    </tr>\n",
              "  </thead>\n",
              "  <tbody>\n",
              "    <tr>\n",
              "      <th>0</th>\n",
              "      <td>1</td>\n",
              "      <td>Male</td>\n",
              "      <td>30-45</td>\n",
              "      <td>143</td>\n",
              "      <td>153</td>\n",
              "    </tr>\n",
              "    <tr>\n",
              "      <th>1</th>\n",
              "      <td>2</td>\n",
              "      <td>Male</td>\n",
              "      <td>30-45</td>\n",
              "      <td>163</td>\n",
              "      <td>170</td>\n",
              "    </tr>\n",
              "    <tr>\n",
              "      <th>2</th>\n",
              "      <td>3</td>\n",
              "      <td>Male</td>\n",
              "      <td>30-45</td>\n",
              "      <td>153</td>\n",
              "      <td>168</td>\n",
              "    </tr>\n",
              "    <tr>\n",
              "      <th>3</th>\n",
              "      <td>4</td>\n",
              "      <td>Male</td>\n",
              "      <td>30-45</td>\n",
              "      <td>153</td>\n",
              "      <td>142</td>\n",
              "    </tr>\n",
              "    <tr>\n",
              "      <th>4</th>\n",
              "      <td>5</td>\n",
              "      <td>Male</td>\n",
              "      <td>30-45</td>\n",
              "      <td>146</td>\n",
              "      <td>141</td>\n",
              "    </tr>\n",
              "  </tbody>\n",
              "</table>\n",
              "</div>\n",
              "      <button class=\"colab-df-convert\" onclick=\"convertToInteractive('df-f8eb8819-169d-4b06-a596-57ee643c66fb')\"\n",
              "              title=\"Convert this dataframe to an interactive table.\"\n",
              "              style=\"display:none;\">\n",
              "        \n",
              "  <svg xmlns=\"http://www.w3.org/2000/svg\" height=\"24px\"viewBox=\"0 0 24 24\"\n",
              "       width=\"24px\">\n",
              "    <path d=\"M0 0h24v24H0V0z\" fill=\"none\"/>\n",
              "    <path d=\"M18.56 5.44l.94 2.06.94-2.06 2.06-.94-2.06-.94-.94-2.06-.94 2.06-2.06.94zm-11 1L8.5 8.5l.94-2.06 2.06-.94-2.06-.94L8.5 2.5l-.94 2.06-2.06.94zm10 10l.94 2.06.94-2.06 2.06-.94-2.06-.94-.94-2.06-.94 2.06-2.06.94z\"/><path d=\"M17.41 7.96l-1.37-1.37c-.4-.4-.92-.59-1.43-.59-.52 0-1.04.2-1.43.59L10.3 9.45l-7.72 7.72c-.78.78-.78 2.05 0 2.83L4 21.41c.39.39.9.59 1.41.59.51 0 1.02-.2 1.41-.59l7.78-7.78 2.81-2.81c.8-.78.8-2.07 0-2.86zM5.41 20L4 18.59l7.72-7.72 1.47 1.35L5.41 20z\"/>\n",
              "  </svg>\n",
              "      </button>\n",
              "      \n",
              "  <style>\n",
              "    .colab-df-container {\n",
              "      display:flex;\n",
              "      flex-wrap:wrap;\n",
              "      gap: 12px;\n",
              "    }\n",
              "\n",
              "    .colab-df-convert {\n",
              "      background-color: #E8F0FE;\n",
              "      border: none;\n",
              "      border-radius: 50%;\n",
              "      cursor: pointer;\n",
              "      display: none;\n",
              "      fill: #1967D2;\n",
              "      height: 32px;\n",
              "      padding: 0 0 0 0;\n",
              "      width: 32px;\n",
              "    }\n",
              "\n",
              "    .colab-df-convert:hover {\n",
              "      background-color: #E2EBFA;\n",
              "      box-shadow: 0px 1px 2px rgba(60, 64, 67, 0.3), 0px 1px 3px 1px rgba(60, 64, 67, 0.15);\n",
              "      fill: #174EA6;\n",
              "    }\n",
              "\n",
              "    [theme=dark] .colab-df-convert {\n",
              "      background-color: #3B4455;\n",
              "      fill: #D2E3FC;\n",
              "    }\n",
              "\n",
              "    [theme=dark] .colab-df-convert:hover {\n",
              "      background-color: #434B5C;\n",
              "      box-shadow: 0px 1px 3px 1px rgba(0, 0, 0, 0.15);\n",
              "      filter: drop-shadow(0px 1px 2px rgba(0, 0, 0, 0.3));\n",
              "      fill: #FFFFFF;\n",
              "    }\n",
              "  </style>\n",
              "\n",
              "      <script>\n",
              "        const buttonEl =\n",
              "          document.querySelector('#df-f8eb8819-169d-4b06-a596-57ee643c66fb button.colab-df-convert');\n",
              "        buttonEl.style.display =\n",
              "          google.colab.kernel.accessAllowed ? 'block' : 'none';\n",
              "\n",
              "        async function convertToInteractive(key) {\n",
              "          const element = document.querySelector('#df-f8eb8819-169d-4b06-a596-57ee643c66fb');\n",
              "          const dataTable =\n",
              "            await google.colab.kernel.invokeFunction('convertToInteractive',\n",
              "                                                     [key], {});\n",
              "          if (!dataTable) return;\n",
              "\n",
              "          const docLinkHtml = 'Like what you see? Visit the ' +\n",
              "            '<a target=\"_blank\" href=https://colab.research.google.com/notebooks/data_table.ipynb>data table notebook</a>'\n",
              "            + ' to learn more about interactive tables.';\n",
              "          element.innerHTML = '';\n",
              "          dataTable['output_type'] = 'display_data';\n",
              "          await google.colab.output.renderOutput(dataTable, element);\n",
              "          const docLink = document.createElement('div');\n",
              "          docLink.innerHTML = docLinkHtml;\n",
              "          element.appendChild(docLink);\n",
              "        }\n",
              "      </script>\n",
              "    </div>\n",
              "  </div>\n",
              "  "
            ],
            "text/plain": [
              "   patient   sex agegrp  bp_before  bp_after\n",
              "0        1  Male  30-45        143       153\n",
              "1        2  Male  30-45        163       170\n",
              "2        3  Male  30-45        153       168\n",
              "3        4  Male  30-45        153       142\n",
              "4        5  Male  30-45        146       141"
            ]
          },
          "metadata": {},
          "execution_count": 59
        }
      ]
    },
    {
      "cell_type": "code",
      "metadata": {
        "id": "yAUFYKTFoYiZ",
        "colab": {
          "base_uri": "https://localhost:8080/",
          "height": 300
        },
        "outputId": "efc83046-9e92-4702-f9a7-88c9528639df"
      },
      "source": [
        "df[['bp_before','bp_after']].describe()"
      ],
      "execution_count": 60,
      "outputs": [
        {
          "output_type": "execute_result",
          "data": {
            "text/html": [
              "\n",
              "  <div id=\"df-88f4010c-c064-437e-a3e9-8ede4b9e15fe\">\n",
              "    <div class=\"colab-df-container\">\n",
              "      <div>\n",
              "<style scoped>\n",
              "    .dataframe tbody tr th:only-of-type {\n",
              "        vertical-align: middle;\n",
              "    }\n",
              "\n",
              "    .dataframe tbody tr th {\n",
              "        vertical-align: top;\n",
              "    }\n",
              "\n",
              "    .dataframe thead th {\n",
              "        text-align: right;\n",
              "    }\n",
              "</style>\n",
              "<table border=\"1\" class=\"dataframe\">\n",
              "  <thead>\n",
              "    <tr style=\"text-align: right;\">\n",
              "      <th></th>\n",
              "      <th>bp_before</th>\n",
              "      <th>bp_after</th>\n",
              "    </tr>\n",
              "  </thead>\n",
              "  <tbody>\n",
              "    <tr>\n",
              "      <th>count</th>\n",
              "      <td>120.000000</td>\n",
              "      <td>120.000000</td>\n",
              "    </tr>\n",
              "    <tr>\n",
              "      <th>mean</th>\n",
              "      <td>156.450000</td>\n",
              "      <td>151.358333</td>\n",
              "    </tr>\n",
              "    <tr>\n",
              "      <th>std</th>\n",
              "      <td>11.389845</td>\n",
              "      <td>14.177622</td>\n",
              "    </tr>\n",
              "    <tr>\n",
              "      <th>min</th>\n",
              "      <td>138.000000</td>\n",
              "      <td>125.000000</td>\n",
              "    </tr>\n",
              "    <tr>\n",
              "      <th>25%</th>\n",
              "      <td>147.000000</td>\n",
              "      <td>140.750000</td>\n",
              "    </tr>\n",
              "    <tr>\n",
              "      <th>50%</th>\n",
              "      <td>154.500000</td>\n",
              "      <td>149.500000</td>\n",
              "    </tr>\n",
              "    <tr>\n",
              "      <th>75%</th>\n",
              "      <td>164.000000</td>\n",
              "      <td>161.000000</td>\n",
              "    </tr>\n",
              "    <tr>\n",
              "      <th>max</th>\n",
              "      <td>185.000000</td>\n",
              "      <td>185.000000</td>\n",
              "    </tr>\n",
              "  </tbody>\n",
              "</table>\n",
              "</div>\n",
              "      <button class=\"colab-df-convert\" onclick=\"convertToInteractive('df-88f4010c-c064-437e-a3e9-8ede4b9e15fe')\"\n",
              "              title=\"Convert this dataframe to an interactive table.\"\n",
              "              style=\"display:none;\">\n",
              "        \n",
              "  <svg xmlns=\"http://www.w3.org/2000/svg\" height=\"24px\"viewBox=\"0 0 24 24\"\n",
              "       width=\"24px\">\n",
              "    <path d=\"M0 0h24v24H0V0z\" fill=\"none\"/>\n",
              "    <path d=\"M18.56 5.44l.94 2.06.94-2.06 2.06-.94-2.06-.94-.94-2.06-.94 2.06-2.06.94zm-11 1L8.5 8.5l.94-2.06 2.06-.94-2.06-.94L8.5 2.5l-.94 2.06-2.06.94zm10 10l.94 2.06.94-2.06 2.06-.94-2.06-.94-.94-2.06-.94 2.06-2.06.94z\"/><path d=\"M17.41 7.96l-1.37-1.37c-.4-.4-.92-.59-1.43-.59-.52 0-1.04.2-1.43.59L10.3 9.45l-7.72 7.72c-.78.78-.78 2.05 0 2.83L4 21.41c.39.39.9.59 1.41.59.51 0 1.02-.2 1.41-.59l7.78-7.78 2.81-2.81c.8-.78.8-2.07 0-2.86zM5.41 20L4 18.59l7.72-7.72 1.47 1.35L5.41 20z\"/>\n",
              "  </svg>\n",
              "      </button>\n",
              "      \n",
              "  <style>\n",
              "    .colab-df-container {\n",
              "      display:flex;\n",
              "      flex-wrap:wrap;\n",
              "      gap: 12px;\n",
              "    }\n",
              "\n",
              "    .colab-df-convert {\n",
              "      background-color: #E8F0FE;\n",
              "      border: none;\n",
              "      border-radius: 50%;\n",
              "      cursor: pointer;\n",
              "      display: none;\n",
              "      fill: #1967D2;\n",
              "      height: 32px;\n",
              "      padding: 0 0 0 0;\n",
              "      width: 32px;\n",
              "    }\n",
              "\n",
              "    .colab-df-convert:hover {\n",
              "      background-color: #E2EBFA;\n",
              "      box-shadow: 0px 1px 2px rgba(60, 64, 67, 0.3), 0px 1px 3px 1px rgba(60, 64, 67, 0.15);\n",
              "      fill: #174EA6;\n",
              "    }\n",
              "\n",
              "    [theme=dark] .colab-df-convert {\n",
              "      background-color: #3B4455;\n",
              "      fill: #D2E3FC;\n",
              "    }\n",
              "\n",
              "    [theme=dark] .colab-df-convert:hover {\n",
              "      background-color: #434B5C;\n",
              "      box-shadow: 0px 1px 3px 1px rgba(0, 0, 0, 0.15);\n",
              "      filter: drop-shadow(0px 1px 2px rgba(0, 0, 0, 0.3));\n",
              "      fill: #FFFFFF;\n",
              "    }\n",
              "  </style>\n",
              "\n",
              "      <script>\n",
              "        const buttonEl =\n",
              "          document.querySelector('#df-88f4010c-c064-437e-a3e9-8ede4b9e15fe button.colab-df-convert');\n",
              "        buttonEl.style.display =\n",
              "          google.colab.kernel.accessAllowed ? 'block' : 'none';\n",
              "\n",
              "        async function convertToInteractive(key) {\n",
              "          const element = document.querySelector('#df-88f4010c-c064-437e-a3e9-8ede4b9e15fe');\n",
              "          const dataTable =\n",
              "            await google.colab.kernel.invokeFunction('convertToInteractive',\n",
              "                                                     [key], {});\n",
              "          if (!dataTable) return;\n",
              "\n",
              "          const docLinkHtml = 'Like what you see? Visit the ' +\n",
              "            '<a target=\"_blank\" href=https://colab.research.google.com/notebooks/data_table.ipynb>data table notebook</a>'\n",
              "            + ' to learn more about interactive tables.';\n",
              "          element.innerHTML = '';\n",
              "          dataTable['output_type'] = 'display_data';\n",
              "          await google.colab.output.renderOutput(dataTable, element);\n",
              "          const docLink = document.createElement('div');\n",
              "          docLink.innerHTML = docLinkHtml;\n",
              "          element.appendChild(docLink);\n",
              "        }\n",
              "      </script>\n",
              "    </div>\n",
              "  </div>\n",
              "  "
            ],
            "text/plain": [
              "        bp_before    bp_after\n",
              "count  120.000000  120.000000\n",
              "mean   156.450000  151.358333\n",
              "std     11.389845   14.177622\n",
              "min    138.000000  125.000000\n",
              "25%    147.000000  140.750000\n",
              "50%    154.500000  149.500000\n",
              "75%    164.000000  161.000000\n",
              "max    185.000000  185.000000"
            ]
          },
          "metadata": {},
          "execution_count": 60
        }
      ]
    },
    {
      "cell_type": "code",
      "metadata": {
        "id": "WZF45KNfoZVi",
        "colab": {
          "base_uri": "https://localhost:8080/"
        },
        "outputId": "cd05fd5b-2900-49c3-9932-818a35ffb5c8"
      },
      "source": [
        "ttest,pval = stats.ttest_rel(df['bp_before'], df['bp_after']) # return t-statistic and p-value\n",
        "print(pval)"
      ],
      "execution_count": 61,
      "outputs": [
        {
          "output_type": "stream",
          "name": "stdout",
          "text": [
            "0.0011297914644840823\n"
          ]
        }
      ]
    },
    {
      "cell_type": "code",
      "metadata": {
        "id": "W6vcGg1nocdh",
        "colab": {
          "base_uri": "https://localhost:8080/"
        },
        "outputId": "a37c441b-f59d-48e3-f814-8e77878b2385"
      },
      "source": [
        "if pval<0.05:\n",
        "    print(\"reject null hypothesis\")\n",
        "else:\n",
        "    print(\"accept null hypothesis\")"
      ],
      "execution_count": 62,
      "outputs": [
        {
          "output_type": "stream",
          "name": "stdout",
          "text": [
            "reject null hypothesis\n"
          ]
        }
      ]
    },
    {
      "cell_type": "markdown",
      "metadata": {
        "id": "iy7NX7Ds7Pbu"
      },
      "source": [
        "# Reference:\n",
        "1. https://reneshbedre.github.io/blog/anova.html\n",
        "2. https://medium.com/analytics-vidhya/illustration-with-python-central-limit-theorem-aa4d81f7b570"
      ]
    },
    {
      "cell_type": "code",
      "metadata": {
        "id": "Mp8Boy3WBM4m"
      },
      "source": [
        ""
      ],
      "execution_count": 62,
      "outputs": []
    }
  ]
}