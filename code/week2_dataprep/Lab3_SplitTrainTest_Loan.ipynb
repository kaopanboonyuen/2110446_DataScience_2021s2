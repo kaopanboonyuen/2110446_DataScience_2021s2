{
 "cells": [
  {
   "cell_type": "code",
   "execution_count": 2,
   "metadata": {
    "id": "OUaRhvSCD4re"
   },
   "outputs": [],
   "source": [
    "import pandas as pd\n",
    "import numpy as np\n",
    "#pd.set_option('max_columns', 120)\n",
    "#pd.set_option('max_colwidth', 5000)\n",
    "\n",
    "import matplotlib.pyplot as plt\n",
    "import seaborn as sns\n",
    "%matplotlib inline\n",
    "plt.rcParams['figure.figsize'] = (12,8)"
   ]
  },
  {
   "cell_type": "code",
   "execution_count": 3,
   "metadata": {
    "colab": {
     "base_uri": "https://localhost:8080/",
     "height": 251
    },
    "id": "sFfmILRTD4rl",
    "outputId": "ae8f4102-61cb-4574-f701-74afbee1b856"
   },
   "outputs": [
    {
     "data": {
      "text/html": [
       "<div>\n",
       "<style scoped>\n",
       "    .dataframe tbody tr th:only-of-type {\n",
       "        vertical-align: middle;\n",
       "    }\n",
       "\n",
       "    .dataframe tbody tr th {\n",
       "        vertical-align: top;\n",
       "    }\n",
       "\n",
       "    .dataframe thead th {\n",
       "        text-align: right;\n",
       "    }\n",
       "</style>\n",
       "<table border=\"1\" class=\"dataframe\">\n",
       "  <thead>\n",
       "    <tr style=\"text-align: right;\">\n",
       "      <th></th>\n",
       "      <th>loan_amnt</th>\n",
       "      <th>installment</th>\n",
       "      <th>grade</th>\n",
       "      <th>emp_length</th>\n",
       "      <th>annual_inc</th>\n",
       "      <th>loan_status</th>\n",
       "      <th>dti</th>\n",
       "      <th>delinq_2yrs</th>\n",
       "      <th>inq_last_6mths</th>\n",
       "      <th>open_acc</th>\n",
       "      <th>...</th>\n",
       "      <th>purpose_major_purchase</th>\n",
       "      <th>purpose_medical</th>\n",
       "      <th>purpose_moving</th>\n",
       "      <th>purpose_other</th>\n",
       "      <th>purpose_renewable_energy</th>\n",
       "      <th>purpose_small_business</th>\n",
       "      <th>purpose_vacation</th>\n",
       "      <th>purpose_wedding</th>\n",
       "      <th>term_ 36 months</th>\n",
       "      <th>term_ 60 months</th>\n",
       "    </tr>\n",
       "  </thead>\n",
       "  <tbody>\n",
       "    <tr>\n",
       "      <th>0</th>\n",
       "      <td>5000.0</td>\n",
       "      <td>162.87</td>\n",
       "      <td>2</td>\n",
       "      <td>10</td>\n",
       "      <td>24000.0</td>\n",
       "      <td>1</td>\n",
       "      <td>27.65</td>\n",
       "      <td>0.0</td>\n",
       "      <td>1.0</td>\n",
       "      <td>3.0</td>\n",
       "      <td>...</td>\n",
       "      <td>0.0</td>\n",
       "      <td>0.0</td>\n",
       "      <td>0.0</td>\n",
       "      <td>0.0</td>\n",
       "      <td>0.0</td>\n",
       "      <td>0.0</td>\n",
       "      <td>0.0</td>\n",
       "      <td>0.0</td>\n",
       "      <td>1.0</td>\n",
       "      <td>0.0</td>\n",
       "    </tr>\n",
       "    <tr>\n",
       "      <th>1</th>\n",
       "      <td>2500.0</td>\n",
       "      <td>59.83</td>\n",
       "      <td>3</td>\n",
       "      <td>0</td>\n",
       "      <td>30000.0</td>\n",
       "      <td>0</td>\n",
       "      <td>1.00</td>\n",
       "      <td>0.0</td>\n",
       "      <td>5.0</td>\n",
       "      <td>3.0</td>\n",
       "      <td>...</td>\n",
       "      <td>0.0</td>\n",
       "      <td>0.0</td>\n",
       "      <td>0.0</td>\n",
       "      <td>0.0</td>\n",
       "      <td>0.0</td>\n",
       "      <td>0.0</td>\n",
       "      <td>0.0</td>\n",
       "      <td>0.0</td>\n",
       "      <td>0.0</td>\n",
       "      <td>1.0</td>\n",
       "    </tr>\n",
       "    <tr>\n",
       "      <th>2</th>\n",
       "      <td>2400.0</td>\n",
       "      <td>84.33</td>\n",
       "      <td>3</td>\n",
       "      <td>10</td>\n",
       "      <td>12252.0</td>\n",
       "      <td>1</td>\n",
       "      <td>8.72</td>\n",
       "      <td>0.0</td>\n",
       "      <td>2.0</td>\n",
       "      <td>2.0</td>\n",
       "      <td>...</td>\n",
       "      <td>0.0</td>\n",
       "      <td>0.0</td>\n",
       "      <td>0.0</td>\n",
       "      <td>0.0</td>\n",
       "      <td>0.0</td>\n",
       "      <td>1.0</td>\n",
       "      <td>0.0</td>\n",
       "      <td>0.0</td>\n",
       "      <td>1.0</td>\n",
       "      <td>0.0</td>\n",
       "    </tr>\n",
       "    <tr>\n",
       "      <th>3</th>\n",
       "      <td>10000.0</td>\n",
       "      <td>339.31</td>\n",
       "      <td>3</td>\n",
       "      <td>10</td>\n",
       "      <td>49200.0</td>\n",
       "      <td>1</td>\n",
       "      <td>20.00</td>\n",
       "      <td>0.0</td>\n",
       "      <td>1.0</td>\n",
       "      <td>10.0</td>\n",
       "      <td>...</td>\n",
       "      <td>0.0</td>\n",
       "      <td>0.0</td>\n",
       "      <td>0.0</td>\n",
       "      <td>1.0</td>\n",
       "      <td>0.0</td>\n",
       "      <td>0.0</td>\n",
       "      <td>0.0</td>\n",
       "      <td>0.0</td>\n",
       "      <td>1.0</td>\n",
       "      <td>0.0</td>\n",
       "    </tr>\n",
       "    <tr>\n",
       "      <th>4</th>\n",
       "      <td>5000.0</td>\n",
       "      <td>156.46</td>\n",
       "      <td>1</td>\n",
       "      <td>3</td>\n",
       "      <td>36000.0</td>\n",
       "      <td>1</td>\n",
       "      <td>11.20</td>\n",
       "      <td>0.0</td>\n",
       "      <td>3.0</td>\n",
       "      <td>9.0</td>\n",
       "      <td>...</td>\n",
       "      <td>0.0</td>\n",
       "      <td>0.0</td>\n",
       "      <td>0.0</td>\n",
       "      <td>0.0</td>\n",
       "      <td>0.0</td>\n",
       "      <td>0.0</td>\n",
       "      <td>0.0</td>\n",
       "      <td>1.0</td>\n",
       "      <td>1.0</td>\n",
       "      <td>0.0</td>\n",
       "    </tr>\n",
       "  </tbody>\n",
       "</table>\n",
       "<p>5 rows × 39 columns</p>\n",
       "</div>"
      ],
      "text/plain": [
       "   loan_amnt  installment  grade  emp_length  annual_inc  loan_status    dti  \\\n",
       "0     5000.0       162.87      2          10     24000.0            1  27.65   \n",
       "1     2500.0        59.83      3           0     30000.0            0   1.00   \n",
       "2     2400.0        84.33      3          10     12252.0            1   8.72   \n",
       "3    10000.0       339.31      3          10     49200.0            1  20.00   \n",
       "4     5000.0       156.46      1           3     36000.0            1  11.20   \n",
       "\n",
       "   delinq_2yrs  inq_last_6mths  open_acc  ...  purpose_major_purchase  \\\n",
       "0          0.0             1.0       3.0  ...                     0.0   \n",
       "1          0.0             5.0       3.0  ...                     0.0   \n",
       "2          0.0             2.0       2.0  ...                     0.0   \n",
       "3          0.0             1.0      10.0  ...                     0.0   \n",
       "4          0.0             3.0       9.0  ...                     0.0   \n",
       "\n",
       "   purpose_medical  purpose_moving  purpose_other  purpose_renewable_energy  \\\n",
       "0              0.0             0.0            0.0                       0.0   \n",
       "1              0.0             0.0            0.0                       0.0   \n",
       "2              0.0             0.0            0.0                       0.0   \n",
       "3              0.0             0.0            1.0                       0.0   \n",
       "4              0.0             0.0            0.0                       0.0   \n",
       "\n",
       "   purpose_small_business  purpose_vacation  purpose_wedding  term_ 36 months  \\\n",
       "0                     0.0               0.0              0.0              1.0   \n",
       "1                     0.0               0.0              0.0              0.0   \n",
       "2                     1.0               0.0              0.0              1.0   \n",
       "3                     0.0               0.0              0.0              1.0   \n",
       "4                     0.0               0.0              1.0              1.0   \n",
       "\n",
       "   term_ 60 months  \n",
       "0              0.0  \n",
       "1              1.0  \n",
       "2              0.0  \n",
       "3              0.0  \n",
       "4              0.0  \n",
       "\n",
       "[5 rows x 39 columns]"
      ]
     },
     "execution_count": 3,
     "metadata": {},
     "output_type": "execute_result"
    }
   ],
   "source": [
    "loans = pd.read_csv('https://github.com/kaopanboonyuen/2110446_DataScience_2021s2/raw/main/datasets/cleaned_loans_2007.csv',low_memory=False)\n",
    "loans.head()"
   ]
  },
  {
   "cell_type": "code",
   "execution_count": 4,
   "metadata": {
    "colab": {
     "base_uri": "https://localhost:8080/",
     "height": 34
    },
    "id": "REr8H9ZUD4rp",
    "outputId": "bbd7987c-b97e-4f92-ca8c-71d5eafd8bff"
   },
   "outputs": [
    {
     "data": {
      "text/plain": [
       "(39177, 39)"
      ]
     },
     "execution_count": 4,
     "metadata": {},
     "output_type": "execute_result"
    }
   ],
   "source": [
    "loans.shape"
   ]
  },
  {
   "cell_type": "code",
   "execution_count": 5,
   "metadata": {
    "colab": {
     "base_uri": "https://localhost:8080/",
     "height": 70
    },
    "id": "T357iBrrD4rs",
    "outputId": "5cc15f58-f572-42f4-c6f8-6ca3b6b22f30"
   },
   "outputs": [
    {
     "data": {
      "text/plain": [
       "1    0.856191\n",
       "0    0.143809\n",
       "Name: loan_status, dtype: float64"
      ]
     },
     "execution_count": 5,
     "metadata": {},
     "output_type": "execute_result"
    }
   ],
   "source": [
    "loans['loan_status'].value_counts() / loans.shape[0]"
   ]
  },
  {
   "cell_type": "code",
   "execution_count": 6,
   "metadata": {
    "colab": {
     "base_uri": "https://localhost:8080/",
     "height": 324
    },
    "id": "i5Ym454eD4rv",
    "outputId": "f8c2d8b7-3aec-4bd4-a07b-864a395f522e"
   },
   "outputs": [
    {
     "data": {
      "text/html": [
       "<div>\n",
       "<style scoped>\n",
       "    .dataframe tbody tr th:only-of-type {\n",
       "        vertical-align: middle;\n",
       "    }\n",
       "\n",
       "    .dataframe tbody tr th {\n",
       "        vertical-align: top;\n",
       "    }\n",
       "\n",
       "    .dataframe thead th {\n",
       "        text-align: right;\n",
       "    }\n",
       "</style>\n",
       "<table border=\"1\" class=\"dataframe\">\n",
       "  <thead>\n",
       "    <tr style=\"text-align: right;\">\n",
       "      <th></th>\n",
       "      <th>loan_amnt</th>\n",
       "      <th>installment</th>\n",
       "      <th>grade</th>\n",
       "      <th>emp_length</th>\n",
       "      <th>annual_inc</th>\n",
       "      <th>loan_status</th>\n",
       "      <th>dti</th>\n",
       "      <th>delinq_2yrs</th>\n",
       "      <th>inq_last_6mths</th>\n",
       "      <th>open_acc</th>\n",
       "      <th>...</th>\n",
       "      <th>purpose_major_purchase</th>\n",
       "      <th>purpose_medical</th>\n",
       "      <th>purpose_moving</th>\n",
       "      <th>purpose_other</th>\n",
       "      <th>purpose_renewable_energy</th>\n",
       "      <th>purpose_small_business</th>\n",
       "      <th>purpose_vacation</th>\n",
       "      <th>purpose_wedding</th>\n",
       "      <th>term_ 36 months</th>\n",
       "      <th>term_ 60 months</th>\n",
       "    </tr>\n",
       "  </thead>\n",
       "  <tbody>\n",
       "    <tr>\n",
       "      <th>count</th>\n",
       "      <td>39177.000000</td>\n",
       "      <td>39177.000000</td>\n",
       "      <td>39177.000000</td>\n",
       "      <td>39177.000000</td>\n",
       "      <td>3.917700e+04</td>\n",
       "      <td>39177.000000</td>\n",
       "      <td>39177.000000</td>\n",
       "      <td>39177.000000</td>\n",
       "      <td>39177.000000</td>\n",
       "      <td>39177.000000</td>\n",
       "      <td>...</td>\n",
       "      <td>39177.000000</td>\n",
       "      <td>39177.000000</td>\n",
       "      <td>39177.000000</td>\n",
       "      <td>39177.000000</td>\n",
       "      <td>39177.000000</td>\n",
       "      <td>39177.000000</td>\n",
       "      <td>39177.000000</td>\n",
       "      <td>39177.000000</td>\n",
       "      <td>39177.000000</td>\n",
       "      <td>39177.000000</td>\n",
       "    </tr>\n",
       "    <tr>\n",
       "      <th>mean</th>\n",
       "      <td>11143.689537</td>\n",
       "      <td>323.514635</td>\n",
       "      <td>2.565561</td>\n",
       "      <td>4.828471</td>\n",
       "      <td>6.891654e+04</td>\n",
       "      <td>0.856191</td>\n",
       "      <td>13.298736</td>\n",
       "      <td>0.146540</td>\n",
       "      <td>0.870230</td>\n",
       "      <td>9.292646</td>\n",
       "      <td>...</td>\n",
       "      <td>0.055594</td>\n",
       "      <td>0.017561</td>\n",
       "      <td>0.014805</td>\n",
       "      <td>0.100084</td>\n",
       "      <td>0.002629</td>\n",
       "      <td>0.045741</td>\n",
       "      <td>0.009623</td>\n",
       "      <td>0.023994</td>\n",
       "      <td>0.741277</td>\n",
       "      <td>0.258723</td>\n",
       "    </tr>\n",
       "    <tr>\n",
       "      <th>std</th>\n",
       "      <td>7398.202266</td>\n",
       "      <td>208.483501</td>\n",
       "      <td>1.383501</td>\n",
       "      <td>3.603729</td>\n",
       "      <td>6.400410e+04</td>\n",
       "      <td>0.350900</td>\n",
       "      <td>6.674513</td>\n",
       "      <td>0.491341</td>\n",
       "      <td>1.071069</td>\n",
       "      <td>4.400309</td>\n",
       "      <td>...</td>\n",
       "      <td>0.229139</td>\n",
       "      <td>0.131352</td>\n",
       "      <td>0.120772</td>\n",
       "      <td>0.300116</td>\n",
       "      <td>0.051208</td>\n",
       "      <td>0.208926</td>\n",
       "      <td>0.097625</td>\n",
       "      <td>0.153031</td>\n",
       "      <td>0.437939</td>\n",
       "      <td>0.437939</td>\n",
       "    </tr>\n",
       "    <tr>\n",
       "      <th>min</th>\n",
       "      <td>500.000000</td>\n",
       "      <td>15.690000</td>\n",
       "      <td>1.000000</td>\n",
       "      <td>0.000000</td>\n",
       "      <td>4.000000e+03</td>\n",
       "      <td>0.000000</td>\n",
       "      <td>0.000000</td>\n",
       "      <td>0.000000</td>\n",
       "      <td>0.000000</td>\n",
       "      <td>2.000000</td>\n",
       "      <td>...</td>\n",
       "      <td>0.000000</td>\n",
       "      <td>0.000000</td>\n",
       "      <td>0.000000</td>\n",
       "      <td>0.000000</td>\n",
       "      <td>0.000000</td>\n",
       "      <td>0.000000</td>\n",
       "      <td>0.000000</td>\n",
       "      <td>0.000000</td>\n",
       "      <td>0.000000</td>\n",
       "      <td>0.000000</td>\n",
       "    </tr>\n",
       "    <tr>\n",
       "      <th>25%</th>\n",
       "      <td>5425.000000</td>\n",
       "      <td>166.500000</td>\n",
       "      <td>1.000000</td>\n",
       "      <td>2.000000</td>\n",
       "      <td>4.020000e+04</td>\n",
       "      <td>1.000000</td>\n",
       "      <td>8.160000</td>\n",
       "      <td>0.000000</td>\n",
       "      <td>0.000000</td>\n",
       "      <td>6.000000</td>\n",
       "      <td>...</td>\n",
       "      <td>0.000000</td>\n",
       "      <td>0.000000</td>\n",
       "      <td>0.000000</td>\n",
       "      <td>0.000000</td>\n",
       "      <td>0.000000</td>\n",
       "      <td>0.000000</td>\n",
       "      <td>0.000000</td>\n",
       "      <td>0.000000</td>\n",
       "      <td>0.000000</td>\n",
       "      <td>0.000000</td>\n",
       "    </tr>\n",
       "    <tr>\n",
       "      <th>50%</th>\n",
       "      <td>10000.000000</td>\n",
       "      <td>279.160000</td>\n",
       "      <td>2.000000</td>\n",
       "      <td>4.000000</td>\n",
       "      <td>5.900000e+04</td>\n",
       "      <td>1.000000</td>\n",
       "      <td>13.390000</td>\n",
       "      <td>0.000000</td>\n",
       "      <td>1.000000</td>\n",
       "      <td>9.000000</td>\n",
       "      <td>...</td>\n",
       "      <td>0.000000</td>\n",
       "      <td>0.000000</td>\n",
       "      <td>0.000000</td>\n",
       "      <td>0.000000</td>\n",
       "      <td>0.000000</td>\n",
       "      <td>0.000000</td>\n",
       "      <td>0.000000</td>\n",
       "      <td>0.000000</td>\n",
       "      <td>1.000000</td>\n",
       "      <td>0.000000</td>\n",
       "    </tr>\n",
       "    <tr>\n",
       "      <th>75%</th>\n",
       "      <td>15000.000000</td>\n",
       "      <td>428.030000</td>\n",
       "      <td>3.000000</td>\n",
       "      <td>9.000000</td>\n",
       "      <td>8.200000e+04</td>\n",
       "      <td>1.000000</td>\n",
       "      <td>18.580000</td>\n",
       "      <td>0.000000</td>\n",
       "      <td>1.000000</td>\n",
       "      <td>12.000000</td>\n",
       "      <td>...</td>\n",
       "      <td>0.000000</td>\n",
       "      <td>0.000000</td>\n",
       "      <td>0.000000</td>\n",
       "      <td>0.000000</td>\n",
       "      <td>0.000000</td>\n",
       "      <td>0.000000</td>\n",
       "      <td>0.000000</td>\n",
       "      <td>0.000000</td>\n",
       "      <td>1.000000</td>\n",
       "      <td>1.000000</td>\n",
       "    </tr>\n",
       "    <tr>\n",
       "      <th>max</th>\n",
       "      <td>35000.000000</td>\n",
       "      <td>1305.190000</td>\n",
       "      <td>7.000000</td>\n",
       "      <td>10.000000</td>\n",
       "      <td>6.000000e+06</td>\n",
       "      <td>1.000000</td>\n",
       "      <td>29.990000</td>\n",
       "      <td>11.000000</td>\n",
       "      <td>8.000000</td>\n",
       "      <td>44.000000</td>\n",
       "      <td>...</td>\n",
       "      <td>1.000000</td>\n",
       "      <td>1.000000</td>\n",
       "      <td>1.000000</td>\n",
       "      <td>1.000000</td>\n",
       "      <td>1.000000</td>\n",
       "      <td>1.000000</td>\n",
       "      <td>1.000000</td>\n",
       "      <td>1.000000</td>\n",
       "      <td>1.000000</td>\n",
       "      <td>1.000000</td>\n",
       "    </tr>\n",
       "  </tbody>\n",
       "</table>\n",
       "<p>8 rows × 39 columns</p>\n",
       "</div>"
      ],
      "text/plain": [
       "          loan_amnt   installment         grade    emp_length    annual_inc  \\\n",
       "count  39177.000000  39177.000000  39177.000000  39177.000000  3.917700e+04   \n",
       "mean   11143.689537    323.514635      2.565561      4.828471  6.891654e+04   \n",
       "std     7398.202266    208.483501      1.383501      3.603729  6.400410e+04   \n",
       "min      500.000000     15.690000      1.000000      0.000000  4.000000e+03   \n",
       "25%     5425.000000    166.500000      1.000000      2.000000  4.020000e+04   \n",
       "50%    10000.000000    279.160000      2.000000      4.000000  5.900000e+04   \n",
       "75%    15000.000000    428.030000      3.000000      9.000000  8.200000e+04   \n",
       "max    35000.000000   1305.190000      7.000000     10.000000  6.000000e+06   \n",
       "\n",
       "        loan_status           dti   delinq_2yrs  inq_last_6mths      open_acc  \\\n",
       "count  39177.000000  39177.000000  39177.000000    39177.000000  39177.000000   \n",
       "mean       0.856191     13.298736      0.146540        0.870230      9.292646   \n",
       "std        0.350900      6.674513      0.491341        1.071069      4.400309   \n",
       "min        0.000000      0.000000      0.000000        0.000000      2.000000   \n",
       "25%        1.000000      8.160000      0.000000        0.000000      6.000000   \n",
       "50%        1.000000     13.390000      0.000000        1.000000      9.000000   \n",
       "75%        1.000000     18.580000      0.000000        1.000000     12.000000   \n",
       "max        1.000000     29.990000     11.000000        8.000000     44.000000   \n",
       "\n",
       "       ...  purpose_major_purchase  purpose_medical  purpose_moving  \\\n",
       "count  ...            39177.000000     39177.000000    39177.000000   \n",
       "mean   ...                0.055594         0.017561        0.014805   \n",
       "std    ...                0.229139         0.131352        0.120772   \n",
       "min    ...                0.000000         0.000000        0.000000   \n",
       "25%    ...                0.000000         0.000000        0.000000   \n",
       "50%    ...                0.000000         0.000000        0.000000   \n",
       "75%    ...                0.000000         0.000000        0.000000   \n",
       "max    ...                1.000000         1.000000        1.000000   \n",
       "\n",
       "       purpose_other  purpose_renewable_energy  purpose_small_business  \\\n",
       "count   39177.000000              39177.000000            39177.000000   \n",
       "mean        0.100084                  0.002629                0.045741   \n",
       "std         0.300116                  0.051208                0.208926   \n",
       "min         0.000000                  0.000000                0.000000   \n",
       "25%         0.000000                  0.000000                0.000000   \n",
       "50%         0.000000                  0.000000                0.000000   \n",
       "75%         0.000000                  0.000000                0.000000   \n",
       "max         1.000000                  1.000000                1.000000   \n",
       "\n",
       "       purpose_vacation  purpose_wedding  term_ 36 months  term_ 60 months  \n",
       "count      39177.000000     39177.000000     39177.000000     39177.000000  \n",
       "mean           0.009623         0.023994         0.741277         0.258723  \n",
       "std            0.097625         0.153031         0.437939         0.437939  \n",
       "min            0.000000         0.000000         0.000000         0.000000  \n",
       "25%            0.000000         0.000000         0.000000         0.000000  \n",
       "50%            0.000000         0.000000         1.000000         0.000000  \n",
       "75%            0.000000         0.000000         1.000000         1.000000  \n",
       "max            1.000000         1.000000         1.000000         1.000000  \n",
       "\n",
       "[8 rows x 39 columns]"
      ]
     },
     "execution_count": 6,
     "metadata": {},
     "output_type": "execute_result"
    }
   ],
   "source": [
    "loans.describe()"
   ]
  },
  {
   "cell_type": "code",
   "execution_count": 7,
   "metadata": {
    "id": "0REBJxGkD4ry"
   },
   "outputs": [],
   "source": [
    "from sklearn.model_selection import train_test_split\n",
    "y = loans.pop('loan_status')\n",
    "X = loans\n",
    "\n",
    "X_train,X_test,y_train,y_test = train_test_split(X,y,stratify=y,test_size=0.25, random_state=42)"
   ]
  },
  {
   "cell_type": "code",
   "execution_count": 8,
   "metadata": {
    "colab": {
     "base_uri": "https://localhost:8080/",
     "height": 34
    },
    "id": "iOFdqYPgD4r1",
    "outputId": "930e31b1-fc99-446f-f64e-bd0e9827f67d"
   },
   "outputs": [
    {
     "name": "stdout",
     "output_type": "stream",
     "text": [
      "(29382, 38)\n"
     ]
    }
   ],
   "source": [
    "print(X_train.shape)"
   ]
  },
  {
   "cell_type": "code",
   "execution_count": 9,
   "metadata": {
    "colab": {
     "base_uri": "https://localhost:8080/",
     "height": 34
    },
    "id": "It4I4f9FD4r4",
    "outputId": "5ce7001d-d489-4feb-8254-486ba72c3be0"
   },
   "outputs": [
    {
     "name": "stdout",
     "output_type": "stream",
     "text": [
      "(9795, 38)\n"
     ]
    }
   ],
   "source": [
    "print(X_test.shape)"
   ]
  },
  {
   "cell_type": "code",
   "execution_count": 10,
   "metadata": {
    "colab": {
     "base_uri": "https://localhost:8080/",
     "height": 70
    },
    "id": "9_8s72aID4r7",
    "outputId": "f0d635ba-db06-4703-e25d-d077f22d902b"
   },
   "outputs": [
    {
     "data": {
      "text/plain": [
       "1    0.856204\n",
       "0    0.143796\n",
       "Name: loan_status, dtype: float64"
      ]
     },
     "execution_count": 10,
     "metadata": {},
     "output_type": "execute_result"
    }
   ],
   "source": [
    "y_train.value_counts() / y_train.shape[0]"
   ]
  },
  {
   "cell_type": "code",
   "execution_count": 11,
   "metadata": {
    "colab": {
     "base_uri": "https://localhost:8080/",
     "height": 70
    },
    "id": "TyLSPupjD4r-",
    "outputId": "2d6d831e-f982-4e1b-c079-67760874f777"
   },
   "outputs": [
    {
     "data": {
      "text/plain": [
       "1    0.856151\n",
       "0    0.143849\n",
       "Name: loan_status, dtype: float64"
      ]
     },
     "execution_count": 11,
     "metadata": {},
     "output_type": "execute_result"
    }
   ],
   "source": [
    "y_test.value_counts() / y_test.shape[0]"
   ]
  },
  {
   "cell_type": "code",
   "execution_count": null,
   "metadata": {
    "id": "zRoxAE1iE7cz"
   },
   "outputs": [],
   "source": []
  },
  {
   "cell_type": "code",
   "execution_count": null,
   "metadata": {
    "id": "Qr9nh0tIFVf-"
   },
   "outputs": [],
   "source": []
  }
 ],
 "metadata": {
  "anaconda-cloud": {},
  "colab": {
   "collapsed_sections": [],
   "name": "Lab5_SplitTrainTest.ipynb",
   "provenance": []
  },
  "kernelspec": {
   "display_name": "Python 3",
   "language": "python",
   "name": "python3"
  },
  "language_info": {
   "codemirror_mode": {
    "name": "ipython",
    "version": 3
   },
   "file_extension": ".py",
   "mimetype": "text/x-python",
   "name": "python",
   "nbconvert_exporter": "python",
   "pygments_lexer": "ipython3",
   "version": "3.8.3"
  },
  "toc": {
   "base_numbering": 1,
   "nav_menu": {},
   "number_sections": true,
   "sideBar": true,
   "skip_h1_title": false,
   "title_cell": "Table of Contents",
   "title_sidebar": "Contents",
   "toc_cell": false,
   "toc_position": {},
   "toc_section_display": true,
   "toc_window_display": false
  }
 },
 "nbformat": 4,
 "nbformat_minor": 1
}
