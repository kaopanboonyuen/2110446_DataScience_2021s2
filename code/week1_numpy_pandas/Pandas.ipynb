{
  "nbformat": 4,
  "nbformat_minor": 0,
  "metadata": {
    "kernelspec": {
      "display_name": "Python 3",
      "language": "python",
      "name": "python3"
    },
    "language_info": {
      "codemirror_mode": {
        "name": "ipython",
        "version": 3
      },
      "file_extension": ".py",
      "mimetype": "text/x-python",
      "name": "python",
      "nbconvert_exporter": "python",
      "pygments_lexer": "ipython3",
      "version": "3.7.4"
    },
    "toc": {
      "base_numbering": 1,
      "nav_menu": {},
      "number_sections": true,
      "sideBar": true,
      "skip_h1_title": false,
      "title_cell": "Table of Contents",
      "title_sidebar": "Contents",
      "toc_cell": false,
      "toc_position": {
        "height": "calc(100% - 180px)",
        "left": "10px",
        "top": "150px",
        "width": "498.594px"
      },
      "toc_section_display": true,
      "toc_window_display": true
    },
    "varInspector": {
      "cols": {
        "lenName": 16,
        "lenType": 16,
        "lenVar": 40
      },
      "kernels_config": {
        "python": {
          "delete_cmd_postfix": "",
          "delete_cmd_prefix": "del ",
          "library": "var_list.py",
          "varRefreshCmd": "print(var_dic_list())"
        },
        "r": {
          "delete_cmd_postfix": ") ",
          "delete_cmd_prefix": "rm(",
          "library": "var_list.r",
          "varRefreshCmd": "cat(var_dic_list()) "
        }
      },
      "types_to_exclude": [
        "module",
        "function",
        "builtin_function_or_method",
        "instance",
        "_Feature"
      ],
      "window_display": false
    },
    "colab": {
      "name": "Pandas.ipynb",
      "provenance": [],
      "collapsed_sections": [],
      "toc_visible": true
    }
  },
  "cells": [
    {
      "cell_type": "markdown",
      "metadata": {
        "id": "YQibouG4iHAQ"
      },
      "source": [
        "# Import Library"
      ]
    },
    {
      "cell_type": "code",
      "metadata": {
        "id": "uD1qAqYuiHAR"
      },
      "source": [
        "import pandas as pd\n",
        "import numpy as np"
      ],
      "execution_count": null,
      "outputs": []
    },
    {
      "cell_type": "markdown",
      "metadata": {
        "id": "xZ93LnsmiHAV"
      },
      "source": [
        "# Series"
      ]
    },
    {
      "cell_type": "markdown",
      "metadata": {
        "id": "QVmY7u58iHAW"
      },
      "source": [
        "## Create Series"
      ]
    },
    {
      "cell_type": "markdown",
      "metadata": {
        "id": "ArvcnmK5iHAW"
      },
      "source": [
        "There are many approaches to create a Series.  We first create a Series with 5 elements from a list:\n",
        "\n",
        "Index | Data (int)\n",
        ":---: | :---:\n",
        "0 | 14\n",
        "1 | -8\n",
        "2 | 0\n",
        "3 | 3\n",
        "4 | 9\n",
        "\n",
        "Note that **integer index starts from 0**"
      ]
    },
    {
      "cell_type": "code",
      "metadata": {
        "id": "0okZD2xSiHAX"
      },
      "source": [
        "# create Series from a list\n",
        "s1 = pd.Series([14, -8, 0, 3, 9])\n",
        "s1"
      ],
      "execution_count": null,
      "outputs": []
    },
    {
      "cell_type": "code",
      "metadata": {
        "id": "SqHNCqsfiHAc"
      },
      "source": [
        "type(s1)"
      ],
      "execution_count": null,
      "outputs": []
    },
    {
      "cell_type": "code",
      "metadata": {
        "id": "r1D7WphoiHAg"
      },
      "source": [
        "s1.dtype"
      ],
      "execution_count": null,
      "outputs": []
    },
    {
      "cell_type": "code",
      "metadata": {
        "id": "uDhLS9XHiHAj"
      },
      "source": [
        "s1.values"
      ],
      "execution_count": null,
      "outputs": []
    },
    {
      "cell_type": "code",
      "metadata": {
        "id": "2PDS0JV0iHAn"
      },
      "source": [
        "s1.index"
      ],
      "execution_count": null,
      "outputs": []
    },
    {
      "cell_type": "code",
      "metadata": {
        "id": "SVefUyMmiHAt"
      },
      "source": [
        "#Get value in index 0\n",
        "print(s1[0])\n",
        "print(s1[2])"
      ],
      "execution_count": null,
      "outputs": []
    },
    {
      "cell_type": "markdown",
      "metadata": {
        "id": "8S0VFDAfiHA2"
      },
      "source": [
        "## Create Series with Index"
      ]
    },
    {
      "cell_type": "markdown",
      "metadata": {
        "id": "dJG58kEAiHA3"
      },
      "source": [
        "We can create a Series with labels as index.  A label can be an arbitary string.  Although, we assign labels to the Series, integer index still exists.\n",
        "\n",
        "Index | Label | Data (int)\n",
        ":---: | :---: | :---:\n",
        "0 | d | 14\n",
        "1 | b | -8\n",
        "2 | a | 0\n",
        "3 | c | 3\n",
        "4 | x | 9\n",
        "\n",
        "Note that when we display a Series, it will show labels (if exist) or integer index (otherwise)."
      ]
    },
    {
      "cell_type": "code",
      "metadata": {
        "id": "GxGz9biZiHA4"
      },
      "source": [
        "# create series with index, which can be numbers or strings\n",
        "s2 = pd.Series([14, -8, 0, 3, 9], index=['d','a','b','c', 'x'])\n",
        "s2"
      ],
      "execution_count": null,
      "outputs": []
    },
    {
      "cell_type": "code",
      "metadata": {
        "id": "GMyhV6fJiHA8"
      },
      "source": [
        "s2.index"
      ],
      "execution_count": null,
      "outputs": []
    },
    {
      "cell_type": "code",
      "metadata": {
        "id": "wGbtZYrgiHBA"
      },
      "source": [
        "#Get value in index 'a'\n",
        "print(s2['a'])\n",
        "print(s2[1])"
      ],
      "execution_count": null,
      "outputs": []
    },
    {
      "cell_type": "markdown",
      "metadata": {
        "id": "wDD7C_qqiHBH"
      },
      "source": [
        "# Series Operation"
      ]
    },
    {
      "cell_type": "code",
      "metadata": {
        "id": "SyilPt3XiHBH"
      },
      "source": [
        "s2.values"
      ],
      "execution_count": null,
      "outputs": []
    },
    {
      "cell_type": "code",
      "metadata": {
        "id": "bTx8Z-h-iHBL"
      },
      "source": [
        "# Apply with Lambda\n",
        "s2.apply(lambda x : x**2)"
      ],
      "execution_count": null,
      "outputs": []
    },
    {
      "cell_type": "code",
      "metadata": {
        "id": "RbcFKpMdiHBO"
      },
      "source": [
        "# Apply with method\n",
        "def power(x):\n",
        "    return x**2\n",
        "s2.apply(power)"
      ],
      "execution_count": null,
      "outputs": []
    },
    {
      "cell_type": "code",
      "metadata": {
        "id": "PrLzixM4N4_H"
      },
      "source": [
        "s2"
      ],
      "execution_count": null,
      "outputs": []
    },
    {
      "cell_type": "markdown",
      "metadata": {
        "id": "8LB4-VBliHBU"
      },
      "source": [
        "# DataFrame"
      ]
    },
    {
      "cell_type": "markdown",
      "metadata": {
        "id": "CEB0WMzdiHBV"
      },
      "source": [
        "## Create DataFrame from List"
      ]
    },
    {
      "cell_type": "markdown",
      "metadata": {
        "id": "xovWG8PuiHBV"
      },
      "source": [
        "There are several approaches to create a DataFrame.  A simple one is to create from dict.\n",
        "We create the following DataFrame:\n",
        "\n",
        "Index | province | year | population\n",
        ":---: | :---: | :---: | :---:\n",
        "0 | Chiang Mai | 2016 | 1630428\n",
        "1 | Chiang Mai | 2017 | 1664012\n",
        "2 | Chiang Mai | 2018 | 1687971\n",
        "3 | Phrae | 2016 | 398936\n",
        "4 | Phrae | 2017 | 410382\n",
        "5 | Phrae | 2018 | 421653"
      ]
    },
    {
      "cell_type": "code",
      "metadata": {
        "id": "hTAe8EWKiHBW"
      },
      "source": [
        "# Create From a List\n",
        "data = [\n",
        "    ['Chiang Mai', 2016, 1630428],\n",
        "    ['Chiang Mai', 2017, 1664012],\n",
        "    ['Chiang Mai', 2018, 1687971],\n",
        "    ['Phrae', 2016, 398936],\n",
        "    ['Phrae', 2017, 410382],\n",
        "    ['Phrae', 2018, 421653]\n",
        "]\n",
        "df = pd.DataFrame(\n",
        "    data=data,\n",
        "    columns=['province','year','population']\n",
        ")\n",
        "df"
      ],
      "execution_count": null,
      "outputs": []
    },
    {
      "cell_type": "code",
      "metadata": {
        "id": "ONGYgffciHBY"
      },
      "source": [
        "# Create From a Dict\n",
        "data = {\n",
        "    'province': ['Chiang Mai', 'Chiang Mai', 'Chiang Mai', 'Phrae', 'Phrae', 'Phrae'],\n",
        "    'year': [2016, 2017, 2018, 2016, 2017, 2018],\n",
        "    'population': [1630428, 1664012, 1687971, 398936, 410382, 421653]\n",
        "}\n",
        "df = pd.DataFrame(data)\n",
        "df"
      ],
      "execution_count": null,
      "outputs": []
    },
    {
      "cell_type": "code",
      "metadata": {
        "id": "KAMgnRxziHBe"
      },
      "source": [
        "# Pandas to List\n",
        "df.values.tolist()"
      ],
      "execution_count": null,
      "outputs": []
    },
    {
      "cell_type": "markdown",
      "metadata": {
        "id": "mgLvfWItiHBh"
      },
      "source": [
        "## Create DataFrame from File"
      ]
    },
    {
      "cell_type": "markdown",
      "metadata": {
        "id": "8An1gYRiiT7J"
      },
      "source": [
        "### Download Data"
      ]
    },
    {
      "cell_type": "markdown",
      "metadata": {
        "id": "-cBxxR8PiHBi"
      },
      "source": [
        "### Read File"
      ]
    },
    {
      "cell_type": "code",
      "metadata": {
        "id": "_4Mn5_1_iHBi"
      },
      "source": [
        "df = pd.read_csv('https://github.com/kaopanboonyuen/2110446_DataScience_2021s2/raw/main/datasets/sample.csv')\n",
        "df"
      ],
      "execution_count": null,
      "outputs": []
    },
    {
      "cell_type": "code",
      "metadata": {
        "id": "RMH6neN4iHBk"
      },
      "source": [
        "df = pd.read_excel('https://github.com/kaopanboonyuen/2110446_DataScience_2021s2/raw/main/datasets/sample.xlsx', sheet_name='sheet1')\n",
        "df"
      ],
      "execution_count": null,
      "outputs": []
    },
    {
      "cell_type": "code",
      "metadata": {
        "id": "S1lot6iDiHBn"
      },
      "source": [
        "df2 = pd.read_sas('https://github.com/kaopanboonyuen/2110446_DataScience_2021s2/raw/main/datasets/pva97nk.sas7bdat')\n",
        "df2"
      ],
      "execution_count": null,
      "outputs": []
    },
    {
      "cell_type": "markdown",
      "metadata": {
        "id": "D7rfb2HviHBq"
      },
      "source": [
        "### Write File"
      ]
    },
    {
      "cell_type": "code",
      "metadata": {
        "id": "3NI4bcRKiHBq"
      },
      "source": [
        "df.to_csv('sample_test.csv', index=False)"
      ],
      "execution_count": null,
      "outputs": []
    },
    {
      "cell_type": "code",
      "metadata": {
        "id": "jZq9ckbeiHBt"
      },
      "source": [
        "df.to_excel('sample_test.xlsx', sheet_name='sheet1', index=False)"
      ],
      "execution_count": null,
      "outputs": []
    },
    {
      "cell_type": "markdown",
      "metadata": {
        "id": "lspQn9feiHBv"
      },
      "source": [
        "## Index"
      ]
    },
    {
      "cell_type": "code",
      "metadata": {
        "id": "JXkhA468iHBv"
      },
      "source": [
        "# Index\n",
        "df.set_index('province')"
      ],
      "execution_count": null,
      "outputs": []
    },
    {
      "cell_type": "code",
      "metadata": {
        "id": "iyv_jiVLiHB2"
      },
      "source": [
        "# Index\n",
        "df2 = df.set_index(['province','year'])\n",
        "df2"
      ],
      "execution_count": null,
      "outputs": []
    },
    {
      "cell_type": "code",
      "metadata": {
        "scrolled": true,
        "id": "DRNlEBhdiHB7"
      },
      "source": [
        "df2.reset_index()"
      ],
      "execution_count": null,
      "outputs": []
    },
    {
      "cell_type": "markdown",
      "metadata": {
        "id": "ZzoKCDfYiHB-"
      },
      "source": [
        "## Inspecting Data"
      ]
    },
    {
      "cell_type": "markdown",
      "metadata": {
        "id": "rqaJ-bqciHB_"
      },
      "source": [
        "### Row"
      ]
    },
    {
      "cell_type": "markdown",
      "metadata": {
        "id": "NZ_7JT0CiHB_"
      },
      "source": [
        "#### View"
      ]
    },
    {
      "cell_type": "code",
      "metadata": {
        "id": "rVDMNZ60iHB_"
      },
      "source": [
        "df.head(3)"
      ],
      "execution_count": null,
      "outputs": []
    },
    {
      "cell_type": "code",
      "metadata": {
        "id": "luFo6_ePiHCC"
      },
      "source": [
        "df.tail(3)"
      ],
      "execution_count": null,
      "outputs": []
    },
    {
      "cell_type": "markdown",
      "metadata": {
        "id": "Vys2BQhkiHCH"
      },
      "source": [
        "#### Sample"
      ]
    },
    {
      "cell_type": "code",
      "metadata": {
        "id": "sEBkpnwFiHCI"
      },
      "source": [
        "#Random\n",
        "display(df.sample(3))\n",
        "display(df.sample(3))"
      ],
      "execution_count": null,
      "outputs": []
    },
    {
      "cell_type": "code",
      "metadata": {
        "id": "DrSZIDKAiHCM"
      },
      "source": [
        "#Random with fix random_state\n",
        "display(df.sample(3, random_state = 123))\n",
        "display(df.sample(3, random_state = 123))"
      ],
      "execution_count": null,
      "outputs": []
    },
    {
      "cell_type": "markdown",
      "metadata": {
        "id": "M7x3wdOZiHCQ"
      },
      "source": [
        "#### Get Some Rows"
      ]
    },
    {
      "cell_type": "code",
      "metadata": {
        "id": "MIBlF5uxiHCR"
      },
      "source": [
        "df2 = df.set_index(['province'])\n",
        "df2"
      ],
      "execution_count": null,
      "outputs": []
    },
    {
      "cell_type": "code",
      "metadata": {
        "id": "rhwVl28KiHCV"
      },
      "source": [
        "# Index Position\n",
        "df2.iloc[0]"
      ],
      "execution_count": null,
      "outputs": []
    },
    {
      "cell_type": "code",
      "metadata": {
        "id": "Y1QB8EbGiHCX"
      },
      "source": [
        "# Index Position\n",
        "df2.iloc[1:4]"
      ],
      "execution_count": null,
      "outputs": []
    },
    {
      "cell_type": "code",
      "metadata": {
        "id": "fvb3yNUBiHCa"
      },
      "source": [
        "# Index name\n",
        "df2.loc['Chiang Mai']"
      ],
      "execution_count": null,
      "outputs": []
    },
    {
      "cell_type": "code",
      "metadata": {
        "id": "Bok1Z6y6iHCc"
      },
      "source": [
        "# Index name\n",
        "df2.loc[['Chiang Mai','Phrae']]"
      ],
      "execution_count": null,
      "outputs": []
    },
    {
      "cell_type": "markdown",
      "metadata": {
        "id": "kOwYAw9MiHCg"
      },
      "source": [
        "### Column"
      ]
    },
    {
      "cell_type": "code",
      "metadata": {
        "id": "y84QKNJ1iHCh"
      },
      "source": [
        "df.columns"
      ],
      "execution_count": null,
      "outputs": []
    },
    {
      "cell_type": "code",
      "metadata": {
        "id": "N9M6jlhaiHCl"
      },
      "source": [
        "columns_list = ['year','population']\n",
        "df[columns_list]"
      ],
      "execution_count": null,
      "outputs": []
    },
    {
      "cell_type": "code",
      "metadata": {
        "id": "v60mM5wHY8FQ"
      },
      "source": [
        "df.year"
      ],
      "execution_count": null,
      "outputs": []
    },
    {
      "cell_type": "markdown",
      "metadata": {
        "id": "DXfXZpKWiHCp"
      },
      "source": [
        "#### Drop"
      ]
    },
    {
      "cell_type": "code",
      "metadata": {
        "id": "cwYBUM8LiHCp"
      },
      "source": [
        "df.drop(columns=['province'])"
      ],
      "execution_count": null,
      "outputs": []
    },
    {
      "cell_type": "code",
      "metadata": {
        "id": "5X_iV-VlZSoY"
      },
      "source": [
        "df"
      ],
      "execution_count": null,
      "outputs": []
    },
    {
      "cell_type": "markdown",
      "metadata": {
        "id": "l4LcXPTkiHCt"
      },
      "source": [
        "#### Rename"
      ]
    },
    {
      "cell_type": "code",
      "metadata": {
        "id": "VM9E6-CwiHCu"
      },
      "source": [
        "mapper = {\n",
        "    'province':'Province',\n",
        "    'year':'Year',\n",
        "    'population':'Population'\n",
        "}\n",
        "df.rename(columns=mapper)"
      ],
      "execution_count": null,
      "outputs": []
    },
    {
      "cell_type": "markdown",
      "metadata": {
        "id": "9-UC83wNiHCx"
      },
      "source": [
        "#### Create/Replace Column with Value/Array"
      ]
    },
    {
      "cell_type": "code",
      "metadata": {
        "id": "osIehOSgiHCx"
      },
      "source": [
        "df['source'] = 'A'\n",
        "df"
      ],
      "execution_count": null,
      "outputs": []
    },
    {
      "cell_type": "code",
      "metadata": {
        "id": "TRLyNOJmiHC3"
      },
      "source": [
        "df['source'] = ['A','B','A','C','A','B']\n",
        "df"
      ],
      "execution_count": null,
      "outputs": []
    },
    {
      "cell_type": "code",
      "metadata": {
        "id": "p2IRL-0JiHC_"
      },
      "source": [
        "df['population (K)'] = df['population'] / 1000\n",
        "df"
      ],
      "execution_count": null,
      "outputs": []
    },
    {
      "cell_type": "code",
      "metadata": {
        "id": "z0zEMWmoiHDC"
      },
      "source": [
        "df['population (K)'] = df['population'].apply(lambda x : x / 1000)\n",
        "df"
      ],
      "execution_count": null,
      "outputs": []
    },
    {
      "cell_type": "code",
      "source": [
        "# extra example\n",
        "import math\n",
        "df2 = df.copy()\n",
        "# df2 = df # this will be error since it refers to address (not copy values)\n",
        "df['LN population'] = df['population'].apply(math.log)\n",
        "df2"
      ],
      "metadata": {
        "id": "rcKuUX86bOIM"
      },
      "execution_count": null,
      "outputs": []
    },
    {
      "cell_type": "markdown",
      "metadata": {
        "id": "8-TVxVbqiHDF"
      },
      "source": [
        "### DataFrame Information"
      ]
    },
    {
      "cell_type": "code",
      "metadata": {
        "id": "9CTuGZa6iHDG"
      },
      "source": [
        "type(df)"
      ],
      "execution_count": null,
      "outputs": []
    },
    {
      "cell_type": "code",
      "metadata": {
        "id": "558gdlOhiHDM"
      },
      "source": [
        "df.shape"
      ],
      "execution_count": null,
      "outputs": []
    },
    {
      "cell_type": "code",
      "metadata": {
        "id": "RVbKwHxziHDQ"
      },
      "source": [
        "df.info()"
      ],
      "execution_count": null,
      "outputs": []
    },
    {
      "cell_type": "code",
      "metadata": {
        "id": "I7NSQBUDiHDT"
      },
      "source": [
        "df.dtypes"
      ],
      "execution_count": null,
      "outputs": []
    },
    {
      "cell_type": "markdown",
      "metadata": {
        "id": "wG1IfRT7iHDY"
      },
      "source": [
        "## Filtering and Sorting"
      ]
    },
    {
      "cell_type": "markdown",
      "metadata": {
        "id": "HC5Kaa6XiHDZ"
      },
      "source": [
        "### Filtering"
      ]
    },
    {
      "cell_type": "code",
      "metadata": {
        "id": "ECXMA2kNiHDZ"
      },
      "source": [
        "condition_list = [True,True,True,True,True,True]\n",
        "df[condition_list]"
      ],
      "execution_count": null,
      "outputs": []
    },
    {
      "cell_type": "code",
      "metadata": {
        "id": "AtRshhWziHDd"
      },
      "source": [
        "condition_list = [True,False,True,False,True,False]\n",
        "df[condition_list]"
      ],
      "execution_count": null,
      "outputs": []
    },
    {
      "cell_type": "code",
      "metadata": {
        "id": "TdOz2AACiHDg"
      },
      "source": [
        "condition_list = df['province'] == 'Chiang Mai'\n",
        "print(condition_list)\n",
        "display(df[condition_list])"
      ],
      "execution_count": null,
      "outputs": []
    },
    {
      "cell_type": "code",
      "metadata": {
        "id": "CrjjtfhQiHDl"
      },
      "source": [
        "condition_list = df['population'] > 1000000\n",
        "print(condition_list)\n",
        "display(df[condition_list])"
      ],
      "execution_count": null,
      "outputs": []
    },
    {
      "cell_type": "code",
      "metadata": {
        "id": "HyCz7DhAiHDq"
      },
      "source": [
        "# Multiple condition (and)\n",
        "condition_list = (df['province'] == 'Chiang Mai') & (df['population'] > 1000000)\n",
        "print(condition_list)\n",
        "display(df[condition_list])"
      ],
      "execution_count": null,
      "outputs": []
    },
    {
      "cell_type": "code",
      "metadata": {
        "id": "Qa0-v43FiHDv"
      },
      "source": [
        "# Multiple condition (or)\n",
        "condition_list = (df['province'] == 'Chiang Mai') | (df['population'] > 1000000)\n",
        "print(condition_list)\n",
        "display(df[condition_list])"
      ],
      "execution_count": null,
      "outputs": []
    },
    {
      "cell_type": "markdown",
      "metadata": {
        "id": "vTSvaA3tiHDx"
      },
      "source": [
        "### Sorting"
      ]
    },
    {
      "cell_type": "code",
      "metadata": {
        "id": "GHiiO_ohiHDx"
      },
      "source": [
        "df.sort_values(by='population')"
      ],
      "execution_count": null,
      "outputs": []
    },
    {
      "cell_type": "code",
      "metadata": {
        "id": "dgmElMTliHD0"
      },
      "source": [
        "df.sort_values(by='population', ascending=False)"
      ],
      "execution_count": null,
      "outputs": []
    },
    {
      "cell_type": "code",
      "metadata": {
        "id": "f5XWNGRdiHD3"
      },
      "source": [
        "df.sort_values(by=['year','population'], ascending=[True,False])"
      ],
      "execution_count": null,
      "outputs": []
    },
    {
      "cell_type": "code",
      "metadata": {
        "id": "MQKUolkmfp-b"
      },
      "source": [
        "df3=df.sort_values(by=['year','population'], ascending=[True,False])"
      ],
      "execution_count": null,
      "outputs": []
    },
    {
      "cell_type": "code",
      "metadata": {
        "id": "LyPcfzWNecLb"
      },
      "source": [
        " df3"
      ],
      "execution_count": null,
      "outputs": []
    },
    {
      "cell_type": "markdown",
      "metadata": {
        "id": "zSzelOopiHD8"
      },
      "source": [
        "## Basic Statistic"
      ]
    },
    {
      "cell_type": "markdown",
      "metadata": {
        "id": "knBNF0-3iHD9"
      },
      "source": [
        "**Descriptive and summary statistics methods**\n",
        "- **count** <br> Number of non-NA values\n",
        "- **describe** <br> Compute set of summary statistics for Series or each DataFrame column\n",
        "- **min, max** <br> Compute minimum and maximum values\n",
        "- **argmin, argmax** <br> Compute index locations (integers) at which minimum or maximum value obtained, respectively\n",
        "- **idxmin, idxmax** <br> Compute index labels at which minimum or maximum value obtained, respectively\n",
        "- **quantile** <br> Compute sample quantile ranging from 0 to 1\n",
        "- **sum** <br> Sum of values\n",
        "- **mean** <br> Mean of values\n",
        "- **median** <br> Arithmetic median (50% quantile) of values\n",
        "- **mad** <br> Mean absolute deviation from mean value\n",
        "- **prod** <br> Product of all values\n",
        "- **var** <br> Sample variance of values\n",
        "- **std** <br> Sample standard deviation of values\n",
        "- **skew** <br> Sample skewness (third moment) of values\n",
        "- **kurt** <br> Sample kurtosis (fourth moment) of values\n",
        "- **cumsum** <br> Cumulative sum of values\n",
        "- **cummin, cummax** <br> Cumulative minimum or maximum of values, respectively\n",
        "- **cumprod** <br> Cumulative product of values\n",
        "- **diff** <br> Compute first arithmetic difference (useful for time series)\n",
        "- **pct_change** <br> Compute percent changes"
      ]
    },
    {
      "cell_type": "markdown",
      "metadata": {
        "id": "zwhCDqaCiHD9"
      },
      "source": [
        "### Numeric"
      ]
    },
    {
      "cell_type": "code",
      "metadata": {
        "id": "kPv9DR_kiHD-"
      },
      "source": [
        "# Find Mean in all numeric columns\n",
        "df.mean()"
      ],
      "execution_count": null,
      "outputs": []
    },
    {
      "cell_type": "code",
      "metadata": {
        "id": "LTqz-ZVBiHEB"
      },
      "source": [
        "# Find Mean in some column\n",
        "df['population'].mean()"
      ],
      "execution_count": null,
      "outputs": []
    },
    {
      "cell_type": "code",
      "metadata": {
        "id": "L5XKvTQdiHED"
      },
      "source": [
        "# Find Mean in some column\n",
        "column_list = ['population','population (K)']\n",
        "df[column_list].mean()"
      ],
      "execution_count": null,
      "outputs": []
    },
    {
      "cell_type": "code",
      "metadata": {
        "scrolled": true,
        "id": "w9CMcQ9XiHEF"
      },
      "source": [
        "df[column_list].count()"
      ],
      "execution_count": null,
      "outputs": []
    },
    {
      "cell_type": "code",
      "metadata": {
        "id": "OiXX1fzjiHEH"
      },
      "source": [
        "df[column_list].min()"
      ],
      "execution_count": null,
      "outputs": []
    },
    {
      "cell_type": "code",
      "metadata": {
        "id": "R7Tn_yk5iHEJ"
      },
      "source": [
        "df[column_list].max()"
      ],
      "execution_count": null,
      "outputs": []
    },
    {
      "cell_type": "code",
      "metadata": {
        "id": "ArZlrWREiHEL"
      },
      "source": [
        "df[column_list].median()"
      ],
      "execution_count": null,
      "outputs": []
    },
    {
      "cell_type": "code",
      "metadata": {
        "id": "kKpyRpEqiHEN"
      },
      "source": [
        "df[column_list].std()"
      ],
      "execution_count": null,
      "outputs": []
    },
    {
      "cell_type": "code",
      "metadata": {
        "scrolled": true,
        "id": "77ve9W-ViHEP"
      },
      "source": [
        "df[column_list].corr()"
      ],
      "execution_count": null,
      "outputs": []
    },
    {
      "cell_type": "code",
      "metadata": {
        "id": "yqc6a_dPiHER"
      },
      "source": [
        "df.quantile(0.75)"
      ],
      "execution_count": null,
      "outputs": []
    },
    {
      "cell_type": "markdown",
      "metadata": {
        "id": "F40RKnBDiHET"
      },
      "source": [
        "### Object"
      ]
    },
    {
      "cell_type": "code",
      "metadata": {
        "id": "_tUoYUU0iHET"
      },
      "source": [
        "df['province'].unique()"
      ],
      "execution_count": null,
      "outputs": []
    },
    {
      "cell_type": "code",
      "metadata": {
        "id": "oWtCbSnWiHEZ"
      },
      "source": [
        "df['province'].nunique()"
      ],
      "execution_count": null,
      "outputs": []
    },
    {
      "cell_type": "code",
      "metadata": {
        "id": "wqJBODsuiHEb"
      },
      "source": [
        "df['province'].value_counts()"
      ],
      "execution_count": null,
      "outputs": []
    },
    {
      "cell_type": "markdown",
      "metadata": {
        "id": "Ya1bCt1EiHEd"
      },
      "source": [
        "### Describe"
      ]
    },
    {
      "cell_type": "code",
      "metadata": {
        "id": "rS0QXtmPiHEd"
      },
      "source": [
        "#Numeric\n",
        "df[columns_list].describe()"
      ],
      "execution_count": null,
      "outputs": []
    },
    {
      "cell_type": "code",
      "metadata": {
        "id": "-J4NYD10iHEf"
      },
      "source": [
        "#Category\n",
        "df.describe(include=np.object)"
      ],
      "execution_count": null,
      "outputs": []
    },
    {
      "cell_type": "code",
      "metadata": {
        "id": "ig5o2ZuyiHEh"
      },
      "source": [
        "df.describe(include='all')"
      ],
      "execution_count": null,
      "outputs": []
    },
    {
      "cell_type": "markdown",
      "metadata": {
        "id": "XBidf1LaiHEj"
      },
      "source": [
        "## Grouping"
      ]
    },
    {
      "cell_type": "markdown",
      "metadata": {
        "id": "l8Vc_DmZiHEk"
      },
      "source": [
        "### Group by"
      ]
    },
    {
      "cell_type": "markdown",
      "metadata": {
        "id": "gfhBzYOFiHEl"
      },
      "source": [
        "**Optimized groupby methods**\n",
        "- **count** <BR> Number of non-NA values in the group\n",
        "- **sum** <BR> Sum of non-NA values\n",
        "- **mean** <BR> Mean of non-NA values\n",
        "- **median** <BR> Arithmetic median of non-NA values\n",
        "- **std, var** <BR> Unbiased (n – 1 denominator) standard deviation and variance\n",
        "- **min, max** <BR> Minimum and maximum of non-NA values\n",
        "- **prod** <BR> Product of non-NA values\n",
        "- **first, last** <BR> First and last non-NA values"
      ]
    },
    {
      "cell_type": "code",
      "metadata": {
        "id": "L1SsV3dCiHEl"
      },
      "source": [
        "# select avg(population) from df group by province\n",
        "df.groupby('province')['population'].mean()"
      ],
      "execution_count": null,
      "outputs": []
    },
    {
      "cell_type": "code",
      "metadata": {
        "id": "gA9T8q2YiHEo"
      },
      "source": [
        "# Convert to DataFrame\n",
        "df.groupby('province')['population'].mean().reset_index(name='avg_pop')"
      ],
      "execution_count": null,
      "outputs": []
    },
    {
      "cell_type": "markdown",
      "metadata": {
        "id": "W2OVp62iiHEp"
      },
      "source": [
        "#### Multiple group by"
      ]
    },
    {
      "cell_type": "code",
      "metadata": {
        "scrolled": true,
        "id": "VS5hNA2NiHEq"
      },
      "source": [
        "mapper = {\n",
        "    'population' : 'mean'\n",
        "}\n",
        "\n",
        "df.groupby('province').agg(mapper)"
      ],
      "execution_count": null,
      "outputs": []
    },
    {
      "cell_type": "code",
      "metadata": {
        "id": "W70JIaSOiHEs"
      },
      "source": [
        "mapper = {\n",
        "    'population' : ['min','max','mean']\n",
        "}\n",
        "\n",
        "df.groupby('province').agg(mapper)"
      ],
      "execution_count": null,
      "outputs": []
    },
    {
      "cell_type": "code",
      "metadata": {
        "id": "1rsyVY7xiHEu"
      },
      "source": [
        "mapper = {\n",
        "    'population' : ['min','max','mean'],\n",
        "    'source' : 'nunique'\n",
        "}\n",
        "\n",
        "df.groupby('province').agg(mapper)"
      ],
      "execution_count": null,
      "outputs": []
    },
    {
      "cell_type": "markdown",
      "metadata": {
        "id": "sEyLe4L6iHEz"
      },
      "source": [
        "### Group by window"
      ]
    },
    {
      "cell_type": "code",
      "metadata": {
        "id": "s752yhQ8iHEz"
      },
      "source": [
        "df['population'].rolling(2).sum()"
      ],
      "execution_count": null,
      "outputs": []
    },
    {
      "cell_type": "code",
      "metadata": {
        "id": "UOP-8TnkiHE1"
      },
      "source": [
        "df['population'].rolling(2, min_periods=1).sum()"
      ],
      "execution_count": null,
      "outputs": []
    },
    {
      "cell_type": "code",
      "metadata": {
        "id": "JJpUKgBoiHE2"
      },
      "source": [
        "df.groupby('province')['population'].rolling(2, min_periods=1).sum().reset_index(name='avg_pop_last2year')"
      ],
      "execution_count": null,
      "outputs": []
    },
    {
      "cell_type": "markdown",
      "metadata": {
        "id": "sBYVDkldiHE4"
      },
      "source": [
        "## Pivot"
      ]
    },
    {
      "cell_type": "markdown",
      "metadata": {
        "id": "HxF17UPiiHE4"
      },
      "source": [
        "### Pivot"
      ]
    },
    {
      "cell_type": "code",
      "metadata": {
        "id": "zdIoYouhiHE5"
      },
      "source": [
        "df"
      ],
      "execution_count": null,
      "outputs": []
    },
    {
      "cell_type": "code",
      "metadata": {
        "scrolled": true,
        "id": "zbupH-uviHE7"
      },
      "source": [
        "pivot = df.pivot_table(index=['province'], columns=['year'], values=['population'])\n",
        "pivot"
      ],
      "execution_count": null,
      "outputs": []
    },
    {
      "cell_type": "code",
      "metadata": {
        "id": "Kcp4YZi2iHE9"
      },
      "source": [
        "pivot.columns = ['{1}'.format(col[0],col[1]) for col in pivot.columns.values]\n",
        "pivot = pivot.reset_index()\n",
        "pivot"
      ],
      "execution_count": null,
      "outputs": []
    },
    {
      "cell_type": "markdown",
      "metadata": {
        "id": "W2w8zP9jiHE_"
      },
      "source": [
        "### Melt"
      ]
    },
    {
      "cell_type": "code",
      "metadata": {
        "id": "Rw0BDDfeiHE_"
      },
      "source": [
        "melt = pd.melt(pivot, id_vars=['province'], value_vars=['2016','2017','2018'])\n",
        "melt"
      ],
      "execution_count": null,
      "outputs": []
    },
    {
      "cell_type": "code",
      "metadata": {
        "id": "BZAVr1fiiHFB"
      },
      "source": [
        "mapper = {\n",
        "    'variable':'year',\n",
        "    'value':'population'\n",
        "}\n",
        "melt = melt.rename(columns=mapper)\n",
        "melt"
      ],
      "execution_count": null,
      "outputs": []
    },
    {
      "cell_type": "markdown",
      "metadata": {
        "id": "OI_j4rbYiHFC"
      },
      "source": [
        "## Data Cleansing"
      ]
    },
    {
      "cell_type": "code",
      "metadata": {
        "id": "UQnFf-2piHFD"
      },
      "source": [
        "# Create From a List\n",
        "data = [\n",
        "    ['Chiang Mai', 2016, 1630428],\n",
        "    ['Chiang Mai', 2017, 1664012],\n",
        "    ['Chiang Mai', 2018, 1687971],\n",
        "    ['Phrae', 2016, None],\n",
        "    ['Phrae', 2017, 410382],\n",
        "    [None, 2018, 421653]\n",
        "]\n",
        "df = pd.DataFrame(\n",
        "    data=data,\n",
        "    columns=['province','year','population']\n",
        ")\n",
        "df"
      ],
      "execution_count": null,
      "outputs": []
    },
    {
      "cell_type": "markdown",
      "metadata": {
        "id": "mmns1TzwiHFF"
      },
      "source": [
        "### Find Null"
      ]
    },
    {
      "cell_type": "code",
      "metadata": {
        "id": "hFeVuS4miHFF"
      },
      "source": [
        "df.isnull()"
      ],
      "execution_count": null,
      "outputs": []
    },
    {
      "cell_type": "code",
      "metadata": {
        "id": "v3NIZjAniHFG"
      },
      "source": [
        "df.isna()"
      ],
      "execution_count": null,
      "outputs": []
    },
    {
      "cell_type": "code",
      "metadata": {
        "id": "16iNsoMjiHFI"
      },
      "source": [
        "df.isnull().sum()"
      ],
      "execution_count": null,
      "outputs": []
    },
    {
      "cell_type": "markdown",
      "metadata": {
        "id": "9XwHQdN9iHFJ"
      },
      "source": [
        "### Drop NA"
      ]
    },
    {
      "cell_type": "code",
      "metadata": {
        "id": "VJpxI2zbiHFK"
      },
      "source": [
        "df.dropna()"
      ],
      "execution_count": null,
      "outputs": []
    },
    {
      "cell_type": "code",
      "metadata": {
        "id": "P6spiG7ciHFL"
      },
      "source": [
        "df.dropna(subset = ['province'])"
      ],
      "execution_count": null,
      "outputs": []
    },
    {
      "cell_type": "code",
      "metadata": {
        "id": "N3KhLSnpiHFT"
      },
      "source": [
        "df # to show that all commands don't replace (remind)"
      ],
      "execution_count": null,
      "outputs": []
    },
    {
      "cell_type": "markdown",
      "metadata": {
        "id": "MKrp84J7iHFV"
      },
      "source": [
        "### Fill NA"
      ]
    },
    {
      "cell_type": "code",
      "metadata": {
        "id": "eUzFE-jFiHFV"
      },
      "source": [
        "df.fillna('Missing')"
      ],
      "execution_count": null,
      "outputs": []
    },
    {
      "cell_type": "code",
      "metadata": {
        "id": "ualQGoiRiHFX"
      },
      "source": [
        "mapper = {\n",
        "    'province' : 'Unknown',\n",
        "    'population' : df['population'].mean()\n",
        "}\n",
        "print(mapper)\n",
        "display(df.fillna(mapper))"
      ],
      "execution_count": null,
      "outputs": []
    },
    {
      "cell_type": "markdown",
      "metadata": {
        "id": "oQr5IoCQiHFY"
      },
      "source": [
        "## Append and Join"
      ]
    },
    {
      "cell_type": "markdown",
      "metadata": {
        "id": "irb7mjhEiHFY"
      },
      "source": [
        "### Append"
      ]
    },
    {
      "cell_type": "code",
      "metadata": {
        "id": "sp-EuVeMiHFZ"
      },
      "source": [
        "# Create From a List\n",
        "data = [\n",
        "    ['Chiang Mai', 2016, 1630428],\n",
        "    ['Chiang Mai', 2017, 1664012],\n",
        "    ['Chiang Mai', 2018, 1687971],\n",
        "]\n",
        "df1 = pd.DataFrame(\n",
        "    data=data,\n",
        "    columns=['province','year','population']\n",
        ")\n",
        "df1"
      ],
      "execution_count": null,
      "outputs": []
    },
    {
      "cell_type": "code",
      "metadata": {
        "id": "vltUGddxiHFb"
      },
      "source": [
        "# Create From a List\n",
        "data = [\n",
        "    ['Phrae', 2016, 398936],\n",
        "    ['Phrae', 2017, 410382],\n",
        "    ['Phrae', 2018, 421653]\n",
        "]\n",
        "df2 = pd.DataFrame(\n",
        "    data=data,\n",
        "    columns=['province','year','population']\n",
        ")\n",
        "df2"
      ],
      "execution_count": null,
      "outputs": []
    },
    {
      "cell_type": "code",
      "metadata": {
        "id": "l9pDFF-5iHFd"
      },
      "source": [
        "df = df1.append(df2)\n",
        "df"
      ],
      "execution_count": null,
      "outputs": []
    },
    {
      "cell_type": "code",
      "metadata": {
        "id": "ZFADFs0siHFe"
      },
      "source": [
        "df = pd.concat([df1, df2])\n",
        "df"
      ],
      "execution_count": null,
      "outputs": []
    },
    {
      "cell_type": "code",
      "metadata": {
        "id": "n8bekMPEiHFf"
      },
      "source": [
        "df2 = pd.concat([df1, df2], axis=1)\n",
        "df2"
      ],
      "execution_count": null,
      "outputs": []
    },
    {
      "cell_type": "markdown",
      "metadata": {
        "id": "qxdP858DiHFh"
      },
      "source": [
        "### Join"
      ]
    },
    {
      "cell_type": "code",
      "metadata": {
        "id": "ezoEs7UliHFh"
      },
      "source": [
        "df"
      ],
      "execution_count": null,
      "outputs": []
    },
    {
      "cell_type": "code",
      "metadata": {
        "id": "_xDt2PL3iHFi"
      },
      "source": [
        "avg_df = df.groupby('province')['population'].mean().reset_index(name='avg_pop')\n",
        "avg_df"
      ],
      "execution_count": null,
      "outputs": []
    },
    {
      "cell_type": "code",
      "metadata": {
        "id": "Dd_b2p9HiHFk"
      },
      "source": [
        "df.dtypes"
      ],
      "execution_count": null,
      "outputs": []
    },
    {
      "cell_type": "code",
      "metadata": {
        "id": "OC9B6YgPiHFl"
      },
      "source": [
        "avg_df.dtypes"
      ],
      "execution_count": null,
      "outputs": []
    },
    {
      "cell_type": "code",
      "metadata": {
        "scrolled": true,
        "id": "1Yp_npbciHFp"
      },
      "source": [
        "df.merge(avg_df, on = 'province', how = 'inner')"
      ],
      "execution_count": null,
      "outputs": []
    },
    {
      "cell_type": "markdown",
      "metadata": {
        "id": "Cqfv_mFviHFs"
      },
      "source": [
        "## SQL"
      ]
    },
    {
      "cell_type": "code",
      "metadata": {
        "id": "bo_dSLraiHFs"
      },
      "source": [
        "!pip install pandasql"
      ],
      "execution_count": null,
      "outputs": []
    },
    {
      "cell_type": "code",
      "metadata": {
        "id": "dcJuR9ixiHFx"
      },
      "source": [
        "import pandasql"
      ],
      "execution_count": null,
      "outputs": []
    },
    {
      "cell_type": "code",
      "metadata": {
        "id": "OoDSKiKuiHF1"
      },
      "source": [
        "sql_df = pandasql.sqldf(\"SELECT * FROM df;\")\n",
        "sql_df"
      ],
      "execution_count": null,
      "outputs": []
    },
    {
      "cell_type": "code",
      "metadata": {
        "id": "3vrg_IZOiHF2"
      },
      "source": [
        "sql_df = pandasql.sqldf(\"select province, avg(population) from df group by province;\")\n",
        "sql_df"
      ],
      "execution_count": null,
      "outputs": []
    },
    {
      "cell_type": "code",
      "source": [
        ""
      ],
      "metadata": {
        "id": "bTjQUZadeaVu"
      },
      "execution_count": null,
      "outputs": []
    }
  ]
}