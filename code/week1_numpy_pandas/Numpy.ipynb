{
  "nbformat": 4,
  "nbformat_minor": 0,
  "metadata": {
    "colab": {
      "name": "Numpy.ipynb",
      "provenance": [],
      "collapsed_sections": [],
      "toc_visible": true
    },
    "kernelspec": {
      "display_name": "Python 3",
      "language": "python",
      "name": "python3"
    },
    "language_info": {
      "codemirror_mode": {
        "name": "ipython",
        "version": 3
      },
      "file_extension": ".py",
      "mimetype": "text/x-python",
      "name": "python",
      "nbconvert_exporter": "python",
      "pygments_lexer": "ipython3",
      "version": "3.7.4"
    },
    "toc": {
      "base_numbering": 1,
      "nav_menu": {},
      "number_sections": true,
      "sideBar": true,
      "skip_h1_title": false,
      "title_cell": "Table of Contents",
      "title_sidebar": "Contents",
      "toc_cell": false,
      "toc_position": {},
      "toc_section_display": true,
      "toc_window_display": true
    },
    "varInspector": {
      "cols": {
        "lenName": 16,
        "lenType": 16,
        "lenVar": 40
      },
      "kernels_config": {
        "python": {
          "delete_cmd_postfix": "",
          "delete_cmd_prefix": "del ",
          "library": "var_list.py",
          "varRefreshCmd": "print(var_dic_list())"
        },
        "r": {
          "delete_cmd_postfix": ") ",
          "delete_cmd_prefix": "rm(",
          "library": "var_list.r",
          "varRefreshCmd": "cat(var_dic_list()) "
        }
      },
      "types_to_exclude": [
        "module",
        "function",
        "builtin_function_or_method",
        "instance",
        "_Feature"
      ],
      "window_display": false
    }
  },
  "cells": [
    {
      "cell_type": "markdown",
      "metadata": {
        "id": "bpmNbV46BHw9"
      },
      "source": [
        "![Accel.AI](https://github.com/kaopanboonyuen/2110446_DataScience_2021s2/raw/main/%20files/accelai.png)"
      ]
    },
    {
      "cell_type": "code",
      "metadata": {
        "id": "cMjz8KKBBHw_"
      },
      "source": [
        "# First, we need to import the package NumPy, which is the library enabling all the fun with algebraic structures.\n",
        "import numpy as np"
      ],
      "execution_count": null,
      "outputs": []
    },
    {
      "cell_type": "markdown",
      "metadata": {
        "id": "GnLR-gTNhjqO"
      },
      "source": [
        "# Numpy Array VS Python List"
      ]
    },
    {
      "cell_type": "code",
      "metadata": {
        "id": "NumJy2hkhjqO",
        "colab": {
          "base_uri": "https://localhost:8080/"
        },
        "outputId": "1dc4bdc3-499d-429f-ccaa-63d75fb098f7"
      },
      "source": [
        "import time\n",
        "import numpy as np\n",
        "\n",
        "size_of_vec = 1000000 #1M\n",
        "\n",
        "def pure_python():\n",
        "    t1 = time.time()\n",
        "    x = range(size_of_vec)\n",
        "    y = range(size_of_vec)\n",
        "    z = [x[i] + y[i] for i in range (len(x))]\n",
        "    t2 = time.time()\n",
        "    used_time = t2-t1\n",
        "    print(used_time,'seconds')\n",
        "    return used_time\n",
        "\n",
        "def numpy_version():\n",
        "    t1 = time.time()\n",
        "    x = np.arange(size_of_vec)\n",
        "    y = np.arange(size_of_vec)\n",
        "    z = x+y\n",
        "    t2 = time.time()\n",
        "    used_time = t2-t1\n",
        "    print(used_time,'seconds')\n",
        "    return used_time\n",
        "\n",
        "t1 = pure_python()\n",
        "t2 = numpy_version()\n",
        "print('faster', t1 - t2, 'seconds')\n",
        "print('faster', t1/t2, 'times')"
      ],
      "execution_count": null,
      "outputs": [
        {
          "output_type": "stream",
          "name": "stdout",
          "text": [
            "0.35573816299438477 seconds\n",
            "0.011536598205566406 seconds\n",
            "faster 0.34420156478881836 seconds\n",
            "faster 30.8356204017525 times\n"
          ]
        }
      ]
    },
    {
      "cell_type": "markdown",
      "metadata": {
        "id": "WuJund_bBHxU"
      },
      "source": [
        "# Vectors and Matrices"
      ]
    },
    {
      "cell_type": "markdown",
      "metadata": {
        "id": "icTCfzrjBHxW"
      },
      "source": [
        "Using NumPy we can define vectors and matrices with both real or complex elements. Although, in contrast to Matlab, where matrix is the default type, in Python we need to define vectors and matrices as `array` or `matrix` type from NumPy package."
      ]
    },
    {
      "cell_type": "markdown",
      "metadata": {
        "id": "YrRrqqerhjqT"
      },
      "source": [
        "## Create Numpy Array"
      ]
    },
    {
      "cell_type": "markdown",
      "metadata": {
        "id": "zyKv1vwdhjqU"
      },
      "source": [
        "### 1D Array"
      ]
    },
    {
      "cell_type": "code",
      "metadata": {
        "id": "mUBaU-gzBHxX",
        "colab": {
          "base_uri": "https://localhost:8080/"
        },
        "outputId": "f9f8c55a-da69-40e9-adae-2c22e44e0881"
      },
      "source": [
        "a = np.array([10,20,30])   # Define a vector of size 3 using type 'array'\n",
        "print(a)\n",
        "print(a.shape)          # Size/shape of vector"
      ],
      "execution_count": null,
      "outputs": [
        {
          "output_type": "stream",
          "name": "stdout",
          "text": [
            "[10 20 30]\n",
            "(3,)\n"
          ]
        }
      ]
    },
    {
      "cell_type": "markdown",
      "metadata": {
        "id": "4xrKVw4nhjqZ"
      },
      "source": [
        "### 2D Array or Matrix"
      ]
    },
    {
      "cell_type": "code",
      "metadata": {
        "id": "U1mQK9fjBHxf",
        "colab": {
          "base_uri": "https://localhost:8080/"
        },
        "outputId": "ad619442-389b-45de-ae15-53fe3c08aa05"
      },
      "source": [
        "b = np.array([[10,20,30],[40,50,60]])  # Define a vector of size 3 using type 'matrix'\n",
        "print(b)\n",
        "print(b.shape)          # Size/shape of vector"
      ],
      "execution_count": null,
      "outputs": [
        {
          "output_type": "stream",
          "name": "stdout",
          "text": [
            "[[10 20 30]\n",
            " [40 50 60]]\n",
            "(2, 3)\n"
          ]
        }
      ]
    },
    {
      "cell_type": "markdown",
      "metadata": {
        "id": "5HQ2cZJehjqd"
      },
      "source": [
        "### Essetial Matrix"
      ]
    },
    {
      "cell_type": "code",
      "metadata": {
        "id": "rZgiYYp3hjqe",
        "colab": {
          "base_uri": "https://localhost:8080/"
        },
        "outputId": "7debe41e-7c66-43d6-f0b8-ad4f748dd6c0"
      },
      "source": [
        "print('3x3 Matrix full of zeros:')\n",
        "print(np.zeros([3,3]))\n",
        "\n",
        "print('\\n3x3 Matrix full of ones:')\n",
        "print(np.ones([3,3]))\n",
        "\n",
        "print('\\n3x3 identity matrix:')\n",
        "print(np.eye(3))\n",
        "\n",
        "print('\\n3x3 diagonal matrix:')\n",
        "x = np.array([1.,2.,3.])\n",
        "print(np.diag(x))\n",
        "\n",
        "print('\\n3x3 random matrix:')\n",
        "print(np.random.rand(3,3))"
      ],
      "execution_count": null,
      "outputs": [
        {
          "output_type": "stream",
          "name": "stdout",
          "text": [
            "3x3 Matrix full of zeros:\n",
            "[[0. 0. 0.]\n",
            " [0. 0. 0.]\n",
            " [0. 0. 0.]]\n",
            "\n",
            "3x3 Matrix full of ones:\n",
            "[[1. 1. 1.]\n",
            " [1. 1. 1.]\n",
            " [1. 1. 1.]]\n",
            "\n",
            "3x3 identity matrix:\n",
            "[[1. 0. 0.]\n",
            " [0. 1. 0.]\n",
            " [0. 0. 1.]]\n",
            "\n",
            "3x3 diagonal matrix:\n",
            "[[1. 0. 0.]\n",
            " [0. 2. 0.]\n",
            " [0. 0. 3.]]\n",
            "\n",
            "3x3 random matrix:\n",
            "[[0.43494599 0.74650879 0.72031766]\n",
            " [0.58497839 0.9425787  0.99464821]\n",
            " [0.24258596 0.97604651 0.80449918]]\n"
          ]
        }
      ]
    },
    {
      "cell_type": "markdown",
      "metadata": {
        "id": "NFxBupTQhjqh"
      },
      "source": [
        "## Indexing"
      ]
    },
    {
      "cell_type": "markdown",
      "metadata": {
        "id": "M1tOQ7UMBHxr"
      },
      "source": [
        "Note that matrix and array elements in Python are indexed from 0, in contrast to Matlab where indexing starts from 1."
      ]
    },
    {
      "cell_type": "markdown",
      "metadata": {
        "id": "WeAvtqrFBHyH"
      },
      "source": [
        "**_Matrices_** can be defined as 2D arrays of type `array` or `matrix` (there is no problem with transposition with any type)."
      ]
    },
    {
      "cell_type": "code",
      "metadata": {
        "id": "msEthMgyBHxt",
        "colab": {
          "base_uri": "https://localhost:8080/"
        },
        "outputId": "e090aea2-57fc-428b-d48c-1dcf52499ae2"
      },
      "source": [
        "# 1D indexing\n",
        "print(a)\n",
        "print(a[:])\n",
        "print(a[0])\n",
        "print(a[1:])\n",
        "print(a[:-1])"
      ],
      "execution_count": null,
      "outputs": [
        {
          "output_type": "stream",
          "name": "stdout",
          "text": [
            "[10 20 30]\n",
            "[10 20 30]\n",
            "10\n",
            "[20 30]\n",
            "[10 20]\n"
          ]
        }
      ]
    },
    {
      "cell_type": "code",
      "metadata": {
        "id": "4p-QY2kJuDlZ",
        "colab": {
          "base_uri": "https://localhost:8080/"
        },
        "outputId": "4357ef01-db72-43a7-868d-aefaa8273aee"
      },
      "source": [
        "# 2D indexing\n",
        "print(b)\n",
        "print(b[1,1])\n",
        "\n",
        "print(b[:])     # Get all elements\n",
        "print(b[0])     # The first element\n",
        "print(b[-1])    # The last element\n",
        "print(b[:3])    # The first 3 rows\n",
        "print(b[-3:])   # The last 3 rows\n",
        "print(b[2:4])   # 2:4 selects elements of indexes 2 and 3"
      ],
      "execution_count": null,
      "outputs": [
        {
          "output_type": "stream",
          "name": "stdout",
          "text": [
            "[[10 20 30]\n",
            " [40 50 60]]\n",
            "50\n",
            "[[10 20 30]\n",
            " [40 50 60]]\n",
            "[10 20 30]\n",
            "[40 50 60]\n",
            "[[10 20 30]\n",
            " [40 50 60]]\n",
            "[[10 20 30]\n",
            " [40 50 60]]\n",
            "[]\n"
          ]
        }
      ]
    },
    {
      "cell_type": "markdown",
      "metadata": {
        "id": "PFXBLXF3hjqr"
      },
      "source": [
        "# Functions"
      ]
    },
    {
      "cell_type": "markdown",
      "metadata": {
        "id": "yo7Gecs1hjqs"
      },
      "source": [
        "## Arange and Linspace"
      ]
    },
    {
      "cell_type": "code",
      "metadata": {
        "id": "A3-4y9EKhjqs",
        "colab": {
          "base_uri": "https://localhost:8080/"
        },
        "outputId": "cfa04a44-f0b8-4b33-ad62-559528964691"
      },
      "source": [
        "c = np.arange(10,20,2)   # Define vector from 10 to 20 with step 2\n",
        "print(c)"
      ],
      "execution_count": null,
      "outputs": [
        {
          "output_type": "stream",
          "name": "stdout",
          "text": [
            "[10 12 14 16 18]\n"
          ]
        }
      ]
    },
    {
      "cell_type": "code",
      "metadata": {
        "id": "TfUDHblnBHxl",
        "colab": {
          "base_uri": "https://localhost:8080/"
        },
        "outputId": "879aacc6-dffb-4a7a-a763-abc8fd55a172"
      },
      "source": [
        "c = np.linspace(10,20,6)   # Define vector as 6 values evenly spaced from 10 to 20\n",
        "print(c)"
      ],
      "execution_count": null,
      "outputs": [
        {
          "output_type": "stream",
          "name": "stdout",
          "text": [
            "[10. 12. 14. 16. 18. 20.]\n"
          ]
        }
      ]
    },
    {
      "cell_type": "markdown",
      "metadata": {
        "id": "sSYtSdqDhjq1"
      },
      "source": [
        "## Random"
      ]
    },
    {
      "cell_type": "code",
      "metadata": {
        "id": "fCFyX4Wbhjq2",
        "colab": {
          "base_uri": "https://localhost:8080/"
        },
        "outputId": "35fe3807-7e7d-485a-ac1b-4ccecab45c12"
      },
      "source": [
        "print(np.random.rand(4))"
      ],
      "execution_count": null,
      "outputs": [
        {
          "output_type": "stream",
          "name": "stdout",
          "text": [
            "[0.74480301 0.30336346 0.13655049 0.99471896]\n"
          ]
        }
      ]
    },
    {
      "cell_type": "code",
      "metadata": {
        "id": "KKs5DvwBhjq4",
        "colab": {
          "base_uri": "https://localhost:8080/"
        },
        "outputId": "4720a720-1d6d-490c-8217-d0cfcafd7f9c"
      },
      "source": [
        "print(np.random.rand(4,5))"
      ],
      "execution_count": null,
      "outputs": [
        {
          "output_type": "stream",
          "name": "stdout",
          "text": [
            "[[0.58397515 0.50256768 0.03419893 0.26046944 0.34841626]\n",
            " [0.95046334 0.00242976 0.43041971 0.55126463 0.952906  ]\n",
            " [0.72677174 0.85161124 0.13972888 0.11295778 0.62063138]\n",
            " [0.72626771 0.46641472 0.34245378 0.39435403 0.10514896]]\n"
          ]
        }
      ]
    },
    {
      "cell_type": "code",
      "metadata": {
        "id": "BNGffok1hjq8",
        "colab": {
          "base_uri": "https://localhost:8080/"
        },
        "outputId": "60b4c367-fd7c-4e33-8742-93cd83758765"
      },
      "source": [
        "# Random array of int, size=3, value 0-9 \n",
        "print(np.random.randint(10, size=(3)))"
      ],
      "execution_count": null,
      "outputs": [
        {
          "output_type": "stream",
          "name": "stdout",
          "text": [
            "[5 6 4]\n"
          ]
        }
      ]
    },
    {
      "cell_type": "markdown",
      "metadata": {
        "id": "3HySbSsWhjrB"
      },
      "source": [
        "## Basic Array Operations"
      ]
    },
    {
      "cell_type": "code",
      "metadata": {
        "id": "8aDGRi59hjrB",
        "colab": {
          "base_uri": "https://localhost:8080/"
        },
        "outputId": "c341da11-0791-4eef-cf9a-8dd40142246b"
      },
      "source": [
        "x = np.array([[1,2],[3,4]])\n",
        "y = np.array([[5,6],[7,8]])\n",
        "print(x)\n",
        "print()\n",
        "print(y)"
      ],
      "execution_count": null,
      "outputs": [
        {
          "output_type": "stream",
          "name": "stdout",
          "text": [
            "[[1 2]\n",
            " [3 4]]\n",
            "\n",
            "[[5 6]\n",
            " [7 8]]\n"
          ]
        }
      ]
    },
    {
      "cell_type": "markdown",
      "metadata": {
        "id": "S_BQqZL7hjrE"
      },
      "source": [
        "### Working with Scalar"
      ]
    },
    {
      "cell_type": "code",
      "metadata": {
        "id": "o0CzZK8bhjrF",
        "colab": {
          "base_uri": "https://localhost:8080/"
        },
        "outputId": "390b0af3-0700-4fe5-e2ea-e7052fbfd360"
      },
      "source": [
        "print(x+2)"
      ],
      "execution_count": null,
      "outputs": [
        {
          "output_type": "stream",
          "name": "stdout",
          "text": [
            "[[3 4]\n",
            " [5 6]]\n"
          ]
        }
      ]
    },
    {
      "cell_type": "code",
      "metadata": {
        "id": "D2CoQO3phjrI",
        "colab": {
          "base_uri": "https://localhost:8080/"
        },
        "outputId": "9ab72213-cf0e-47d9-e259-2997c3478e14"
      },
      "source": [
        "print(x*2)"
      ],
      "execution_count": null,
      "outputs": [
        {
          "output_type": "stream",
          "name": "stdout",
          "text": [
            "[[2 4]\n",
            " [6 8]]\n"
          ]
        }
      ]
    },
    {
      "cell_type": "markdown",
      "metadata": {
        "id": "eBVSfxWuhjrN"
      },
      "source": [
        "### Working with 2 Vectors"
      ]
    },
    {
      "cell_type": "code",
      "metadata": {
        "id": "XEyJbUJFhjrO",
        "colab": {
          "base_uri": "https://localhost:8080/"
        },
        "outputId": "85fab96a-514d-4dc1-c9ce-b76268c762bd"
      },
      "source": [
        "print(x+y)"
      ],
      "execution_count": null,
      "outputs": [
        {
          "output_type": "stream",
          "name": "stdout",
          "text": [
            "[[ 6  8]\n",
            " [10 12]]\n"
          ]
        }
      ]
    },
    {
      "cell_type": "code",
      "metadata": {
        "id": "m1FSKpSohjrQ",
        "colab": {
          "base_uri": "https://localhost:8080/"
        },
        "outputId": "fda8c038-b5f5-45b4-adbd-007e95ec2332"
      },
      "source": [
        "print(y-x)"
      ],
      "execution_count": null,
      "outputs": [
        {
          "output_type": "stream",
          "name": "stdout",
          "text": [
            "[[4 4]\n",
            " [4 4]]\n"
          ]
        }
      ]
    },
    {
      "cell_type": "code",
      "metadata": {
        "id": "yeufI_PShjrS",
        "colab": {
          "base_uri": "https://localhost:8080/"
        },
        "outputId": "66e9e590-17bc-4907-eb82-6b2dcb55ecd3"
      },
      "source": [
        "print(x*y) # element-wise multiplication"
      ],
      "execution_count": null,
      "outputs": [
        {
          "output_type": "stream",
          "name": "stdout",
          "text": [
            "[[ 5 12]\n",
            " [21 32]]\n"
          ]
        }
      ]
    },
    {
      "cell_type": "code",
      "metadata": {
        "id": "NtglPHzRhjrU",
        "colab": {
          "base_uri": "https://localhost:8080/"
        },
        "outputId": "6cbad04a-1975-4059-8286-74cadad27d3e"
      },
      "source": [
        "print(x/y)"
      ],
      "execution_count": null,
      "outputs": [
        {
          "output_type": "stream",
          "name": "stdout",
          "text": [
            "[[0.2        0.33333333]\n",
            " [0.42857143 0.5       ]]\n"
          ]
        }
      ]
    },
    {
      "cell_type": "markdown",
      "metadata": {
        "id": "4F3RsBwVhjrX"
      },
      "source": [
        "## Dot"
      ]
    },
    {
      "cell_type": "markdown",
      "metadata": {
        "id": "ZKMyooPvBHyz"
      },
      "source": [
        "**_Matrix multiplication_** must be executed by method for dot product `numpy.dot`. Operator `*` produces only element-wise multiplication in Python."
      ]
    },
    {
      "cell_type": "code",
      "metadata": {
        "id": "Syk4aIJyhjrY"
      },
      "source": [
        "v = np.array([9,10])\n",
        "w = np.array([11,12])"
      ],
      "execution_count": null,
      "outputs": []
    },
    {
      "cell_type": "code",
      "metadata": {
        "id": "olIKq3bVhjrf",
        "colab": {
          "base_uri": "https://localhost:8080/"
        },
        "outputId": "883f1f47-d359-48ae-fe5f-be2d1a2e86d6"
      },
      "source": [
        "print('Matrix v\\n', v)\n",
        "print('=====================')\n",
        "print('Matrix w\\n', w)\n",
        "print('=====================')\n",
        "print('v.dot(w)\\n', v.dot(w))\n",
        "print('=====================')"
      ],
      "execution_count": null,
      "outputs": [
        {
          "output_type": "stream",
          "name": "stdout",
          "text": [
            "Matrix v\n",
            " [ 9 10]\n",
            "=====================\n",
            "Matrix w\n",
            " [11 12]\n",
            "=====================\n",
            "v.dot(w)\n",
            " 219\n",
            "=====================\n"
          ]
        }
      ]
    },
    {
      "cell_type": "code",
      "metadata": {
        "id": "Bqc4xCl0hjri",
        "colab": {
          "base_uri": "https://localhost:8080/"
        },
        "outputId": "60fe446b-d8ac-4c77-df0d-8f98b6637cc1"
      },
      "source": [
        "print('Matrix x\\n', x)\n",
        "print('=====================')\n",
        "print('Matrix v\\n', v)\n",
        "print('=====================')\n",
        "print('x.dot(v)\\n', x.dot(v))\n",
        "print('=====================')"
      ],
      "execution_count": null,
      "outputs": [
        {
          "output_type": "stream",
          "name": "stdout",
          "text": [
            "Matrix x\n",
            " [[1 2]\n",
            " [3 4]]\n",
            "=====================\n",
            "Matrix v\n",
            " [ 9 10]\n",
            "=====================\n",
            "x.dot(v)\n",
            " [29 67]\n",
            "=====================\n"
          ]
        }
      ]
    },
    {
      "cell_type": "code",
      "metadata": {
        "id": "5RRQ8Vd9hjrm",
        "colab": {
          "base_uri": "https://localhost:8080/"
        },
        "outputId": "0311dffc-471f-4721-bb18-d83cadfa02ce"
      },
      "source": [
        "print('Matrix x\\n', x)\n",
        "print('=====================')\n",
        "print('Matrix y\\n', y)\n",
        "print('=====================')\n",
        "print('x.dot(y)\\n', x.dot(y))\n",
        "print('=====================')"
      ],
      "execution_count": null,
      "outputs": [
        {
          "output_type": "stream",
          "name": "stdout",
          "text": [
            "Matrix x\n",
            " [[1 2]\n",
            " [3 4]]\n",
            "=====================\n",
            "Matrix y\n",
            " [[5 6]\n",
            " [7 8]]\n",
            "=====================\n",
            "x.dot(y)\n",
            " [[19 22]\n",
            " [43 50]]\n",
            "=====================\n"
          ]
        }
      ]
    },
    {
      "cell_type": "code",
      "metadata": {
        "id": "CWQPkrfwBHy0",
        "colab": {
          "base_uri": "https://localhost:8080/"
        },
        "outputId": "cddeba63-8511-454e-f2de-0da5eb3f80dd"
      },
      "source": [
        "print('Matrix A:')\n",
        "A = np.array([[11,12,13], [21,22,23], [31,32,33]]) \n",
        "print(A)\n",
        "\n",
        "print('\\nMatrix B:')\n",
        "B = np.ones([3,3])\n",
        "print(B)\n",
        "\n",
        "print('\\nElement-wise multiplication A*B:')\n",
        "print(A*B)\n",
        "\n",
        "print('\\nMatrix multiplication A by B:')\n",
        "print(np.dot(A,B))\n",
        "\n",
        "print('\\nMatrix multiplication B by A:')\n",
        "print(np.dot(B,A))"
      ],
      "execution_count": null,
      "outputs": [
        {
          "output_type": "stream",
          "name": "stdout",
          "text": [
            "Matrix A:\n",
            "[[11 12 13]\n",
            " [21 22 23]\n",
            " [31 32 33]]\n",
            "\n",
            "Matrix B:\n",
            "[[1. 1. 1.]\n",
            " [1. 1. 1.]\n",
            " [1. 1. 1.]]\n",
            "\n",
            "Element-wise multiplication A*B:\n",
            "[[11. 12. 13.]\n",
            " [21. 22. 23.]\n",
            " [31. 32. 33.]]\n",
            "\n",
            "Matrix multiplication A by B:\n",
            "[[36. 36. 36.]\n",
            " [66. 66. 66.]\n",
            " [96. 96. 96.]]\n",
            "\n",
            "Matrix multiplication B by A:\n",
            "[[63. 66. 69.]\n",
            " [63. 66. 69.]\n",
            " [63. 66. 69.]]\n"
          ]
        }
      ]
    },
    {
      "cell_type": "markdown",
      "metadata": {
        "id": "tJS_Z5IPhjrs"
      },
      "source": [
        "## Transpose"
      ]
    },
    {
      "cell_type": "markdown",
      "metadata": {
        "id": "l0FDDryvBHx5"
      },
      "source": [
        "**_Transposition_** of vectors is not so intuitive as in Matlab, especially if a vector is defined as 1D `array` and you cannot distinguish between row and column vector. However, using the keyword `newaxis` it's possible to shape the vector into 2D array (as matrix of size $1 \\times n$ or $n \\times 1$), where transposition makes sense and can be obtained by attribute `.T`."
      ]
    },
    {
      "cell_type": "markdown",
      "metadata": {
        "id": "wzKVNmfLBHyp"
      },
      "source": [
        "**_Matrix transposition_** is obtained by attribute `.T`"
      ]
    },
    {
      "cell_type": "code",
      "metadata": {
        "id": "expuVonNBHx6",
        "colab": {
          "base_uri": "https://localhost:8080/"
        },
        "outputId": "1d1456aa-82d2-4faa-fa99-f8bf4ed22462"
      },
      "source": [
        "x = a[:, np.newaxis]  # Make column vector from vector a (defined as array)\n",
        "print(x)\n",
        "print(x.shape)    # Now size of column vector is 3x1\n",
        "print(x.T)        # Make row vector by transpostion of column vector"
      ],
      "execution_count": null,
      "outputs": [
        {
          "output_type": "stream",
          "name": "stdout",
          "text": [
            "[[10]\n",
            " [20]\n",
            " [30]]\n",
            "(3, 1)\n",
            "[[10 20 30]]\n"
          ]
        }
      ]
    },
    {
      "cell_type": "markdown",
      "metadata": {
        "id": "psQsskCeBHx_"
      },
      "source": [
        "If a vector was defined as 2D array of type `matrix`, transportation is not a problem."
      ]
    },
    {
      "cell_type": "code",
      "metadata": {
        "id": "PaSw3UNrBHyA",
        "colab": {
          "base_uri": "https://localhost:8080/"
        },
        "outputId": "fc8d817a-82d7-4add-fa06-694139751f99"
      },
      "source": [
        "x = b.T           # Make column vector from vector b (defined as matrix)\n",
        "print(x)\n",
        "print(x.shape)    # Now size of column vector is 3x1\n",
        "print(x.T)        # Make row vector by transpostion of column vector"
      ],
      "execution_count": null,
      "outputs": [
        {
          "output_type": "stream",
          "name": "stdout",
          "text": [
            "[[10 40]\n",
            " [20 50]\n",
            " [30 60]]\n",
            "(3, 2)\n",
            "[[10 20 30]\n",
            " [40 50 60]]\n"
          ]
        }
      ]
    },
    {
      "cell_type": "code",
      "metadata": {
        "id": "XCHUxY5sBHyq",
        "colab": {
          "base_uri": "https://localhost:8080/"
        },
        "outputId": "5dffc431-c219-4af3-fad9-96ece55f7096"
      },
      "source": [
        "X = np.ones([2,5])     # Generate 2x5 matrix full of ones\n",
        "Y = X.T             # Obtain transpose of matrix X\n",
        "\n",
        "print('Matrix X of size', X.shape, ':\\n', X)\n",
        "print('\\nMatrix Y=X.T of size', Y.shape, ':\\n', Y)"
      ],
      "execution_count": null,
      "outputs": [
        {
          "output_type": "stream",
          "name": "stdout",
          "text": [
            "Matrix X of size (2, 5) :\n",
            " [[1. 1. 1. 1. 1.]\n",
            " [1. 1. 1. 1. 1.]]\n",
            "\n",
            "Matrix Y=X.T of size (5, 2) :\n",
            " [[1. 1.]\n",
            " [1. 1.]\n",
            " [1. 1.]\n",
            " [1. 1.]\n",
            " [1. 1.]]\n"
          ]
        }
      ]
    },
    {
      "cell_type": "markdown",
      "metadata": {
        "id": "e8M378iLhjr3"
      },
      "source": [
        "## VStack and HStack"
      ]
    },
    {
      "cell_type": "code",
      "metadata": {
        "id": "0kTXSgj4BHym",
        "colab": {
          "base_uri": "https://localhost:8080/"
        },
        "outputId": "e9bedc85-e00d-4c1d-bff0-5df0ef9a6d8b"
      },
      "source": [
        "print(np.vstack([ A, np.ones([1,3]) ]))  # Add row vector to matrix\n",
        "print(np.hstack([ A, np.ones([3,1]) ]))  # Add column vector to matrix\n",
        "print(np.hstack([ A, np.eye(3) ]))       # Merge two matrices horizontally"
      ],
      "execution_count": null,
      "outputs": [
        {
          "output_type": "stream",
          "name": "stdout",
          "text": [
            "[[11. 12. 13.]\n",
            " [21. 22. 23.]\n",
            " [31. 32. 33.]\n",
            " [ 1.  1.  1.]]\n",
            "[[11. 12. 13.  1.]\n",
            " [21. 22. 23.  1.]\n",
            " [31. 32. 33.  1.]]\n",
            "[[11. 12. 13.  1.  0.  0.]\n",
            " [21. 22. 23.  0.  1.  0.]\n",
            " [31. 32. 33.  0.  0.  1.]]\n"
          ]
        }
      ]
    },
    {
      "cell_type": "markdown",
      "metadata": {
        "id": "1k8ggz-1hjr7"
      },
      "source": [
        "## Other Matrix Features"
      ]
    },
    {
      "cell_type": "markdown",
      "metadata": {
        "id": "14b0IbRXBHy5"
      },
      "source": [
        "There are also methods for essential matrix features like **_Frobenius norm_**, **_rank_** or **_determinant_**."
      ]
    },
    {
      "cell_type": "code",
      "metadata": {
        "id": "bweFhJJpBHy7",
        "colab": {
          "base_uri": "https://localhost:8080/"
        },
        "outputId": "a3f262dd-673d-4f63-9513-5dd10fa63817"
      },
      "source": [
        "print('Matrix A of size', A.shape, ':\\n', A)\n",
        "\n",
        "# Frobenius norm of matrix\n",
        "print('\\nFrobenius norm: ||A|| =', np.linalg.norm(A))\n",
        "\n",
        "# Rank of matrix\n",
        "print('rank(A) =', np.linalg.matrix_rank(A))\n",
        "\n",
        "# Determinant of matrix\n",
        "print('det(A) =',  np.linalg.det(A))"
      ],
      "execution_count": null,
      "outputs": [
        {
          "output_type": "stream",
          "name": "stdout",
          "text": [
            "Matrix A of size (3, 3) :\n",
            " [[11 12 13]\n",
            " [21 22 23]\n",
            " [31 32 33]]\n",
            "\n",
            "Frobenius norm: ||A|| = 70.44146506142529\n",
            "rank(A) = 2\n",
            "det(A) = 0.0\n"
          ]
        }
      ]
    },
    {
      "cell_type": "markdown",
      "metadata": {
        "id": "H9kGnyl6BHy_"
      },
      "source": [
        "In example above, note that the matrix $\\mathbf{A}$ is a singular matrix, because its rank is lower than number of its rows, thus also its detemninat is zero."
      ]
    },
    {
      "cell_type": "markdown",
      "metadata": {
        "id": "QeiSlfmGBHxx"
      },
      "source": [
        "**_Euclidean norm_** of vector is returned by method `numpy.linalg.norm`"
      ]
    },
    {
      "cell_type": "code",
      "metadata": {
        "id": "feJzzwVwBHxz",
        "colab": {
          "base_uri": "https://localhost:8080/"
        },
        "outputId": "2c6a05db-fd42-446d-a7bc-f16f09784cd6"
      },
      "source": [
        "norm = np.linalg.norm(a)      # Euclidean norm of vector a\n",
        "print('a =', a)\n",
        "print('norm(a) =', norm)\n",
        "\n",
        "x = a/np.linalg.norm(a)       # Make normalized/unit vector from a\n",
        "print('x =', x)\n",
        "print('norm(x) =', np.linalg.norm(x))"
      ],
      "execution_count": null,
      "outputs": [
        {
          "output_type": "stream",
          "name": "stdout",
          "text": [
            "a = [10 20 30]\n",
            "norm(a) = 37.416573867739416\n",
            "x = [0.26726124 0.53452248 0.80178373]\n",
            "norm(x) = 0.9999999999999999\n"
          ]
        }
      ]
    }
  ]
}