{
  "nbformat": 4,
  "nbformat_minor": 0,
  "metadata": {
    "accelerator": "GPU",
    "colab": {
      "name": "StockPricePredication_LSTM_v4.ipynb",
      "provenance": [],
      "collapsed_sections": [],
      "toc_visible": true
    },
    "kernelspec": {
      "display_name": "Python 3",
      "name": "python3"
    },
    "language_info": {
      "name": "python"
    }
  },
  "cells": [
    {
      "cell_type": "markdown",
      "metadata": {
        "id": "dnJIElf33ONS"
      },
      "source": [
        "\n",
        "Credit: https://github.com/luke4u/Time_Series_Forecasting/blob/main/Stock_price_prediction/Stock_price_prediction_LSTM.ipynb?fbclid=IwAR0tT9LIaM3BGtmu3kJkVIdjxNiBjLOwXl-b8V7m-xgjgK2B4hkCZjbOX-Q"
      ]
    },
    {
      "cell_type": "code",
      "metadata": {
        "colab": {
          "base_uri": "https://localhost:8080/"
        },
        "id": "hma9CCJCtdye",
        "outputId": "96cbe8df-e96a-449e-80a7-d43974a805c8"
      },
      "source": [
        "!nvidia-smi"
      ],
      "execution_count": 54,
      "outputs": [
        {
          "output_type": "stream",
          "name": "stdout",
          "text": [
            "Fri Feb 11 01:35:54 2022       \n",
            "+-----------------------------------------------------------------------------+\n",
            "| NVIDIA-SMI 460.32.03    Driver Version: 460.32.03    CUDA Version: 11.2     |\n",
            "|-------------------------------+----------------------+----------------------+\n",
            "| GPU  Name        Persistence-M| Bus-Id        Disp.A | Volatile Uncorr. ECC |\n",
            "| Fan  Temp  Perf  Pwr:Usage/Cap|         Memory-Usage | GPU-Util  Compute M. |\n",
            "|                               |                      |               MIG M. |\n",
            "|===============================+======================+======================|\n",
            "|   0  Tesla K80           Off  | 00000000:00:04.0 Off |                    0 |\n",
            "| N/A   60C    P0    68W / 149W |    245MiB / 11441MiB |      0%      Default |\n",
            "|                               |                      |                  N/A |\n",
            "+-------------------------------+----------------------+----------------------+\n",
            "                                                                               \n",
            "+-----------------------------------------------------------------------------+\n",
            "| Processes:                                                                  |\n",
            "|  GPU   GI   CI        PID   Type   Process name                  GPU Memory |\n",
            "|        ID   ID                                                   Usage      |\n",
            "|=============================================================================|\n",
            "+-----------------------------------------------------------------------------+\n"
          ]
        }
      ]
    },
    {
      "cell_type": "code",
      "metadata": {
        "id": "tXYt8kYNc-8I"
      },
      "source": [
        "import numpy as np\n",
        "import matplotlib.pyplot as plt\n",
        "import pandas as pd\n",
        "from sklearn.preprocessing import MinMaxScaler"
      ],
      "execution_count": 55,
      "outputs": []
    },
    {
      "cell_type": "markdown",
      "metadata": {
        "id": "pgD9k7D0hEwf"
      },
      "source": [
        "The data is saved in .csv files. 2004-2019\n",
        "\n",
        "\n",
        "\n"
      ]
    },
    {
      "cell_type": "markdown",
      "metadata": {
        "id": "OdJ3w7tx4DV6"
      },
      "source": [
        "# Download dataset"
      ]
    },
    {
      "cell_type": "code",
      "metadata": {
        "colab": {
          "base_uri": "https://localhost:8080/"
        },
        "id": "R6iZ88Ab4BxP",
        "outputId": "5e4cf26c-5850-44ef-b32f-4018d8cfa269"
      },
      "source": [
        "!wget https://github.com/kaopanboonyuen/Kao/raw/master/dataset/GOOG.csv"
      ],
      "execution_count": 56,
      "outputs": [
        {
          "output_type": "stream",
          "name": "stdout",
          "text": [
            "--2022-02-11 01:35:55--  https://github.com/kaopanboonyuen/Kao/raw/master/dataset/GOOG.csv\n",
            "Resolving github.com (github.com)... 13.114.40.48\n",
            "Connecting to github.com (github.com)|13.114.40.48|:443... connected.\n",
            "HTTP request sent, awaiting response... 302 Found\n",
            "Location: https://raw.githubusercontent.com/kaopanboonyuen/Kao/master/dataset/GOOG.csv [following]\n",
            "--2022-02-11 01:35:55--  https://raw.githubusercontent.com/kaopanboonyuen/Kao/master/dataset/GOOG.csv\n",
            "Resolving raw.githubusercontent.com (raw.githubusercontent.com)... 185.199.110.133, 185.199.109.133, 185.199.108.133, ...\n",
            "Connecting to raw.githubusercontent.com (raw.githubusercontent.com)|185.199.110.133|:443... connected.\n",
            "HTTP request sent, awaiting response... 200 OK\n",
            "Length: 284248 (278K) [text/plain]\n",
            "Saving to: ‘GOOG.csv.1’\n",
            "\n",
            "GOOG.csv.1          100%[===================>] 277.59K  --.-KB/s    in 0.04s   \n",
            "\n",
            "2022-02-11 01:35:55 (6.92 MB/s) - ‘GOOG.csv.1’ saved [284248/284248]\n",
            "\n"
          ]
        }
      ]
    },
    {
      "cell_type": "code",
      "metadata": {
        "colab": {
          "base_uri": "https://localhost:8080/",
          "height": 206
        },
        "id": "FN30W23QdBeu",
        "outputId": "6b98e78c-23d5-4bc3-dfdf-58d8c259d869"
      },
      "source": [
        "data = pd.read_csv('GOOG.csv', date_parser = True)\n",
        "data.sample(5)"
      ],
      "execution_count": 57,
      "outputs": [
        {
          "output_type": "execute_result",
          "data": {
            "text/html": [
              "\n",
              "  <div id=\"df-ca71ed8a-02b3-482a-92c4-cddae7812040\">\n",
              "    <div class=\"colab-df-container\">\n",
              "      <div>\n",
              "<style scoped>\n",
              "    .dataframe tbody tr th:only-of-type {\n",
              "        vertical-align: middle;\n",
              "    }\n",
              "\n",
              "    .dataframe tbody tr th {\n",
              "        vertical-align: top;\n",
              "    }\n",
              "\n",
              "    .dataframe thead th {\n",
              "        text-align: right;\n",
              "    }\n",
              "</style>\n",
              "<table border=\"1\" class=\"dataframe\">\n",
              "  <thead>\n",
              "    <tr style=\"text-align: right;\">\n",
              "      <th></th>\n",
              "      <th>Date</th>\n",
              "      <th>Open</th>\n",
              "      <th>High</th>\n",
              "      <th>Low</th>\n",
              "      <th>Close</th>\n",
              "      <th>Adj Close</th>\n",
              "      <th>Volume</th>\n",
              "    </tr>\n",
              "  </thead>\n",
              "  <tbody>\n",
              "    <tr>\n",
              "      <th>2734</th>\n",
              "      <td>2015-06-30</td>\n",
              "      <td>526.020020</td>\n",
              "      <td>526.250000</td>\n",
              "      <td>520.500000</td>\n",
              "      <td>520.510010</td>\n",
              "      <td>520.510010</td>\n",
              "      <td>2217200</td>\n",
              "    </tr>\n",
              "    <tr>\n",
              "      <th>520</th>\n",
              "      <td>2006-09-12</td>\n",
              "      <td>191.781158</td>\n",
              "      <td>195.631729</td>\n",
              "      <td>191.721375</td>\n",
              "      <td>195.218277</td>\n",
              "      <td>195.218277</td>\n",
              "      <td>10925100</td>\n",
              "    </tr>\n",
              "    <tr>\n",
              "      <th>129</th>\n",
              "      <td>2005-02-23</td>\n",
              "      <td>96.289085</td>\n",
              "      <td>96.876884</td>\n",
              "      <td>93.977745</td>\n",
              "      <td>96.612869</td>\n",
              "      <td>96.612869</td>\n",
              "      <td>31288700</td>\n",
              "    </tr>\n",
              "    <tr>\n",
              "      <th>3199</th>\n",
              "      <td>2017-05-04</td>\n",
              "      <td>926.070007</td>\n",
              "      <td>935.929993</td>\n",
              "      <td>924.590027</td>\n",
              "      <td>931.659973</td>\n",
              "      <td>931.659973</td>\n",
              "      <td>1422100</td>\n",
              "    </tr>\n",
              "    <tr>\n",
              "      <th>3745</th>\n",
              "      <td>2019-07-08</td>\n",
              "      <td>1125.170044</td>\n",
              "      <td>1125.979980</td>\n",
              "      <td>1111.209961</td>\n",
              "      <td>1116.349976</td>\n",
              "      <td>1116.349976</td>\n",
              "      <td>1236400</td>\n",
              "    </tr>\n",
              "  </tbody>\n",
              "</table>\n",
              "</div>\n",
              "      <button class=\"colab-df-convert\" onclick=\"convertToInteractive('df-ca71ed8a-02b3-482a-92c4-cddae7812040')\"\n",
              "              title=\"Convert this dataframe to an interactive table.\"\n",
              "              style=\"display:none;\">\n",
              "        \n",
              "  <svg xmlns=\"http://www.w3.org/2000/svg\" height=\"24px\"viewBox=\"0 0 24 24\"\n",
              "       width=\"24px\">\n",
              "    <path d=\"M0 0h24v24H0V0z\" fill=\"none\"/>\n",
              "    <path d=\"M18.56 5.44l.94 2.06.94-2.06 2.06-.94-2.06-.94-.94-2.06-.94 2.06-2.06.94zm-11 1L8.5 8.5l.94-2.06 2.06-.94-2.06-.94L8.5 2.5l-.94 2.06-2.06.94zm10 10l.94 2.06.94-2.06 2.06-.94-2.06-.94-.94-2.06-.94 2.06-2.06.94z\"/><path d=\"M17.41 7.96l-1.37-1.37c-.4-.4-.92-.59-1.43-.59-.52 0-1.04.2-1.43.59L10.3 9.45l-7.72 7.72c-.78.78-.78 2.05 0 2.83L4 21.41c.39.39.9.59 1.41.59.51 0 1.02-.2 1.41-.59l7.78-7.78 2.81-2.81c.8-.78.8-2.07 0-2.86zM5.41 20L4 18.59l7.72-7.72 1.47 1.35L5.41 20z\"/>\n",
              "  </svg>\n",
              "      </button>\n",
              "      \n",
              "  <style>\n",
              "    .colab-df-container {\n",
              "      display:flex;\n",
              "      flex-wrap:wrap;\n",
              "      gap: 12px;\n",
              "    }\n",
              "\n",
              "    .colab-df-convert {\n",
              "      background-color: #E8F0FE;\n",
              "      border: none;\n",
              "      border-radius: 50%;\n",
              "      cursor: pointer;\n",
              "      display: none;\n",
              "      fill: #1967D2;\n",
              "      height: 32px;\n",
              "      padding: 0 0 0 0;\n",
              "      width: 32px;\n",
              "    }\n",
              "\n",
              "    .colab-df-convert:hover {\n",
              "      background-color: #E2EBFA;\n",
              "      box-shadow: 0px 1px 2px rgba(60, 64, 67, 0.3), 0px 1px 3px 1px rgba(60, 64, 67, 0.15);\n",
              "      fill: #174EA6;\n",
              "    }\n",
              "\n",
              "    [theme=dark] .colab-df-convert {\n",
              "      background-color: #3B4455;\n",
              "      fill: #D2E3FC;\n",
              "    }\n",
              "\n",
              "    [theme=dark] .colab-df-convert:hover {\n",
              "      background-color: #434B5C;\n",
              "      box-shadow: 0px 1px 3px 1px rgba(0, 0, 0, 0.15);\n",
              "      filter: drop-shadow(0px 1px 2px rgba(0, 0, 0, 0.3));\n",
              "      fill: #FFFFFF;\n",
              "    }\n",
              "  </style>\n",
              "\n",
              "      <script>\n",
              "        const buttonEl =\n",
              "          document.querySelector('#df-ca71ed8a-02b3-482a-92c4-cddae7812040 button.colab-df-convert');\n",
              "        buttonEl.style.display =\n",
              "          google.colab.kernel.accessAllowed ? 'block' : 'none';\n",
              "\n",
              "        async function convertToInteractive(key) {\n",
              "          const element = document.querySelector('#df-ca71ed8a-02b3-482a-92c4-cddae7812040');\n",
              "          const dataTable =\n",
              "            await google.colab.kernel.invokeFunction('convertToInteractive',\n",
              "                                                     [key], {});\n",
              "          if (!dataTable) return;\n",
              "\n",
              "          const docLinkHtml = 'Like what you see? Visit the ' +\n",
              "            '<a target=\"_blank\" href=https://colab.research.google.com/notebooks/data_table.ipynb>data table notebook</a>'\n",
              "            + ' to learn more about interactive tables.';\n",
              "          element.innerHTML = '';\n",
              "          dataTable['output_type'] = 'display_data';\n",
              "          await google.colab.output.renderOutput(dataTable, element);\n",
              "          const docLink = document.createElement('div');\n",
              "          docLink.innerHTML = docLinkHtml;\n",
              "          element.appendChild(docLink);\n",
              "        }\n",
              "      </script>\n",
              "    </div>\n",
              "  </div>\n",
              "  "
            ],
            "text/plain": [
              "            Date         Open         High  ...        Close    Adj Close    Volume\n",
              "2734  2015-06-30   526.020020   526.250000  ...   520.510010   520.510010   2217200\n",
              "520   2006-09-12   191.781158   195.631729  ...   195.218277   195.218277  10925100\n",
              "129   2005-02-23    96.289085    96.876884  ...    96.612869    96.612869  31288700\n",
              "3199  2017-05-04   926.070007   935.929993  ...   931.659973   931.659973   1422100\n",
              "3745  2019-07-08  1125.170044  1125.979980  ...  1116.349976  1116.349976   1236400\n",
              "\n",
              "[5 rows x 7 columns]"
            ]
          },
          "metadata": {},
          "execution_count": 57
        }
      ]
    },
    {
      "cell_type": "code",
      "metadata": {
        "colab": {
          "base_uri": "https://localhost:8080/"
        },
        "id": "GgpH504qmZtU",
        "outputId": "82cacb2e-094a-4ba5-a49b-8e9926da2a85"
      },
      "source": [
        "data.info()"
      ],
      "execution_count": 58,
      "outputs": [
        {
          "output_type": "stream",
          "name": "stdout",
          "text": [
            "<class 'pandas.core.frame.DataFrame'>\n",
            "RangeIndex: 3809 entries, 0 to 3808\n",
            "Data columns (total 7 columns):\n",
            " #   Column     Non-Null Count  Dtype  \n",
            "---  ------     --------------  -----  \n",
            " 0   Date       3809 non-null   object \n",
            " 1   Open       3809 non-null   float64\n",
            " 2   High       3809 non-null   float64\n",
            " 3   Low        3809 non-null   float64\n",
            " 4   Close      3809 non-null   float64\n",
            " 5   Adj Close  3809 non-null   float64\n",
            " 6   Volume     3809 non-null   int64  \n",
            "dtypes: float64(5), int64(1), object(1)\n",
            "memory usage: 208.4+ KB\n"
          ]
        }
      ]
    },
    {
      "cell_type": "code",
      "metadata": {
        "colab": {
          "base_uri": "https://localhost:8080/",
          "height": 513
        },
        "id": "BlTom9GZmcq5",
        "outputId": "64d1aa0b-9ba9-477f-ff72-f167b04dbc23"
      },
      "source": [
        "plt.figure(figsize=(18, 8))\n",
        "plt.plot(data['Open'])\n",
        "plt.title(\"Google Stock Prices\")\n",
        "plt.xlabel(\"Time (oldest -> latest)\")\n",
        "plt.ylabel(\"Stock Opening Price\")\n",
        "plt.show()"
      ],
      "execution_count": 59,
      "outputs": [
        {
          "output_type": "display_data",
          "data": {
            "image/png": "[encoded data removed]",
            "text/plain": [
              "<Figure size 1296x576 with 1 Axes>"
            ]
          },
          "metadata": {
            "needs_background": "light"
          }
        }
      ]
    },
    {
      "cell_type": "markdown",
      "metadata": {
        "id": "ARnOdG405f8n"
      },
      "source": [
        "# Data preparation"
      ]
    },
    {
      "cell_type": "markdown",
      "metadata": {
        "id": "kma2WK2H5j47"
      },
      "source": [
        "## Train/test split"
      ]
    },
    {
      "cell_type": "code",
      "metadata": {
        "id": "U-lSoEO_dfa-"
      },
      "source": [
        "data_training = data[data['Date']<'2019-01-01'].copy()\n",
        "data_test = data[data['Date']>='2019-01-01'].copy()"
      ],
      "execution_count": 60,
      "outputs": []
    },
    {
      "cell_type": "code",
      "metadata": {
        "id": "5FXLGXmedgqG"
      },
      "source": [
        "data_training = data_training.drop(['Date', 'Adj Close'], axis = 1)"
      ],
      "execution_count": 61,
      "outputs": []
    },
    {
      "cell_type": "code",
      "source": [
        "data_training.head()"
      ],
      "metadata": {
        "colab": {
          "base_uri": "https://localhost:8080/",
          "height": 206
        },
        "id": "jONlufFv2NPo",
        "outputId": "1ac1c6b2-6450-4cc0-9a5d-30d7a00e0971"
      },
      "execution_count": 62,
      "outputs": [
        {
          "output_type": "execute_result",
          "data": {
            "text/html": [
              "\n",
              "  <div id=\"df-a70d8c44-934f-4107-92fa-c5cc4583bac9\">\n",
              "    <div class=\"colab-df-container\">\n",
              "      <div>\n",
              "<style scoped>\n",
              "    .dataframe tbody tr th:only-of-type {\n",
              "        vertical-align: middle;\n",
              "    }\n",
              "\n",
              "    .dataframe tbody tr th {\n",
              "        vertical-align: top;\n",
              "    }\n",
              "\n",
              "    .dataframe thead th {\n",
              "        text-align: right;\n",
              "    }\n",
              "</style>\n",
              "<table border=\"1\" class=\"dataframe\">\n",
              "  <thead>\n",
              "    <tr style=\"text-align: right;\">\n",
              "      <th></th>\n",
              "      <th>Open</th>\n",
              "      <th>High</th>\n",
              "      <th>Low</th>\n",
              "      <th>Close</th>\n",
              "      <th>Volume</th>\n",
              "    </tr>\n",
              "  </thead>\n",
              "  <tbody>\n",
              "    <tr>\n",
              "      <th>0</th>\n",
              "      <td>49.813286</td>\n",
              "      <td>51.835709</td>\n",
              "      <td>47.800831</td>\n",
              "      <td>49.982655</td>\n",
              "      <td>44871300</td>\n",
              "    </tr>\n",
              "    <tr>\n",
              "      <th>1</th>\n",
              "      <td>50.316402</td>\n",
              "      <td>54.336334</td>\n",
              "      <td>50.062355</td>\n",
              "      <td>53.952770</td>\n",
              "      <td>22942800</td>\n",
              "    </tr>\n",
              "    <tr>\n",
              "      <th>2</th>\n",
              "      <td>55.168217</td>\n",
              "      <td>56.528118</td>\n",
              "      <td>54.321388</td>\n",
              "      <td>54.495735</td>\n",
              "      <td>18342800</td>\n",
              "    </tr>\n",
              "    <tr>\n",
              "      <th>3</th>\n",
              "      <td>55.412300</td>\n",
              "      <td>55.591629</td>\n",
              "      <td>51.591621</td>\n",
              "      <td>52.239193</td>\n",
              "      <td>15319700</td>\n",
              "    </tr>\n",
              "    <tr>\n",
              "      <th>4</th>\n",
              "      <td>52.284027</td>\n",
              "      <td>53.798351</td>\n",
              "      <td>51.746044</td>\n",
              "      <td>52.802086</td>\n",
              "      <td>9232100</td>\n",
              "    </tr>\n",
              "  </tbody>\n",
              "</table>\n",
              "</div>\n",
              "      <button class=\"colab-df-convert\" onclick=\"convertToInteractive('df-a70d8c44-934f-4107-92fa-c5cc4583bac9')\"\n",
              "              title=\"Convert this dataframe to an interactive table.\"\n",
              "              style=\"display:none;\">\n",
              "        \n",
              "  <svg xmlns=\"http://www.w3.org/2000/svg\" height=\"24px\"viewBox=\"0 0 24 24\"\n",
              "       width=\"24px\">\n",
              "    <path d=\"M0 0h24v24H0V0z\" fill=\"none\"/>\n",
              "    <path d=\"M18.56 5.44l.94 2.06.94-2.06 2.06-.94-2.06-.94-.94-2.06-.94 2.06-2.06.94zm-11 1L8.5 8.5l.94-2.06 2.06-.94-2.06-.94L8.5 2.5l-.94 2.06-2.06.94zm10 10l.94 2.06.94-2.06 2.06-.94-2.06-.94-.94-2.06-.94 2.06-2.06.94z\"/><path d=\"M17.41 7.96l-1.37-1.37c-.4-.4-.92-.59-1.43-.59-.52 0-1.04.2-1.43.59L10.3 9.45l-7.72 7.72c-.78.78-.78 2.05 0 2.83L4 21.41c.39.39.9.59 1.41.59.51 0 1.02-.2 1.41-.59l7.78-7.78 2.81-2.81c.8-.78.8-2.07 0-2.86zM5.41 20L4 18.59l7.72-7.72 1.47 1.35L5.41 20z\"/>\n",
              "  </svg>\n",
              "      </button>\n",
              "      \n",
              "  <style>\n",
              "    .colab-df-container {\n",
              "      display:flex;\n",
              "      flex-wrap:wrap;\n",
              "      gap: 12px;\n",
              "    }\n",
              "\n",
              "    .colab-df-convert {\n",
              "      background-color: #E8F0FE;\n",
              "      border: none;\n",
              "      border-radius: 50%;\n",
              "      cursor: pointer;\n",
              "      display: none;\n",
              "      fill: #1967D2;\n",
              "      height: 32px;\n",
              "      padding: 0 0 0 0;\n",
              "      width: 32px;\n",
              "    }\n",
              "\n",
              "    .colab-df-convert:hover {\n",
              "      background-color: #E2EBFA;\n",
              "      box-shadow: 0px 1px 2px rgba(60, 64, 67, 0.3), 0px 1px 3px 1px rgba(60, 64, 67, 0.15);\n",
              "      fill: #174EA6;\n",
              "    }\n",
              "\n",
              "    [theme=dark] .colab-df-convert {\n",
              "      background-color: #3B4455;\n",
              "      fill: #D2E3FC;\n",
              "    }\n",
              "\n",
              "    [theme=dark] .colab-df-convert:hover {\n",
              "      background-color: #434B5C;\n",
              "      box-shadow: 0px 1px 3px 1px rgba(0, 0, 0, 0.15);\n",
              "      filter: drop-shadow(0px 1px 2px rgba(0, 0, 0, 0.3));\n",
              "      fill: #FFFFFF;\n",
              "    }\n",
              "  </style>\n",
              "\n",
              "      <script>\n",
              "        const buttonEl =\n",
              "          document.querySelector('#df-a70d8c44-934f-4107-92fa-c5cc4583bac9 button.colab-df-convert');\n",
              "        buttonEl.style.display =\n",
              "          google.colab.kernel.accessAllowed ? 'block' : 'none';\n",
              "\n",
              "        async function convertToInteractive(key) {\n",
              "          const element = document.querySelector('#df-a70d8c44-934f-4107-92fa-c5cc4583bac9');\n",
              "          const dataTable =\n",
              "            await google.colab.kernel.invokeFunction('convertToInteractive',\n",
              "                                                     [key], {});\n",
              "          if (!dataTable) return;\n",
              "\n",
              "          const docLinkHtml = 'Like what you see? Visit the ' +\n",
              "            '<a target=\"_blank\" href=https://colab.research.google.com/notebooks/data_table.ipynb>data table notebook</a>'\n",
              "            + ' to learn more about interactive tables.';\n",
              "          element.innerHTML = '';\n",
              "          dataTable['output_type'] = 'display_data';\n",
              "          await google.colab.output.renderOutput(dataTable, element);\n",
              "          const docLink = document.createElement('div');\n",
              "          docLink.innerHTML = docLinkHtml;\n",
              "          element.appendChild(docLink);\n",
              "        }\n",
              "      </script>\n",
              "    </div>\n",
              "  </div>\n",
              "  "
            ],
            "text/plain": [
              "        Open       High        Low      Close    Volume\n",
              "0  49.813286  51.835709  47.800831  49.982655  44871300\n",
              "1  50.316402  54.336334  50.062355  53.952770  22942800\n",
              "2  55.168217  56.528118  54.321388  54.495735  18342800\n",
              "3  55.412300  55.591629  51.591621  52.239193  15319700\n",
              "4  52.284027  53.798351  51.746044  52.802086   9232100"
            ]
          },
          "metadata": {},
          "execution_count": 62
        }
      ]
    },
    {
      "cell_type": "markdown",
      "metadata": {
        "id": "jLVAtOyzg_9W"
      },
      "source": [
        "The next step is to scale the stock prices between (0, 1) to avoid intensive computation. Common methods include Standardization and Normalization"
      ]
    },
    {
      "cell_type": "markdown",
      "metadata": {
        "id": "g_HAazl2m2A8"
      },
      "source": [
        "## Normalize data"
      ]
    },
    {
      "cell_type": "code",
      "metadata": {
        "id": "khw4M2JsdiKT"
      },
      "source": [
        "scaler = MinMaxScaler()\n",
        "data_training = scaler.fit_transform(data_training)"
      ],
      "execution_count": 63,
      "outputs": []
    },
    {
      "cell_type": "code",
      "source": [
        "scaler.inverse_transform(data_training)"
      ],
      "metadata": {
        "colab": {
          "base_uri": "https://localhost:8080/"
        },
        "id": "Kmz-nS6w4cPU",
        "outputId": "7398d7e3-3d85-4687-e30c-56b5291c1d84"
      },
      "execution_count": 64,
      "outputs": [
        {
          "output_type": "execute_result",
          "data": {
            "text/plain": [
              "array([[4.98132860e+01, 5.18357090e+01, 4.78008310e+01, 4.99826550e+01,\n",
              "        4.48713000e+07],\n",
              "       [5.03164020e+01, 5.43363340e+01, 5.00623550e+01, 5.39527700e+01,\n",
              "        2.29428000e+07],\n",
              "       [5.51682170e+01, 5.65281180e+01, 5.43213880e+01, 5.44957350e+01,\n",
              "        1.83428000e+07],\n",
              "       ...,\n",
              "       [1.01715002e+03, 1.04389001e+03, 9.97000000e+02, 1.04388000e+03,\n",
              "        2.10980000e+06],\n",
              "       [1.04962000e+03, 1.05556006e+03, 1.03309998e+03, 1.03707996e+03,\n",
              "        1.41480000e+06],\n",
              "       [1.05095996e+03, 1.05269995e+03, 1.02359003e+03, 1.03560999e+03,\n",
              "        1.49330000e+06]])"
            ]
          },
          "metadata": {},
          "execution_count": 64
        }
      ]
    },
    {
      "cell_type": "code",
      "source": [
        "scale = 1/scaler.scale_\n",
        "temp = (data_training * scale) + scaler.min_\n",
        "temp"
      ],
      "metadata": {
        "colab": {
          "base_uri": "https://localhost:8080/"
        },
        "id": "rvb9MZW42RyZ",
        "outputId": "5225b95b-0487-4967-bde0-901c13131c60"
      },
      "execution_count": 65,
      "outputs": [
        {
          "output_type": "execute_result",
          "data": {
            "text/plain": [
              "array([[ 3.63037884e-01,  1.11423900e+00, -3.97935959e-02,\n",
              "         1.23502478e-01,  4.48634000e+07],\n",
              "       [ 8.66153884e-01,  3.61486400e+00,  2.22173040e+00,\n",
              "         4.09361748e+00,  2.29349000e+07],\n",
              "       [ 5.71796888e+00,  5.80664800e+00,  6.48076340e+00,\n",
              "         4.63658248e+00,  1.83349000e+07],\n",
              "       ...,\n",
              "       [ 9.67699776e+02,  9.93168545e+02,  9.49159375e+02,\n",
              "         9.94020852e+02,  2.10190000e+06],\n",
              "       [ 1.00016975e+03,  1.00483859e+03,  9.85259351e+02,\n",
              "         9.87220803e+02,  1.40690000e+06],\n",
              "       [ 1.00150971e+03,  1.00197848e+03,  9.75749402e+02,\n",
              "         9.85750832e+02,  1.48540000e+06]])"
            ]
          },
          "metadata": {},
          "execution_count": 65
        }
      ]
    },
    {
      "cell_type": "markdown",
      "metadata": {
        "id": "mctH9Km5djoF"
      },
      "source": [
        "create RNN with 60 timesteps, i.e. look 60 previous time steps"
      ]
    },
    {
      "cell_type": "code",
      "metadata": {
        "colab": {
          "base_uri": "https://localhost:8080/"
        },
        "id": "XTv34OA1dlRq",
        "outputId": "3c58ead7-5c02-4708-d642-06bb14caea37"
      },
      "source": [
        "data_training[0:10]"
      ],
      "execution_count": 66,
      "outputs": [
        {
          "output_type": "execute_result",
          "data": {
            "text/plain": [
              "array([[3.30294890e-04, 9.44785459e-04, 0.00000000e+00, 1.34908021e-04,\n",
              "        5.43577404e-01],\n",
              "       [7.42148227e-04, 2.98909923e-03, 1.88269054e-03, 3.39307537e-03,\n",
              "        2.77885613e-01],\n",
              "       [4.71386886e-03, 4.78092896e-03, 5.42828241e-03, 3.83867225e-03,\n",
              "        2.22150736e-01],\n",
              "       [4.91367646e-03, 4.01532941e-03, 3.15578542e-03, 1.98678849e-03,\n",
              "        1.85522018e-01],\n",
              "       [2.35285614e-03, 2.54928676e-03, 3.28434064e-03, 2.44873974e-03,\n",
              "        1.11762967e-01],\n",
              "       [2.34877785e-03, 2.52892558e-03, 3.60779701e-03, 3.22955376e-03,\n",
              "        8.62763771e-02],\n",
              "       [3.63326671e-03, 2.80177162e-03, 4.03492722e-03, 2.51005881e-03,\n",
              "        7.55243925e-02],\n",
              "       [2.48334262e-03, 1.52712947e-03, 2.50886935e-03, 8.17608079e-04,\n",
              "        6.31682127e-02],\n",
              "       [1.26817570e-03, 8.02253103e-04, 2.57107531e-03, 9.64778600e-04,\n",
              "        5.97732318e-02],\n",
              "       [1.43128522e-03, 5.00900100e-04, 1.53849690e-03, 9.81131336e-05,\n",
              "        1.11151095e-01]])"
            ]
          },
          "metadata": {},
          "execution_count": 66
        }
      ]
    },
    {
      "cell_type": "markdown",
      "metadata": {
        "id": "np-Ts7QTi2nR"
      },
      "source": [
        "A special data structure is needed to cover 60-time stamps, based on which RNN will predict the 61st price."
      ]
    },
    {
      "cell_type": "code",
      "metadata": {
        "id": "W4926pfpdoE0"
      },
      "source": [
        "X_train = []\n",
        "y_train = []\n",
        "\n",
        "for i in range(60, data_training.shape[0]):\n",
        "    X_train.append(data_training[i-60:i])\n",
        "    y_train.append(data_training[i, 0])\n",
        "\n",
        "X_train, y_train = np.array(X_train), np.array(y_train)"
      ],
      "execution_count": 67,
      "outputs": []
    },
    {
      "cell_type": "code",
      "metadata": {
        "colab": {
          "base_uri": "https://localhost:8080/"
        },
        "id": "HO6hoNDRdsQI",
        "outputId": "1320398b-b9a3-44c4-ec91-5994b5d98787"
      },
      "source": [
        "X_train.shape"
      ],
      "execution_count": 68,
      "outputs": [
        {
          "output_type": "execute_result",
          "data": {
            "text/plain": [
              "(3557, 60, 5)"
            ]
          },
          "metadata": {},
          "execution_count": 68
        }
      ]
    },
    {
      "cell_type": "markdown",
      "metadata": {
        "id": "KTABZEIKjCTN"
      },
      "source": [
        "# Building Model1: LSTM"
      ]
    },
    {
      "cell_type": "code",
      "metadata": {
        "id": "T5ByHACkduvK"
      },
      "source": [
        "import tensorflow as tf\n",
        "from tensorflow.keras import Sequential\n",
        "from tensorflow.keras.layers import Dense, LSTM, Dropout"
      ],
      "execution_count": 69,
      "outputs": []
    },
    {
      "cell_type": "code",
      "metadata": {
        "colab": {
          "base_uri": "https://localhost:8080/",
          "height": 35
        },
        "id": "Zw2TuO9j5tAT",
        "outputId": "6b12afeb-3095-431e-f594-7fc03fa8025d"
      },
      "source": [
        "tf.__version__"
      ],
      "execution_count": 70,
      "outputs": [
        {
          "output_type": "execute_result",
          "data": {
            "application/vnd.google.colaboratory.intrinsic+json": {
              "type": "string"
            },
            "text/plain": [
              "'2.7.0'"
            ]
          },
          "metadata": {},
          "execution_count": 70
        }
      ]
    },
    {
      "cell_type": "markdown",
      "metadata": {
        "id": "J5EO2vcIjRc-"
      },
      "source": [
        "Fundamentally, we are building a NN regressor for continuous value prediction using LSTM. First, initialize the model."
      ]
    },
    {
      "cell_type": "code",
      "metadata": {
        "colab": {
          "base_uri": "https://localhost:8080/"
        },
        "id": "6PwBHKiCdxBy",
        "outputId": "adf51155-441b-4674-e878-22191acdee9c"
      },
      "source": [
        "modelLSTM = Sequential()\n",
        "\n",
        "modelLSTM.add(LSTM(units = 60, activation = 'relu', return_sequences = True, input_shape = (X_train.shape[1], 5)))\n",
        "modelLSTM.add(Dropout(0.2))\n",
        "\n",
        "modelLSTM.add(LSTM(units = 60, activation = 'relu', return_sequences = True))\n",
        "modelLSTM.add(Dropout(0.2))\n",
        "\n",
        "modelLSTM.add(LSTM(units = 80, activation = 'relu', return_sequences = True))\n",
        "modelLSTM.add(Dropout(0.2))\n",
        "\n",
        "modelLSTM.add(LSTM(units = 120, activation = 'relu'))\n",
        "modelLSTM.add(Dropout(0.2))\n",
        "\n",
        "modelLSTM.add(Dense(units = 1))"
      ],
      "execution_count": 71,
      "outputs": [
        {
          "output_type": "stream",
          "name": "stdout",
          "text": [
            "WARNING:tensorflow:Layer lstm_4 will not use cuDNN kernels since it doesn't meet the criteria. It will use a generic GPU kernel as fallback when running on GPU.\n",
            "WARNING:tensorflow:Layer lstm_5 will not use cuDNN kernels since it doesn't meet the criteria. It will use a generic GPU kernel as fallback when running on GPU.\n",
            "WARNING:tensorflow:Layer lstm_6 will not use cuDNN kernels since it doesn't meet the criteria. It will use a generic GPU kernel as fallback when running on GPU.\n",
            "WARNING:tensorflow:Layer lstm_7 will not use cuDNN kernels since it doesn't meet the criteria. It will use a generic GPU kernel as fallback when running on GPU.\n"
          ]
        }
      ]
    },
    {
      "cell_type": "code",
      "metadata": {
        "colab": {
          "base_uri": "https://localhost:8080/"
        },
        "id": "OruphK2TdzFB",
        "outputId": "aaf48b02-92e7-4f56-cc2e-d412dd67a7b3"
      },
      "source": [
        "modelLSTM.summary()"
      ],
      "execution_count": 72,
      "outputs": [
        {
          "output_type": "stream",
          "name": "stdout",
          "text": [
            "Model: \"sequential_2\"\n",
            "_________________________________________________________________\n",
            " Layer (type)                Output Shape              Param #   \n",
            "=================================================================\n",
            " lstm_4 (LSTM)               (None, 60, 60)            15840     \n",
            "                                                                 \n",
            " dropout_8 (Dropout)         (None, 60, 60)            0         \n",
            "                                                                 \n",
            " lstm_5 (LSTM)               (None, 60, 60)            29040     \n",
            "                                                                 \n",
            " dropout_9 (Dropout)         (None, 60, 60)            0         \n",
            "                                                                 \n",
            " lstm_6 (LSTM)               (None, 60, 80)            45120     \n",
            "                                                                 \n",
            " dropout_10 (Dropout)        (None, 60, 80)            0         \n",
            "                                                                 \n",
            " lstm_7 (LSTM)               (None, 120)               96480     \n",
            "                                                                 \n",
            " dropout_11 (Dropout)        (None, 120)               0         \n",
            "                                                                 \n",
            " dense_2 (Dense)             (None, 1)                 121       \n",
            "                                                                 \n",
            "=================================================================\n",
            "Total params: 186,601\n",
            "Trainable params: 186,601\n",
            "Non-trainable params: 0\n",
            "_________________________________________________________________\n"
          ]
        }
      ]
    },
    {
      "cell_type": "markdown",
      "metadata": {
        "id": "vSt1L8XznHae"
      },
      "source": [
        "Callbacks\n",
        "*   EarlyStoping: It will stop the traning if score of model didn't increase. This prevent model from overfitting. We are to set max in 10 epoches if it didn't increase then we will stop the training\n",
        "*   ReduceLROnPlateau: Use for reduce the learning rate. In 3 steps the score didn't increase we will reduce the learning rate to improve the training\n",
        "*   ModelCheckpoint: Use for save model only when the score increased\n",
        "\n",
        "\n"
      ]
    },
    {
      "cell_type": "code",
      "metadata": {
        "id": "JFWU6JktosN_"
      },
      "source": [
        "from tensorflow.keras.callbacks import EarlyStopping, ModelCheckpoint, ReduceLROnPlateau"
      ],
      "execution_count": 73,
      "outputs": []
    },
    {
      "cell_type": "code",
      "metadata": {
        "id": "F2jd8nTRp9kq"
      },
      "source": [
        "#create callback\n",
        "filepath = 'my_best_modelLSTM_yourself.hdf5'\n",
        "checkpoint = ModelCheckpoint(filepath=filepath, \n",
        "                             monitor='loss',\n",
        "                             verbose=0, \n",
        "                             save_best_only=True,\n",
        "                             mode='min')\n",
        "\n",
        "earlystopping = EarlyStopping(\n",
        "    monitor='loss', \n",
        "    patience=3, \n",
        "    min_delta=0, \n",
        "    mode='auto'\n",
        ")\n",
        "\n",
        "reduce_lr = ReduceLROnPlateau(\n",
        "    monitor='loss', \n",
        "    factor=0.2,   \n",
        "    patience=2, \n",
        "    min_lr=0.001,\n",
        "    verbose=0\n",
        ")\n",
        "callbacks = [checkpoint, earlystopping, reduce_lr]"
      ],
      "execution_count": 74,
      "outputs": []
    },
    {
      "cell_type": "markdown",
      "metadata": {
        "id": "U8-heWYZjxpN"
      },
      "source": [
        "For optimizer, we use Adam, a safe choice to start with. The loss function is the mean of squared errors between actual values and predictions."
      ]
    },
    {
      "cell_type": "code",
      "metadata": {
        "id": "7alsTCdPd5PY"
      },
      "source": [
        "modelLSTM.compile(optimizer='adam', loss = 'mean_squared_error')"
      ],
      "execution_count": 75,
      "outputs": []
    },
    {
      "cell_type": "markdown",
      "metadata": {
        "id": "LBm67e4wj8PS"
      },
      "source": [
        "RNN weights are updated every 32 stock prices with a batch size of 32."
      ]
    },
    {
      "cell_type": "code",
      "metadata": {
        "id": "mM62u5Ncd6Wv"
      },
      "source": [
        "# history = modelLSTM.fit(X_train, y_train, epochs=10, batch_size=32, callbacks=callbacks)"
      ],
      "execution_count": 76,
      "outputs": []
    },
    {
      "cell_type": "code",
      "metadata": {
        "colab": {
          "base_uri": "https://localhost:8080/"
        },
        "id": "bx5ZO_QVxKE9",
        "outputId": "cad74c79-59b8-4633-801e-b0ba363be3aa"
      },
      "source": [
        "# download pre-trained weight\n",
        "!wget https://storage.googleapis.com/kao-weights/my_best_modelLSTM.hdf5"
      ],
      "execution_count": 77,
      "outputs": [
        {
          "output_type": "stream",
          "name": "stdout",
          "text": [
            "--2022-02-11 01:35:56--  https://storage.googleapis.com/kao-weights/my_best_modelLSTM.hdf5\n",
            "Resolving storage.googleapis.com (storage.googleapis.com)... 108.177.125.128, 142.250.157.128, 142.251.8.128, ...\n",
            "Connecting to storage.googleapis.com (storage.googleapis.com)|108.177.125.128|:443... connected.\n",
            "HTTP request sent, awaiting response... 200 OK\n",
            "Length: 2309856 (2.2M) [application/octet-stream]\n",
            "Saving to: ‘my_best_modelLSTM.hdf5.1’\n",
            "\n",
            "\rmy_best_modelLSTM.h   0%[                    ]       0  --.-KB/s               \rmy_best_modelLSTM.h 100%[===================>]   2.20M  --.-KB/s    in 0.07s   \n",
            "\n",
            "2022-02-11 01:35:57 (32.0 MB/s) - ‘my_best_modelLSTM.hdf5.1’ saved [2309856/2309856]\n",
            "\n"
          ]
        }
      ]
    },
    {
      "cell_type": "code",
      "metadata": {
        "id": "3UuIYY6Nxb_-"
      },
      "source": [
        "history= modelLSTM.load_weights('my_best_modelLSTM.hdf5')"
      ],
      "execution_count": 78,
      "outputs": []
    },
    {
      "cell_type": "markdown",
      "metadata": {
        "id": "L72hkQl5d-8Q"
      },
      "source": [
        "# Testing"
      ]
    },
    {
      "cell_type": "code",
      "metadata": {
        "id": "lW-wyZdr_lPa"
      },
      "source": [
        "data = pd.read_csv('GOOG.csv', date_parser = True)\n",
        "data_training = data[data['Date']<'2019-01-01'].copy()\n",
        "data_test = data[data['Date']>='2019-01-01'].copy()"
      ],
      "execution_count": 79,
      "outputs": []
    },
    {
      "cell_type": "code",
      "metadata": {
        "colab": {
          "base_uri": "https://localhost:8080/",
          "height": 206
        },
        "id": "Sb-SV-wReAJL",
        "outputId": "1edadcf7-823e-4504-f25e-279b4ecab991"
      },
      "source": [
        "data_test.head()"
      ],
      "execution_count": 80,
      "outputs": [
        {
          "output_type": "execute_result",
          "data": {
            "text/html": [
              "\n",
              "  <div id=\"df-6a2979df-09eb-4605-8377-913b3089ccfa\">\n",
              "    <div class=\"colab-df-container\">\n",
              "      <div>\n",
              "<style scoped>\n",
              "    .dataframe tbody tr th:only-of-type {\n",
              "        vertical-align: middle;\n",
              "    }\n",
              "\n",
              "    .dataframe tbody tr th {\n",
              "        vertical-align: top;\n",
              "    }\n",
              "\n",
              "    .dataframe thead th {\n",
              "        text-align: right;\n",
              "    }\n",
              "</style>\n",
              "<table border=\"1\" class=\"dataframe\">\n",
              "  <thead>\n",
              "    <tr style=\"text-align: right;\">\n",
              "      <th></th>\n",
              "      <th>Date</th>\n",
              "      <th>Open</th>\n",
              "      <th>High</th>\n",
              "      <th>Low</th>\n",
              "      <th>Close</th>\n",
              "      <th>Adj Close</th>\n",
              "      <th>Volume</th>\n",
              "    </tr>\n",
              "  </thead>\n",
              "  <tbody>\n",
              "    <tr>\n",
              "      <th>3617</th>\n",
              "      <td>2019-01-02</td>\n",
              "      <td>1016.570007</td>\n",
              "      <td>1052.319946</td>\n",
              "      <td>1015.710022</td>\n",
              "      <td>1045.849976</td>\n",
              "      <td>1045.849976</td>\n",
              "      <td>1532600</td>\n",
              "    </tr>\n",
              "    <tr>\n",
              "      <th>3618</th>\n",
              "      <td>2019-01-03</td>\n",
              "      <td>1041.000000</td>\n",
              "      <td>1056.979980</td>\n",
              "      <td>1014.070007</td>\n",
              "      <td>1016.059998</td>\n",
              "      <td>1016.059998</td>\n",
              "      <td>1841100</td>\n",
              "    </tr>\n",
              "    <tr>\n",
              "      <th>3619</th>\n",
              "      <td>2019-01-04</td>\n",
              "      <td>1032.589966</td>\n",
              "      <td>1070.839966</td>\n",
              "      <td>1027.417969</td>\n",
              "      <td>1070.709961</td>\n",
              "      <td>1070.709961</td>\n",
              "      <td>2093900</td>\n",
              "    </tr>\n",
              "    <tr>\n",
              "      <th>3620</th>\n",
              "      <td>2019-01-07</td>\n",
              "      <td>1071.500000</td>\n",
              "      <td>1074.000000</td>\n",
              "      <td>1054.760010</td>\n",
              "      <td>1068.390015</td>\n",
              "      <td>1068.390015</td>\n",
              "      <td>1981900</td>\n",
              "    </tr>\n",
              "    <tr>\n",
              "      <th>3621</th>\n",
              "      <td>2019-01-08</td>\n",
              "      <td>1076.109985</td>\n",
              "      <td>1084.560059</td>\n",
              "      <td>1060.530029</td>\n",
              "      <td>1076.280029</td>\n",
              "      <td>1076.280029</td>\n",
              "      <td>1764900</td>\n",
              "    </tr>\n",
              "  </tbody>\n",
              "</table>\n",
              "</div>\n",
              "      <button class=\"colab-df-convert\" onclick=\"convertToInteractive('df-6a2979df-09eb-4605-8377-913b3089ccfa')\"\n",
              "              title=\"Convert this dataframe to an interactive table.\"\n",
              "              style=\"display:none;\">\n",
              "        \n",
              "  <svg xmlns=\"http://www.w3.org/2000/svg\" height=\"24px\"viewBox=\"0 0 24 24\"\n",
              "       width=\"24px\">\n",
              "    <path d=\"M0 0h24v24H0V0z\" fill=\"none\"/>\n",
              "    <path d=\"M18.56 5.44l.94 2.06.94-2.06 2.06-.94-2.06-.94-.94-2.06-.94 2.06-2.06.94zm-11 1L8.5 8.5l.94-2.06 2.06-.94-2.06-.94L8.5 2.5l-.94 2.06-2.06.94zm10 10l.94 2.06.94-2.06 2.06-.94-2.06-.94-.94-2.06-.94 2.06-2.06.94z\"/><path d=\"M17.41 7.96l-1.37-1.37c-.4-.4-.92-.59-1.43-.59-.52 0-1.04.2-1.43.59L10.3 9.45l-7.72 7.72c-.78.78-.78 2.05 0 2.83L4 21.41c.39.39.9.59 1.41.59.51 0 1.02-.2 1.41-.59l7.78-7.78 2.81-2.81c.8-.78.8-2.07 0-2.86zM5.41 20L4 18.59l7.72-7.72 1.47 1.35L5.41 20z\"/>\n",
              "  </svg>\n",
              "      </button>\n",
              "      \n",
              "  <style>\n",
              "    .colab-df-container {\n",
              "      display:flex;\n",
              "      flex-wrap:wrap;\n",
              "      gap: 12px;\n",
              "    }\n",
              "\n",
              "    .colab-df-convert {\n",
              "      background-color: #E8F0FE;\n",
              "      border: none;\n",
              "      border-radius: 50%;\n",
              "      cursor: pointer;\n",
              "      display: none;\n",
              "      fill: #1967D2;\n",
              "      height: 32px;\n",
              "      padding: 0 0 0 0;\n",
              "      width: 32px;\n",
              "    }\n",
              "\n",
              "    .colab-df-convert:hover {\n",
              "      background-color: #E2EBFA;\n",
              "      box-shadow: 0px 1px 2px rgba(60, 64, 67, 0.3), 0px 1px 3px 1px rgba(60, 64, 67, 0.15);\n",
              "      fill: #174EA6;\n",
              "    }\n",
              "\n",
              "    [theme=dark] .colab-df-convert {\n",
              "      background-color: #3B4455;\n",
              "      fill: #D2E3FC;\n",
              "    }\n",
              "\n",
              "    [theme=dark] .colab-df-convert:hover {\n",
              "      background-color: #434B5C;\n",
              "      box-shadow: 0px 1px 3px 1px rgba(0, 0, 0, 0.15);\n",
              "      filter: drop-shadow(0px 1px 2px rgba(0, 0, 0, 0.3));\n",
              "      fill: #FFFFFF;\n",
              "    }\n",
              "  </style>\n",
              "\n",
              "      <script>\n",
              "        const buttonEl =\n",
              "          document.querySelector('#df-6a2979df-09eb-4605-8377-913b3089ccfa button.colab-df-convert');\n",
              "        buttonEl.style.display =\n",
              "          google.colab.kernel.accessAllowed ? 'block' : 'none';\n",
              "\n",
              "        async function convertToInteractive(key) {\n",
              "          const element = document.querySelector('#df-6a2979df-09eb-4605-8377-913b3089ccfa');\n",
              "          const dataTable =\n",
              "            await google.colab.kernel.invokeFunction('convertToInteractive',\n",
              "                                                     [key], {});\n",
              "          if (!dataTable) return;\n",
              "\n",
              "          const docLinkHtml = 'Like what you see? Visit the ' +\n",
              "            '<a target=\"_blank\" href=https://colab.research.google.com/notebooks/data_table.ipynb>data table notebook</a>'\n",
              "            + ' to learn more about interactive tables.';\n",
              "          element.innerHTML = '';\n",
              "          dataTable['output_type'] = 'display_data';\n",
              "          await google.colab.output.renderOutput(dataTable, element);\n",
              "          const docLink = document.createElement('div');\n",
              "          docLink.innerHTML = docLinkHtml;\n",
              "          element.appendChild(docLink);\n",
              "        }\n",
              "      </script>\n",
              "    </div>\n",
              "  </div>\n",
              "  "
            ],
            "text/plain": [
              "            Date         Open         High  ...        Close    Adj Close   Volume\n",
              "3617  2019-01-02  1016.570007  1052.319946  ...  1045.849976  1045.849976  1532600\n",
              "3618  2019-01-03  1041.000000  1056.979980  ...  1016.059998  1016.059998  1841100\n",
              "3619  2019-01-04  1032.589966  1070.839966  ...  1070.709961  1070.709961  2093900\n",
              "3620  2019-01-07  1071.500000  1074.000000  ...  1068.390015  1068.390015  1981900\n",
              "3621  2019-01-08  1076.109985  1084.560059  ...  1076.280029  1076.280029  1764900\n",
              "\n",
              "[5 rows x 7 columns]"
            ]
          },
          "metadata": {},
          "execution_count": 80
        }
      ]
    },
    {
      "cell_type": "code",
      "metadata": {
        "colab": {
          "base_uri": "https://localhost:8080/",
          "height": 1000
        },
        "id": "_SWKufepeBXz",
        "outputId": "f25ceb74-7eba-496b-fac7-66f859db1384"
      },
      "source": [
        "data_training.tail(60)"
      ],
      "execution_count": 81,
      "outputs": [
        {
          "output_type": "execute_result",
          "data": {
            "text/html": [
              "\n",
              "  <div id=\"df-c6df3da6-06db-4f00-ac33-ae2f4cea8c61\">\n",
              "    <div class=\"colab-df-container\">\n",
              "      <div>\n",
              "<style scoped>\n",
              "    .dataframe tbody tr th:only-of-type {\n",
              "        vertical-align: middle;\n",
              "    }\n",
              "\n",
              "    .dataframe tbody tr th {\n",
              "        vertical-align: top;\n",
              "    }\n",
              "\n",
              "    .dataframe thead th {\n",
              "        text-align: right;\n",
              "    }\n",
              "</style>\n",
              "<table border=\"1\" class=\"dataframe\">\n",
              "  <thead>\n",
              "    <tr style=\"text-align: right;\">\n",
              "      <th></th>\n",
              "      <th>Date</th>\n",
              "      <th>Open</th>\n",
              "      <th>High</th>\n",
              "      <th>Low</th>\n",
              "      <th>Close</th>\n",
              "      <th>Adj Close</th>\n",
              "      <th>Volume</th>\n",
              "    </tr>\n",
              "  </thead>\n",
              "  <tbody>\n",
              "    <tr>\n",
              "      <th>3557</th>\n",
              "      <td>2018-10-04</td>\n",
              "      <td>1195.329956</td>\n",
              "      <td>1197.510010</td>\n",
              "      <td>1155.576050</td>\n",
              "      <td>1168.189941</td>\n",
              "      <td>1168.189941</td>\n",
              "      <td>2209500</td>\n",
              "    </tr>\n",
              "    <tr>\n",
              "      <th>3558</th>\n",
              "      <td>2018-10-05</td>\n",
              "      <td>1167.500000</td>\n",
              "      <td>1173.500000</td>\n",
              "      <td>1145.119995</td>\n",
              "      <td>1157.349976</td>\n",
              "      <td>1157.349976</td>\n",
              "      <td>1184300</td>\n",
              "    </tr>\n",
              "    <tr>\n",
              "      <th>3559</th>\n",
              "      <td>2018-10-08</td>\n",
              "      <td>1150.109985</td>\n",
              "      <td>1168.000000</td>\n",
              "      <td>1127.364014</td>\n",
              "      <td>1148.969971</td>\n",
              "      <td>1148.969971</td>\n",
              "      <td>1932400</td>\n",
              "    </tr>\n",
              "    <tr>\n",
              "      <th>3560</th>\n",
              "      <td>2018-10-09</td>\n",
              "      <td>1146.150024</td>\n",
              "      <td>1154.349976</td>\n",
              "      <td>1137.572021</td>\n",
              "      <td>1138.819946</td>\n",
              "      <td>1138.819946</td>\n",
              "      <td>1308700</td>\n",
              "    </tr>\n",
              "    <tr>\n",
              "      <th>3561</th>\n",
              "      <td>2018-10-10</td>\n",
              "      <td>1131.079956</td>\n",
              "      <td>1132.170044</td>\n",
              "      <td>1081.130005</td>\n",
              "      <td>1081.219971</td>\n",
              "      <td>1081.219971</td>\n",
              "      <td>2675700</td>\n",
              "    </tr>\n",
              "    <tr>\n",
              "      <th>3562</th>\n",
              "      <td>2018-10-11</td>\n",
              "      <td>1072.939941</td>\n",
              "      <td>1106.400024</td>\n",
              "      <td>1068.270020</td>\n",
              "      <td>1079.319946</td>\n",
              "      <td>1079.319946</td>\n",
              "      <td>2949000</td>\n",
              "    </tr>\n",
              "    <tr>\n",
              "      <th>3563</th>\n",
              "      <td>2018-10-12</td>\n",
              "      <td>1108.000000</td>\n",
              "      <td>1115.000000</td>\n",
              "      <td>1086.401978</td>\n",
              "      <td>1110.079956</td>\n",
              "      <td>1110.079956</td>\n",
              "      <td>2101300</td>\n",
              "    </tr>\n",
              "    <tr>\n",
              "      <th>3564</th>\n",
              "      <td>2018-10-15</td>\n",
              "      <td>1108.910034</td>\n",
              "      <td>1113.446045</td>\n",
              "      <td>1089.000000</td>\n",
              "      <td>1092.250000</td>\n",
              "      <td>1092.250000</td>\n",
              "      <td>1372400</td>\n",
              "    </tr>\n",
              "    <tr>\n",
              "      <th>3565</th>\n",
              "      <td>2018-10-16</td>\n",
              "      <td>1104.589966</td>\n",
              "      <td>1124.219971</td>\n",
              "      <td>1102.500000</td>\n",
              "      <td>1121.280029</td>\n",
              "      <td>1121.280029</td>\n",
              "      <td>1928500</td>\n",
              "    </tr>\n",
              "    <tr>\n",
              "      <th>3566</th>\n",
              "      <td>2018-10-17</td>\n",
              "      <td>1126.459961</td>\n",
              "      <td>1128.989990</td>\n",
              "      <td>1102.189941</td>\n",
              "      <td>1115.689941</td>\n",
              "      <td>1115.689941</td>\n",
              "      <td>1467200</td>\n",
              "    </tr>\n",
              "    <tr>\n",
              "      <th>3567</th>\n",
              "      <td>2018-10-18</td>\n",
              "      <td>1121.839966</td>\n",
              "      <td>1121.839966</td>\n",
              "      <td>1077.089966</td>\n",
              "      <td>1087.969971</td>\n",
              "      <td>1087.969971</td>\n",
              "      <td>2094500</td>\n",
              "    </tr>\n",
              "    <tr>\n",
              "      <th>3568</th>\n",
              "      <td>2018-10-19</td>\n",
              "      <td>1093.369995</td>\n",
              "      <td>1110.359985</td>\n",
              "      <td>1087.750000</td>\n",
              "      <td>1096.459961</td>\n",
              "      <td>1096.459961</td>\n",
              "      <td>1267600</td>\n",
              "    </tr>\n",
              "    <tr>\n",
              "      <th>3569</th>\n",
              "      <td>2018-10-22</td>\n",
              "      <td>1103.060059</td>\n",
              "      <td>1112.229980</td>\n",
              "      <td>1091.000000</td>\n",
              "      <td>1101.160034</td>\n",
              "      <td>1101.160034</td>\n",
              "      <td>1514200</td>\n",
              "    </tr>\n",
              "    <tr>\n",
              "      <th>3570</th>\n",
              "      <td>2018-10-23</td>\n",
              "      <td>1080.890015</td>\n",
              "      <td>1107.890015</td>\n",
              "      <td>1070.000000</td>\n",
              "      <td>1103.689941</td>\n",
              "      <td>1103.689941</td>\n",
              "      <td>1848700</td>\n",
              "    </tr>\n",
              "    <tr>\n",
              "      <th>3571</th>\n",
              "      <td>2018-10-24</td>\n",
              "      <td>1104.250000</td>\n",
              "      <td>1106.119995</td>\n",
              "      <td>1048.739990</td>\n",
              "      <td>1050.709961</td>\n",
              "      <td>1050.709961</td>\n",
              "      <td>1982400</td>\n",
              "    </tr>\n",
              "    <tr>\n",
              "      <th>3572</th>\n",
              "      <td>2018-10-25</td>\n",
              "      <td>1071.790039</td>\n",
              "      <td>1110.979980</td>\n",
              "      <td>1069.550049</td>\n",
              "      <td>1095.569946</td>\n",
              "      <td>1095.569946</td>\n",
              "      <td>2545800</td>\n",
              "    </tr>\n",
              "    <tr>\n",
              "      <th>3573</th>\n",
              "      <td>2018-10-26</td>\n",
              "      <td>1037.030029</td>\n",
              "      <td>1106.530029</td>\n",
              "      <td>1034.089966</td>\n",
              "      <td>1071.469971</td>\n",
              "      <td>1071.469971</td>\n",
              "      <td>4187600</td>\n",
              "    </tr>\n",
              "    <tr>\n",
              "      <th>3574</th>\n",
              "      <td>2018-10-29</td>\n",
              "      <td>1082.469971</td>\n",
              "      <td>1097.040039</td>\n",
              "      <td>995.830017</td>\n",
              "      <td>1020.080017</td>\n",
              "      <td>1020.080017</td>\n",
              "      <td>3880700</td>\n",
              "    </tr>\n",
              "    <tr>\n",
              "      <th>3575</th>\n",
              "      <td>2018-10-30</td>\n",
              "      <td>1008.460022</td>\n",
              "      <td>1037.489990</td>\n",
              "      <td>1000.750000</td>\n",
              "      <td>1036.209961</td>\n",
              "      <td>1036.209961</td>\n",
              "      <td>3212700</td>\n",
              "    </tr>\n",
              "    <tr>\n",
              "      <th>3576</th>\n",
              "      <td>2018-10-31</td>\n",
              "      <td>1059.810059</td>\n",
              "      <td>1091.939941</td>\n",
              "      <td>1057.000000</td>\n",
              "      <td>1076.770020</td>\n",
              "      <td>1076.770020</td>\n",
              "      <td>2529800</td>\n",
              "    </tr>\n",
              "    <tr>\n",
              "      <th>3577</th>\n",
              "      <td>2018-11-01</td>\n",
              "      <td>1075.800049</td>\n",
              "      <td>1083.974976</td>\n",
              "      <td>1062.459961</td>\n",
              "      <td>1070.000000</td>\n",
              "      <td>1070.000000</td>\n",
              "      <td>1482000</td>\n",
              "    </tr>\n",
              "    <tr>\n",
              "      <th>3578</th>\n",
              "      <td>2018-11-02</td>\n",
              "      <td>1073.729980</td>\n",
              "      <td>1082.974976</td>\n",
              "      <td>1054.609985</td>\n",
              "      <td>1057.790039</td>\n",
              "      <td>1057.790039</td>\n",
              "      <td>1839000</td>\n",
              "    </tr>\n",
              "    <tr>\n",
              "      <th>3579</th>\n",
              "      <td>2018-11-05</td>\n",
              "      <td>1055.000000</td>\n",
              "      <td>1058.469971</td>\n",
              "      <td>1021.239990</td>\n",
              "      <td>1040.089966</td>\n",
              "      <td>1040.089966</td>\n",
              "      <td>2441400</td>\n",
              "    </tr>\n",
              "    <tr>\n",
              "      <th>3580</th>\n",
              "      <td>2018-11-06</td>\n",
              "      <td>1039.479980</td>\n",
              "      <td>1064.344971</td>\n",
              "      <td>1038.069946</td>\n",
              "      <td>1055.810059</td>\n",
              "      <td>1055.810059</td>\n",
              "      <td>1233300</td>\n",
              "    </tr>\n",
              "    <tr>\n",
              "      <th>3581</th>\n",
              "      <td>2018-11-07</td>\n",
              "      <td>1069.000000</td>\n",
              "      <td>1095.459961</td>\n",
              "      <td>1065.900024</td>\n",
              "      <td>1093.390015</td>\n",
              "      <td>1093.390015</td>\n",
              "      <td>2058400</td>\n",
              "    </tr>\n",
              "    <tr>\n",
              "      <th>3582</th>\n",
              "      <td>2018-11-08</td>\n",
              "      <td>1091.380005</td>\n",
              "      <td>1093.270020</td>\n",
              "      <td>1072.204956</td>\n",
              "      <td>1082.400024</td>\n",
              "      <td>1082.400024</td>\n",
              "      <td>1488200</td>\n",
              "    </tr>\n",
              "    <tr>\n",
              "      <th>3583</th>\n",
              "      <td>2018-11-09</td>\n",
              "      <td>1073.989990</td>\n",
              "      <td>1075.560059</td>\n",
              "      <td>1053.109985</td>\n",
              "      <td>1066.150024</td>\n",
              "      <td>1066.150024</td>\n",
              "      <td>1343200</td>\n",
              "    </tr>\n",
              "    <tr>\n",
              "      <th>3584</th>\n",
              "      <td>2018-11-12</td>\n",
              "      <td>1061.390015</td>\n",
              "      <td>1062.119995</td>\n",
              "      <td>1031.000000</td>\n",
              "      <td>1038.630005</td>\n",
              "      <td>1038.630005</td>\n",
              "      <td>1471800</td>\n",
              "    </tr>\n",
              "    <tr>\n",
              "      <th>3585</th>\n",
              "      <td>2018-11-13</td>\n",
              "      <td>1043.290039</td>\n",
              "      <td>1056.604980</td>\n",
              "      <td>1031.150024</td>\n",
              "      <td>1036.050049</td>\n",
              "      <td>1036.050049</td>\n",
              "      <td>1513700</td>\n",
              "    </tr>\n",
              "    <tr>\n",
              "      <th>3586</th>\n",
              "      <td>2018-11-14</td>\n",
              "      <td>1050.000000</td>\n",
              "      <td>1054.563965</td>\n",
              "      <td>1031.000000</td>\n",
              "      <td>1043.660034</td>\n",
              "      <td>1043.660034</td>\n",
              "      <td>1565900</td>\n",
              "    </tr>\n",
              "    <tr>\n",
              "      <th>3587</th>\n",
              "      <td>2018-11-15</td>\n",
              "      <td>1044.709961</td>\n",
              "      <td>1071.849976</td>\n",
              "      <td>1031.780029</td>\n",
              "      <td>1064.709961</td>\n",
              "      <td>1064.709961</td>\n",
              "      <td>1836100</td>\n",
              "    </tr>\n",
              "    <tr>\n",
              "      <th>3588</th>\n",
              "      <td>2018-11-16</td>\n",
              "      <td>1059.410034</td>\n",
              "      <td>1067.000000</td>\n",
              "      <td>1048.979980</td>\n",
              "      <td>1061.489990</td>\n",
              "      <td>1061.489990</td>\n",
              "      <td>1658100</td>\n",
              "    </tr>\n",
              "    <tr>\n",
              "      <th>3589</th>\n",
              "      <td>2018-11-19</td>\n",
              "      <td>1057.199951</td>\n",
              "      <td>1060.790039</td>\n",
              "      <td>1016.260010</td>\n",
              "      <td>1020.000000</td>\n",
              "      <td>1020.000000</td>\n",
              "      <td>1858600</td>\n",
              "    </tr>\n",
              "    <tr>\n",
              "      <th>3590</th>\n",
              "      <td>2018-11-20</td>\n",
              "      <td>1000.000000</td>\n",
              "      <td>1031.739990</td>\n",
              "      <td>996.020020</td>\n",
              "      <td>1025.760010</td>\n",
              "      <td>1025.760010</td>\n",
              "      <td>2449100</td>\n",
              "    </tr>\n",
              "    <tr>\n",
              "      <th>3591</th>\n",
              "      <td>2018-11-21</td>\n",
              "      <td>1036.760010</td>\n",
              "      <td>1048.560059</td>\n",
              "      <td>1033.469971</td>\n",
              "      <td>1037.609985</td>\n",
              "      <td>1037.609985</td>\n",
              "      <td>1534300</td>\n",
              "    </tr>\n",
              "    <tr>\n",
              "      <th>3592</th>\n",
              "      <td>2018-11-23</td>\n",
              "      <td>1030.000000</td>\n",
              "      <td>1037.589966</td>\n",
              "      <td>1022.398987</td>\n",
              "      <td>1023.880005</td>\n",
              "      <td>1023.880005</td>\n",
              "      <td>691500</td>\n",
              "    </tr>\n",
              "    <tr>\n",
              "      <th>3593</th>\n",
              "      <td>2018-11-26</td>\n",
              "      <td>1038.349976</td>\n",
              "      <td>1049.310059</td>\n",
              "      <td>1033.910034</td>\n",
              "      <td>1048.619995</td>\n",
              "      <td>1048.619995</td>\n",
              "      <td>1942800</td>\n",
              "    </tr>\n",
              "    <tr>\n",
              "      <th>3594</th>\n",
              "      <td>2018-11-27</td>\n",
              "      <td>1041.000000</td>\n",
              "      <td>1057.579956</td>\n",
              "      <td>1038.489990</td>\n",
              "      <td>1044.410034</td>\n",
              "      <td>1044.410034</td>\n",
              "      <td>1803200</td>\n",
              "    </tr>\n",
              "    <tr>\n",
              "      <th>3595</th>\n",
              "      <td>2018-11-28</td>\n",
              "      <td>1048.760010</td>\n",
              "      <td>1086.839966</td>\n",
              "      <td>1035.760010</td>\n",
              "      <td>1086.229980</td>\n",
              "      <td>1086.229980</td>\n",
              "      <td>2475400</td>\n",
              "    </tr>\n",
              "    <tr>\n",
              "      <th>3596</th>\n",
              "      <td>2018-11-29</td>\n",
              "      <td>1076.079956</td>\n",
              "      <td>1094.244995</td>\n",
              "      <td>1076.000000</td>\n",
              "      <td>1088.300049</td>\n",
              "      <td>1088.300049</td>\n",
              "      <td>1468900</td>\n",
              "    </tr>\n",
              "    <tr>\n",
              "      <th>3597</th>\n",
              "      <td>2018-11-30</td>\n",
              "      <td>1089.069946</td>\n",
              "      <td>1095.569946</td>\n",
              "      <td>1077.880005</td>\n",
              "      <td>1094.430054</td>\n",
              "      <td>1094.430054</td>\n",
              "      <td>2580200</td>\n",
              "    </tr>\n",
              "    <tr>\n",
              "      <th>3598</th>\n",
              "      <td>2018-12-03</td>\n",
              "      <td>1123.140015</td>\n",
              "      <td>1124.650024</td>\n",
              "      <td>1103.665039</td>\n",
              "      <td>1106.430054</td>\n",
              "      <td>1106.430054</td>\n",
              "      <td>1991200</td>\n",
              "    </tr>\n",
              "    <tr>\n",
              "      <th>3599</th>\n",
              "      <td>2018-12-04</td>\n",
              "      <td>1103.119995</td>\n",
              "      <td>1104.420044</td>\n",
              "      <td>1049.979980</td>\n",
              "      <td>1050.819946</td>\n",
              "      <td>1050.819946</td>\n",
              "      <td>2345200</td>\n",
              "    </tr>\n",
              "    <tr>\n",
              "      <th>3600</th>\n",
              "      <td>2018-12-06</td>\n",
              "      <td>1034.260010</td>\n",
              "      <td>1071.199951</td>\n",
              "      <td>1030.770020</td>\n",
              "      <td>1068.729980</td>\n",
              "      <td>1068.729980</td>\n",
              "      <td>2769200</td>\n",
              "    </tr>\n",
              "    <tr>\n",
              "      <th>3601</th>\n",
              "      <td>2018-12-07</td>\n",
              "      <td>1060.010010</td>\n",
              "      <td>1075.260010</td>\n",
              "      <td>1028.500000</td>\n",
              "      <td>1036.579956</td>\n",
              "      <td>1036.579956</td>\n",
              "      <td>2101200</td>\n",
              "    </tr>\n",
              "    <tr>\n",
              "      <th>3602</th>\n",
              "      <td>2018-12-10</td>\n",
              "      <td>1035.050049</td>\n",
              "      <td>1048.449951</td>\n",
              "      <td>1023.289978</td>\n",
              "      <td>1039.550049</td>\n",
              "      <td>1039.550049</td>\n",
              "      <td>1807700</td>\n",
              "    </tr>\n",
              "    <tr>\n",
              "      <th>3603</th>\n",
              "      <td>2018-12-11</td>\n",
              "      <td>1056.489990</td>\n",
              "      <td>1060.599976</td>\n",
              "      <td>1039.839966</td>\n",
              "      <td>1051.750000</td>\n",
              "      <td>1051.750000</td>\n",
              "      <td>1394700</td>\n",
              "    </tr>\n",
              "    <tr>\n",
              "      <th>3604</th>\n",
              "      <td>2018-12-12</td>\n",
              "      <td>1068.000000</td>\n",
              "      <td>1081.650024</td>\n",
              "      <td>1062.790039</td>\n",
              "      <td>1063.680054</td>\n",
              "      <td>1063.680054</td>\n",
              "      <td>1523800</td>\n",
              "    </tr>\n",
              "    <tr>\n",
              "      <th>3605</th>\n",
              "      <td>2018-12-13</td>\n",
              "      <td>1068.069946</td>\n",
              "      <td>1079.760010</td>\n",
              "      <td>1053.930054</td>\n",
              "      <td>1061.900024</td>\n",
              "      <td>1061.900024</td>\n",
              "      <td>1329800</td>\n",
              "    </tr>\n",
              "    <tr>\n",
              "      <th>3606</th>\n",
              "      <td>2018-12-14</td>\n",
              "      <td>1049.979980</td>\n",
              "      <td>1062.599976</td>\n",
              "      <td>1040.790039</td>\n",
              "      <td>1042.099976</td>\n",
              "      <td>1042.099976</td>\n",
              "      <td>1686600</td>\n",
              "    </tr>\n",
              "    <tr>\n",
              "      <th>3607</th>\n",
              "      <td>2018-12-17</td>\n",
              "      <td>1037.510010</td>\n",
              "      <td>1053.150024</td>\n",
              "      <td>1007.900024</td>\n",
              "      <td>1016.530029</td>\n",
              "      <td>1016.530029</td>\n",
              "      <td>2385400</td>\n",
              "    </tr>\n",
              "    <tr>\n",
              "      <th>3608</th>\n",
              "      <td>2018-12-18</td>\n",
              "      <td>1026.089966</td>\n",
              "      <td>1049.479980</td>\n",
              "      <td>1021.440002</td>\n",
              "      <td>1028.709961</td>\n",
              "      <td>1028.709961</td>\n",
              "      <td>2192500</td>\n",
              "    </tr>\n",
              "    <tr>\n",
              "      <th>3609</th>\n",
              "      <td>2018-12-19</td>\n",
              "      <td>1033.989990</td>\n",
              "      <td>1062.000000</td>\n",
              "      <td>1008.049988</td>\n",
              "      <td>1023.010010</td>\n",
              "      <td>1023.010010</td>\n",
              "      <td>2479300</td>\n",
              "    </tr>\n",
              "    <tr>\n",
              "      <th>3610</th>\n",
              "      <td>2018-12-20</td>\n",
              "      <td>1018.130005</td>\n",
              "      <td>1034.219971</td>\n",
              "      <td>996.359985</td>\n",
              "      <td>1009.409973</td>\n",
              "      <td>1009.409973</td>\n",
              "      <td>2673500</td>\n",
              "    </tr>\n",
              "    <tr>\n",
              "      <th>3611</th>\n",
              "      <td>2018-12-21</td>\n",
              "      <td>1015.299988</td>\n",
              "      <td>1024.020020</td>\n",
              "      <td>973.690002</td>\n",
              "      <td>979.539978</td>\n",
              "      <td>979.539978</td>\n",
              "      <td>4596000</td>\n",
              "    </tr>\n",
              "    <tr>\n",
              "      <th>3612</th>\n",
              "      <td>2018-12-24</td>\n",
              "      <td>973.900024</td>\n",
              "      <td>1003.539978</td>\n",
              "      <td>970.109985</td>\n",
              "      <td>976.219971</td>\n",
              "      <td>976.219971</td>\n",
              "      <td>1590300</td>\n",
              "    </tr>\n",
              "    <tr>\n",
              "      <th>3613</th>\n",
              "      <td>2018-12-26</td>\n",
              "      <td>989.010010</td>\n",
              "      <td>1040.000000</td>\n",
              "      <td>983.000000</td>\n",
              "      <td>1039.459961</td>\n",
              "      <td>1039.459961</td>\n",
              "      <td>2373300</td>\n",
              "    </tr>\n",
              "    <tr>\n",
              "      <th>3614</th>\n",
              "      <td>2018-12-27</td>\n",
              "      <td>1017.150024</td>\n",
              "      <td>1043.890015</td>\n",
              "      <td>997.000000</td>\n",
              "      <td>1043.880005</td>\n",
              "      <td>1043.880005</td>\n",
              "      <td>2109800</td>\n",
              "    </tr>\n",
              "    <tr>\n",
              "      <th>3615</th>\n",
              "      <td>2018-12-28</td>\n",
              "      <td>1049.619995</td>\n",
              "      <td>1055.560059</td>\n",
              "      <td>1033.099976</td>\n",
              "      <td>1037.079956</td>\n",
              "      <td>1037.079956</td>\n",
              "      <td>1414800</td>\n",
              "    </tr>\n",
              "    <tr>\n",
              "      <th>3616</th>\n",
              "      <td>2018-12-31</td>\n",
              "      <td>1050.959961</td>\n",
              "      <td>1052.699951</td>\n",
              "      <td>1023.590027</td>\n",
              "      <td>1035.609985</td>\n",
              "      <td>1035.609985</td>\n",
              "      <td>1493300</td>\n",
              "    </tr>\n",
              "  </tbody>\n",
              "</table>\n",
              "</div>\n",
              "      <button class=\"colab-df-convert\" onclick=\"convertToInteractive('df-c6df3da6-06db-4f00-ac33-ae2f4cea8c61')\"\n",
              "              title=\"Convert this dataframe to an interactive table.\"\n",
              "              style=\"display:none;\">\n",
              "        \n",
              "  <svg xmlns=\"http://www.w3.org/2000/svg\" height=\"24px\"viewBox=\"0 0 24 24\"\n",
              "       width=\"24px\">\n",
              "    <path d=\"M0 0h24v24H0V0z\" fill=\"none\"/>\n",
              "    <path d=\"M18.56 5.44l.94 2.06.94-2.06 2.06-.94-2.06-.94-.94-2.06-.94 2.06-2.06.94zm-11 1L8.5 8.5l.94-2.06 2.06-.94-2.06-.94L8.5 2.5l-.94 2.06-2.06.94zm10 10l.94 2.06.94-2.06 2.06-.94-2.06-.94-.94-2.06-.94 2.06-2.06.94z\"/><path d=\"M17.41 7.96l-1.37-1.37c-.4-.4-.92-.59-1.43-.59-.52 0-1.04.2-1.43.59L10.3 9.45l-7.72 7.72c-.78.78-.78 2.05 0 2.83L4 21.41c.39.39.9.59 1.41.59.51 0 1.02-.2 1.41-.59l7.78-7.78 2.81-2.81c.8-.78.8-2.07 0-2.86zM5.41 20L4 18.59l7.72-7.72 1.47 1.35L5.41 20z\"/>\n",
              "  </svg>\n",
              "      </button>\n",
              "      \n",
              "  <style>\n",
              "    .colab-df-container {\n",
              "      display:flex;\n",
              "      flex-wrap:wrap;\n",
              "      gap: 12px;\n",
              "    }\n",
              "\n",
              "    .colab-df-convert {\n",
              "      background-color: #E8F0FE;\n",
              "      border: none;\n",
              "      border-radius: 50%;\n",
              "      cursor: pointer;\n",
              "      display: none;\n",
              "      fill: #1967D2;\n",
              "      height: 32px;\n",
              "      padding: 0 0 0 0;\n",
              "      width: 32px;\n",
              "    }\n",
              "\n",
              "    .colab-df-convert:hover {\n",
              "      background-color: #E2EBFA;\n",
              "      box-shadow: 0px 1px 2px rgba(60, 64, 67, 0.3), 0px 1px 3px 1px rgba(60, 64, 67, 0.15);\n",
              "      fill: #174EA6;\n",
              "    }\n",
              "\n",
              "    [theme=dark] .colab-df-convert {\n",
              "      background-color: #3B4455;\n",
              "      fill: #D2E3FC;\n",
              "    }\n",
              "\n",
              "    [theme=dark] .colab-df-convert:hover {\n",
              "      background-color: #434B5C;\n",
              "      box-shadow: 0px 1px 3px 1px rgba(0, 0, 0, 0.15);\n",
              "      filter: drop-shadow(0px 1px 2px rgba(0, 0, 0, 0.3));\n",
              "      fill: #FFFFFF;\n",
              "    }\n",
              "  </style>\n",
              "\n",
              "      <script>\n",
              "        const buttonEl =\n",
              "          document.querySelector('#df-c6df3da6-06db-4f00-ac33-ae2f4cea8c61 button.colab-df-convert');\n",
              "        buttonEl.style.display =\n",
              "          google.colab.kernel.accessAllowed ? 'block' : 'none';\n",
              "\n",
              "        async function convertToInteractive(key) {\n",
              "          const element = document.querySelector('#df-c6df3da6-06db-4f00-ac33-ae2f4cea8c61');\n",
              "          const dataTable =\n",
              "            await google.colab.kernel.invokeFunction('convertToInteractive',\n",
              "                                                     [key], {});\n",
              "          if (!dataTable) return;\n",
              "\n",
              "          const docLinkHtml = 'Like what you see? Visit the ' +\n",
              "            '<a target=\"_blank\" href=https://colab.research.google.com/notebooks/data_table.ipynb>data table notebook</a>'\n",
              "            + ' to learn more about interactive tables.';\n",
              "          element.innerHTML = '';\n",
              "          dataTable['output_type'] = 'display_data';\n",
              "          await google.colab.output.renderOutput(dataTable, element);\n",
              "          const docLink = document.createElement('div');\n",
              "          docLink.innerHTML = docLinkHtml;\n",
              "          element.appendChild(docLink);\n",
              "        }\n",
              "      </script>\n",
              "    </div>\n",
              "  </div>\n",
              "  "
            ],
            "text/plain": [
              "            Date         Open         High  ...        Close    Adj Close   Volume\n",
              "3557  2018-10-04  1195.329956  1197.510010  ...  1168.189941  1168.189941  2209500\n",
              "3558  2018-10-05  1167.500000  1173.500000  ...  1157.349976  1157.349976  1184300\n",
              "3559  2018-10-08  1150.109985  1168.000000  ...  1148.969971  1148.969971  1932400\n",
              "3560  2018-10-09  1146.150024  1154.349976  ...  1138.819946  1138.819946  1308700\n",
              "3561  2018-10-10  1131.079956  1132.170044  ...  1081.219971  1081.219971  2675700\n",
              "3562  2018-10-11  1072.939941  1106.400024  ...  1079.319946  1079.319946  2949000\n",
              "3563  2018-10-12  1108.000000  1115.000000  ...  1110.079956  1110.079956  2101300\n",
              "3564  2018-10-15  1108.910034  1113.446045  ...  1092.250000  1092.250000  1372400\n",
              "3565  2018-10-16  1104.589966  1124.219971  ...  1121.280029  1121.280029  1928500\n",
              "3566  2018-10-17  1126.459961  1128.989990  ...  1115.689941  1115.689941  1467200\n",
              "3567  2018-10-18  1121.839966  1121.839966  ...  1087.969971  1087.969971  2094500\n",
              "3568  2018-10-19  1093.369995  1110.359985  ...  1096.459961  1096.459961  1267600\n",
              "3569  2018-10-22  1103.060059  1112.229980  ...  1101.160034  1101.160034  1514200\n",
              "3570  2018-10-23  1080.890015  1107.890015  ...  1103.689941  1103.689941  1848700\n",
              "3571  2018-10-24  1104.250000  1106.119995  ...  1050.709961  1050.709961  1982400\n",
              "3572  2018-10-25  1071.790039  1110.979980  ...  1095.569946  1095.569946  2545800\n",
              "3573  2018-10-26  1037.030029  1106.530029  ...  1071.469971  1071.469971  4187600\n",
              "3574  2018-10-29  1082.469971  1097.040039  ...  1020.080017  1020.080017  3880700\n",
              "3575  2018-10-30  1008.460022  1037.489990  ...  1036.209961  1036.209961  3212700\n",
              "3576  2018-10-31  1059.810059  1091.939941  ...  1076.770020  1076.770020  2529800\n",
              "3577  2018-11-01  1075.800049  1083.974976  ...  1070.000000  1070.000000  1482000\n",
              "3578  2018-11-02  1073.729980  1082.974976  ...  1057.790039  1057.790039  1839000\n",
              "3579  2018-11-05  1055.000000  1058.469971  ...  1040.089966  1040.089966  2441400\n",
              "3580  2018-11-06  1039.479980  1064.344971  ...  1055.810059  1055.810059  1233300\n",
              "3581  2018-11-07  1069.000000  1095.459961  ...  1093.390015  1093.390015  2058400\n",
              "3582  2018-11-08  1091.380005  1093.270020  ...  1082.400024  1082.400024  1488200\n",
              "3583  2018-11-09  1073.989990  1075.560059  ...  1066.150024  1066.150024  1343200\n",
              "3584  2018-11-12  1061.390015  1062.119995  ...  1038.630005  1038.630005  1471800\n",
              "3585  2018-11-13  1043.290039  1056.604980  ...  1036.050049  1036.050049  1513700\n",
              "3586  2018-11-14  1050.000000  1054.563965  ...  1043.660034  1043.660034  1565900\n",
              "3587  2018-11-15  1044.709961  1071.849976  ...  1064.709961  1064.709961  1836100\n",
              "3588  2018-11-16  1059.410034  1067.000000  ...  1061.489990  1061.489990  1658100\n",
              "3589  2018-11-19  1057.199951  1060.790039  ...  1020.000000  1020.000000  1858600\n",
              "3590  2018-11-20  1000.000000  1031.739990  ...  1025.760010  1025.760010  2449100\n",
              "3591  2018-11-21  1036.760010  1048.560059  ...  1037.609985  1037.609985  1534300\n",
              "3592  2018-11-23  1030.000000  1037.589966  ...  1023.880005  1023.880005   691500\n",
              "3593  2018-11-26  1038.349976  1049.310059  ...  1048.619995  1048.619995  1942800\n",
              "3594  2018-11-27  1041.000000  1057.579956  ...  1044.410034  1044.410034  1803200\n",
              "3595  2018-11-28  1048.760010  1086.839966  ...  1086.229980  1086.229980  2475400\n",
              "3596  2018-11-29  1076.079956  1094.244995  ...  1088.300049  1088.300049  1468900\n",
              "3597  2018-11-30  1089.069946  1095.569946  ...  1094.430054  1094.430054  2580200\n",
              "3598  2018-12-03  1123.140015  1124.650024  ...  1106.430054  1106.430054  1991200\n",
              "3599  2018-12-04  1103.119995  1104.420044  ...  1050.819946  1050.819946  2345200\n",
              "3600  2018-12-06  1034.260010  1071.199951  ...  1068.729980  1068.729980  2769200\n",
              "3601  2018-12-07  1060.010010  1075.260010  ...  1036.579956  1036.579956  2101200\n",
              "3602  2018-12-10  1035.050049  1048.449951  ...  1039.550049  1039.550049  1807700\n",
              "3603  2018-12-11  1056.489990  1060.599976  ...  1051.750000  1051.750000  1394700\n",
              "3604  2018-12-12  1068.000000  1081.650024  ...  1063.680054  1063.680054  1523800\n",
              "3605  2018-12-13  1068.069946  1079.760010  ...  1061.900024  1061.900024  1329800\n",
              "3606  2018-12-14  1049.979980  1062.599976  ...  1042.099976  1042.099976  1686600\n",
              "3607  2018-12-17  1037.510010  1053.150024  ...  1016.530029  1016.530029  2385400\n",
              "3608  2018-12-18  1026.089966  1049.479980  ...  1028.709961  1028.709961  2192500\n",
              "3609  2018-12-19  1033.989990  1062.000000  ...  1023.010010  1023.010010  2479300\n",
              "3610  2018-12-20  1018.130005  1034.219971  ...  1009.409973  1009.409973  2673500\n",
              "3611  2018-12-21  1015.299988  1024.020020  ...   979.539978   979.539978  4596000\n",
              "3612  2018-12-24   973.900024  1003.539978  ...   976.219971   976.219971  1590300\n",
              "3613  2018-12-26   989.010010  1040.000000  ...  1039.459961  1039.459961  2373300\n",
              "3614  2018-12-27  1017.150024  1043.890015  ...  1043.880005  1043.880005  2109800\n",
              "3615  2018-12-28  1049.619995  1055.560059  ...  1037.079956  1037.079956  1414800\n",
              "3616  2018-12-31  1050.959961  1052.699951  ...  1035.609985  1035.609985  1493300\n",
              "\n",
              "[60 rows x 7 columns]"
            ]
          },
          "metadata": {},
          "execution_count": 81
        }
      ]
    },
    {
      "cell_type": "markdown",
      "metadata": {
        "id": "srd1b_HckIVw"
      },
      "source": [
        "## Prepare testing data"
      ]
    },
    {
      "cell_type": "code",
      "metadata": {
        "id": "UpqWwdOaeD1K"
      },
      "source": [
        "past_60_days = data_training.tail(60)"
      ],
      "execution_count": 82,
      "outputs": []
    },
    {
      "cell_type": "code",
      "metadata": {
        "colab": {
          "base_uri": "https://localhost:8080/",
          "height": 206
        },
        "id": "TR2tRta0eEgF",
        "outputId": "35300cdf-61bb-4fe1-ee50-d8149b16f962"
      },
      "source": [
        "df = past_60_days.append(data_test, ignore_index = True)\n",
        "df = df.drop(['Date', 'Adj Close'], axis = 1)\n",
        "df.head()"
      ],
      "execution_count": 83,
      "outputs": [
        {
          "output_type": "execute_result",
          "data": {
            "text/html": [
              "\n",
              "  <div id=\"df-ba67a247-42ba-4ab0-b105-14a6e46fbb28\">\n",
              "    <div class=\"colab-df-container\">\n",
              "      <div>\n",
              "<style scoped>\n",
              "    .dataframe tbody tr th:only-of-type {\n",
              "        vertical-align: middle;\n",
              "    }\n",
              "\n",
              "    .dataframe tbody tr th {\n",
              "        vertical-align: top;\n",
              "    }\n",
              "\n",
              "    .dataframe thead th {\n",
              "        text-align: right;\n",
              "    }\n",
              "</style>\n",
              "<table border=\"1\" class=\"dataframe\">\n",
              "  <thead>\n",
              "    <tr style=\"text-align: right;\">\n",
              "      <th></th>\n",
              "      <th>Open</th>\n",
              "      <th>High</th>\n",
              "      <th>Low</th>\n",
              "      <th>Close</th>\n",
              "      <th>Volume</th>\n",
              "    </tr>\n",
              "  </thead>\n",
              "  <tbody>\n",
              "    <tr>\n",
              "      <th>0</th>\n",
              "      <td>1195.329956</td>\n",
              "      <td>1197.510010</td>\n",
              "      <td>1155.576050</td>\n",
              "      <td>1168.189941</td>\n",
              "      <td>2209500</td>\n",
              "    </tr>\n",
              "    <tr>\n",
              "      <th>1</th>\n",
              "      <td>1167.500000</td>\n",
              "      <td>1173.500000</td>\n",
              "      <td>1145.119995</td>\n",
              "      <td>1157.349976</td>\n",
              "      <td>1184300</td>\n",
              "    </tr>\n",
              "    <tr>\n",
              "      <th>2</th>\n",
              "      <td>1150.109985</td>\n",
              "      <td>1168.000000</td>\n",
              "      <td>1127.364014</td>\n",
              "      <td>1148.969971</td>\n",
              "      <td>1932400</td>\n",
              "    </tr>\n",
              "    <tr>\n",
              "      <th>3</th>\n",
              "      <td>1146.150024</td>\n",
              "      <td>1154.349976</td>\n",
              "      <td>1137.572021</td>\n",
              "      <td>1138.819946</td>\n",
              "      <td>1308700</td>\n",
              "    </tr>\n",
              "    <tr>\n",
              "      <th>4</th>\n",
              "      <td>1131.079956</td>\n",
              "      <td>1132.170044</td>\n",
              "      <td>1081.130005</td>\n",
              "      <td>1081.219971</td>\n",
              "      <td>2675700</td>\n",
              "    </tr>\n",
              "  </tbody>\n",
              "</table>\n",
              "</div>\n",
              "      <button class=\"colab-df-convert\" onclick=\"convertToInteractive('df-ba67a247-42ba-4ab0-b105-14a6e46fbb28')\"\n",
              "              title=\"Convert this dataframe to an interactive table.\"\n",
              "              style=\"display:none;\">\n",
              "        \n",
              "  <svg xmlns=\"http://www.w3.org/2000/svg\" height=\"24px\"viewBox=\"0 0 24 24\"\n",
              "       width=\"24px\">\n",
              "    <path d=\"M0 0h24v24H0V0z\" fill=\"none\"/>\n",
              "    <path d=\"M18.56 5.44l.94 2.06.94-2.06 2.06-.94-2.06-.94-.94-2.06-.94 2.06-2.06.94zm-11 1L8.5 8.5l.94-2.06 2.06-.94-2.06-.94L8.5 2.5l-.94 2.06-2.06.94zm10 10l.94 2.06.94-2.06 2.06-.94-2.06-.94-.94-2.06-.94 2.06-2.06.94z\"/><path d=\"M17.41 7.96l-1.37-1.37c-.4-.4-.92-.59-1.43-.59-.52 0-1.04.2-1.43.59L10.3 9.45l-7.72 7.72c-.78.78-.78 2.05 0 2.83L4 21.41c.39.39.9.59 1.41.59.51 0 1.02-.2 1.41-.59l7.78-7.78 2.81-2.81c.8-.78.8-2.07 0-2.86zM5.41 20L4 18.59l7.72-7.72 1.47 1.35L5.41 20z\"/>\n",
              "  </svg>\n",
              "      </button>\n",
              "      \n",
              "  <style>\n",
              "    .colab-df-container {\n",
              "      display:flex;\n",
              "      flex-wrap:wrap;\n",
              "      gap: 12px;\n",
              "    }\n",
              "\n",
              "    .colab-df-convert {\n",
              "      background-color: #E8F0FE;\n",
              "      border: none;\n",
              "      border-radius: 50%;\n",
              "      cursor: pointer;\n",
              "      display: none;\n",
              "      fill: #1967D2;\n",
              "      height: 32px;\n",
              "      padding: 0 0 0 0;\n",
              "      width: 32px;\n",
              "    }\n",
              "\n",
              "    .colab-df-convert:hover {\n",
              "      background-color: #E2EBFA;\n",
              "      box-shadow: 0px 1px 2px rgba(60, 64, 67, 0.3), 0px 1px 3px 1px rgba(60, 64, 67, 0.15);\n",
              "      fill: #174EA6;\n",
              "    }\n",
              "\n",
              "    [theme=dark] .colab-df-convert {\n",
              "      background-color: #3B4455;\n",
              "      fill: #D2E3FC;\n",
              "    }\n",
              "\n",
              "    [theme=dark] .colab-df-convert:hover {\n",
              "      background-color: #434B5C;\n",
              "      box-shadow: 0px 1px 3px 1px rgba(0, 0, 0, 0.15);\n",
              "      filter: drop-shadow(0px 1px 2px rgba(0, 0, 0, 0.3));\n",
              "      fill: #FFFFFF;\n",
              "    }\n",
              "  </style>\n",
              "\n",
              "      <script>\n",
              "        const buttonEl =\n",
              "          document.querySelector('#df-ba67a247-42ba-4ab0-b105-14a6e46fbb28 button.colab-df-convert');\n",
              "        buttonEl.style.display =\n",
              "          google.colab.kernel.accessAllowed ? 'block' : 'none';\n",
              "\n",
              "        async function convertToInteractive(key) {\n",
              "          const element = document.querySelector('#df-ba67a247-42ba-4ab0-b105-14a6e46fbb28');\n",
              "          const dataTable =\n",
              "            await google.colab.kernel.invokeFunction('convertToInteractive',\n",
              "                                                     [key], {});\n",
              "          if (!dataTable) return;\n",
              "\n",
              "          const docLinkHtml = 'Like what you see? Visit the ' +\n",
              "            '<a target=\"_blank\" href=https://colab.research.google.com/notebooks/data_table.ipynb>data table notebook</a>'\n",
              "            + ' to learn more about interactive tables.';\n",
              "          element.innerHTML = '';\n",
              "          dataTable['output_type'] = 'display_data';\n",
              "          await google.colab.output.renderOutput(dataTable, element);\n",
              "          const docLink = document.createElement('div');\n",
              "          docLink.innerHTML = docLinkHtml;\n",
              "          element.appendChild(docLink);\n",
              "        }\n",
              "      </script>\n",
              "    </div>\n",
              "  </div>\n",
              "  "
            ],
            "text/plain": [
              "          Open         High          Low        Close   Volume\n",
              "0  1195.329956  1197.510010  1155.576050  1168.189941  2209500\n",
              "1  1167.500000  1173.500000  1145.119995  1157.349976  1184300\n",
              "2  1150.109985  1168.000000  1127.364014  1148.969971  1932400\n",
              "3  1146.150024  1154.349976  1137.572021  1138.819946  1308700\n",
              "4  1131.079956  1132.170044  1081.130005  1081.219971  2675700"
            ]
          },
          "metadata": {},
          "execution_count": 83
        }
      ]
    },
    {
      "cell_type": "code",
      "metadata": {
        "colab": {
          "base_uri": "https://localhost:8080/"
        },
        "id": "KKrjHeCMeGWX",
        "outputId": "62f6a901-0412-4202-d353-10e3aa2848bc"
      },
      "source": [
        "inputs = scaler.transform(df)\n",
        "inputs"
      ],
      "execution_count": 84,
      "outputs": [
        {
          "output_type": "execute_result",
          "data": {
            "text/plain": [
              "array([[0.93805611, 0.93755773, 0.92220906, 0.91781776, 0.0266752 ],\n",
              "       [0.91527437, 0.91792904, 0.91350452, 0.90892169, 0.01425359],\n",
              "       [0.90103881, 0.91343268, 0.89872289, 0.90204445, 0.02331778],\n",
              "       ...,\n",
              "       [0.93940683, 0.93712442, 0.93529076, 0.9247443 , 0.01947328],\n",
              "       [0.92550693, 0.93064972, 0.92791493, 0.9339358 , 0.01954719],\n",
              "       [0.93524016, 0.94894575, 0.95017564, 0.95130949, 0.01227612]])"
            ]
          },
          "metadata": {},
          "execution_count": 84
        }
      ]
    },
    {
      "cell_type": "code",
      "metadata": {
        "id": "x3WdrSMFeHlj"
      },
      "source": [
        "X_test = []\n",
        "y_test = []\n",
        "\n",
        "for i in range(60, inputs.shape[0]):\n",
        "    X_test.append(inputs[i-60:i])\n",
        "    y_test.append(inputs[i, 0])"
      ],
      "execution_count": 85,
      "outputs": []
    },
    {
      "cell_type": "code",
      "metadata": {
        "colab": {
          "base_uri": "https://localhost:8080/"
        },
        "id": "1-l8uJ6beJN-",
        "outputId": "0b2088c9-c88b-448c-9729-15e0cf533591"
      },
      "source": [
        "X_test, y_test = np.array(X_test), np.array(y_test)\n",
        "X_test.shape, y_test.shape"
      ],
      "execution_count": 86,
      "outputs": [
        {
          "output_type": "execute_result",
          "data": {
            "text/plain": [
              "((192, 60, 5), (192,))"
            ]
          },
          "metadata": {},
          "execution_count": 86
        }
      ]
    },
    {
      "cell_type": "markdown",
      "metadata": {
        "id": "ygbCO5D8kMzd"
      },
      "source": [
        "## Model prediction"
      ]
    },
    {
      "cell_type": "code",
      "metadata": {
        "id": "OAbQp-tPeKvP"
      },
      "source": [
        "y_pred = modelLSTM.predict(X_test)"
      ],
      "execution_count": 87,
      "outputs": []
    },
    {
      "cell_type": "markdown",
      "metadata": {
        "id": "51T0d9ErkUwk"
      },
      "source": [
        "Don’t forget, what we have predicted is the scaled values, so we need to reverse the prediction."
      ]
    },
    {
      "cell_type": "code",
      "metadata": {
        "colab": {
          "base_uri": "https://localhost:8080/"
        },
        "id": "mW1siKnzgP5K",
        "outputId": "2246d63e-4454-4537-cf0e-ecdf5d46f703"
      },
      "source": [
        "scaler.scale_"
      ],
      "execution_count": 88,
      "outputs": [
        {
          "output_type": "execute_result",
          "data": {
            "text/plain": [
              "array([8.18605127e-04, 8.17521128e-04, 8.32487534e-04, 8.20673293e-04,\n",
              "       1.21162775e-08])"
            ]
          },
          "metadata": {},
          "execution_count": 88
        }
      ]
    },
    {
      "cell_type": "code",
      "metadata": {
        "colab": {
          "base_uri": "https://localhost:8080/"
        },
        "id": "VO8T2VYEeO7q",
        "outputId": "99a16177-5ae8-4302-ca56-6ec9533dcf82"
      },
      "source": [
        "scale = 1/scaler.scale_[0]\n",
        "scale"
      ],
      "execution_count": 89,
      "outputs": [
        {
          "output_type": "execute_result",
          "data": {
            "text/plain": [
              "1221.590199"
            ]
          },
          "metadata": {},
          "execution_count": 89
        }
      ]
    },
    {
      "cell_type": "code",
      "metadata": {
        "id": "6J1AmHFNeP6Z"
      },
      "source": [
        "y_pred = y_pred*scale\n",
        "y_test = y_test*scale"
      ],
      "execution_count": 90,
      "outputs": []
    },
    {
      "cell_type": "code",
      "metadata": {
        "colab": {
          "base_uri": "https://localhost:8080/"
        },
        "id": "NsN4tns4A0lG",
        "outputId": "8a66c34f-e4d5-42ab-f763-5e52f712a181"
      },
      "source": [
        "import math\n",
        "from sklearn.metrics import mean_squared_error\n",
        "\n",
        "def MAPE(Y_actual,Y_Predicted):\n",
        "    mape = np.mean(np.abs((Y_actual - Y_Predicted)/Y_actual))*100\n",
        "    return mape\n",
        "\n",
        "print( 'MPAE =', MAPE(y_test, y_pred) )\n",
        "print( 'RMSE =', math.sqrt(mean_squared_error(y_test, y_pred)) )"
      ],
      "execution_count": 91,
      "outputs": [
        {
          "output_type": "stream",
          "name": "stdout",
          "text": [
            "MPAE = 8.825133086067998\n",
            "RMSE = 100.33976076346941\n"
          ]
        }
      ]
    },
    {
      "cell_type": "code",
      "metadata": {
        "colab": {
          "base_uri": "https://localhost:8080/",
          "height": 350
        },
        "id": "KkwVJXVaeR4e",
        "outputId": "9f5aecb0-5fc5-4360-a79e-a7efbbfdcaeb"
      },
      "source": [
        "# Visualising the results\n",
        "plt.figure(figsize=(14,5))\n",
        "plt.plot(y_test, color = 'red', label = 'Real Google Stock Price')\n",
        "plt.plot(y_pred, color = 'blue', label = 'Predicted Google Stock Price')\n",
        "plt.title('Google Stock Price Prediction Using LSTM')\n",
        "plt.xlabel('Time')\n",
        "plt.ylabel('Google Stock Price')\n",
        "plt.legend()\n",
        "plt.show()"
      ],
      "execution_count": 92,
      "outputs": [
        {
          "output_type": "display_data",
          "data": {
            "image/png": "[encoded data removed]",
            "text/plain": [
              "<Figure size 1008x360 with 1 Axes>"
            ]
          },
          "metadata": {
            "needs_background": "light"
          }
        }
      ]
    },
    {
      "cell_type": "markdown",
      "metadata": {
        "id": "YYSD0wUyebIv"
      },
      "source": [
        "# Building Model2: GRU"
      ]
    },
    {
      "cell_type": "code",
      "metadata": {
        "id": "uzNhjZkNeW23"
      },
      "source": [
        "from tensorflow.keras import Sequential\n",
        "from tensorflow.keras.layers import Dense, GRU, Dropout"
      ],
      "execution_count": 93,
      "outputs": []
    },
    {
      "cell_type": "code",
      "metadata": {
        "colab": {
          "base_uri": "https://localhost:8080/"
        },
        "id": "3F0DC2CSef8x",
        "outputId": "f9c57cec-4b66-4e22-8cf6-112060637af4"
      },
      "source": [
        "# The GRU architecture\n",
        "modelGRU = Sequential()\n",
        "\n",
        "modelGRU.add(GRU(units = 50, activation = 'relu', return_sequences = True, input_shape=(X_train.shape[1],5)))\n",
        "modelGRU.add(Dropout(0.2))\n",
        "\n",
        "modelGRU.add(GRU(units=50, return_sequences=True))\n",
        "modelGRU.add(Dropout(0.2))\n",
        "\n",
        "modelGRU.add(GRU(units=50, return_sequences=True))\n",
        "modelGRU.add(Dropout(0.2))\n",
        "\n",
        "modelGRU.add(GRU(units=50))\n",
        "modelGRU.add(Dropout(0.2))\n",
        "\n",
        "modelGRU.add(Dense(units=1))"
      ],
      "execution_count": 94,
      "outputs": [
        {
          "output_type": "stream",
          "name": "stdout",
          "text": [
            "WARNING:tensorflow:Layer gru_4 will not use cuDNN kernels since it doesn't meet the criteria. It will use a generic GPU kernel as fallback when running on GPU.\n"
          ]
        }
      ]
    },
    {
      "cell_type": "code",
      "metadata": {
        "colab": {
          "base_uri": "https://localhost:8080/"
        },
        "id": "8d_7HOChf71m",
        "outputId": "44e8af7a-bfdb-418d-b8ce-c966890db7f7"
      },
      "source": [
        "modelGRU.summary()"
      ],
      "execution_count": 95,
      "outputs": [
        {
          "output_type": "stream",
          "name": "stdout",
          "text": [
            "Model: \"sequential_3\"\n",
            "_________________________________________________________________\n",
            " Layer (type)                Output Shape              Param #   \n",
            "=================================================================\n",
            " gru_4 (GRU)                 (None, 60, 50)            8550      \n",
            "                                                                 \n",
            " dropout_12 (Dropout)        (None, 60, 50)            0         \n",
            "                                                                 \n",
            " gru_5 (GRU)                 (None, 60, 50)            15300     \n",
            "                                                                 \n",
            " dropout_13 (Dropout)        (None, 60, 50)            0         \n",
            "                                                                 \n",
            " gru_6 (GRU)                 (None, 60, 50)            15300     \n",
            "                                                                 \n",
            " dropout_14 (Dropout)        (None, 60, 50)            0         \n",
            "                                                                 \n",
            " gru_7 (GRU)                 (None, 50)                15300     \n",
            "                                                                 \n",
            " dropout_15 (Dropout)        (None, 50)                0         \n",
            "                                                                 \n",
            " dense_3 (Dense)             (None, 1)                 51        \n",
            "                                                                 \n",
            "=================================================================\n",
            "Total params: 54,501\n",
            "Trainable params: 54,501\n",
            "Non-trainable params: 0\n",
            "_________________________________________________________________\n"
          ]
        }
      ]
    },
    {
      "cell_type": "code",
      "metadata": {
        "id": "UiL6mxzhsyLQ"
      },
      "source": [
        "#create callback\n",
        "filepath = 'my_best_modelGRU.hdf5'\n",
        "checkpoint = ModelCheckpoint(filepath=filepath, \n",
        "                             monitor='loss',\n",
        "                             verbose=0, \n",
        "                             save_best_only=True,\n",
        "                             mode='min')\n",
        "\n",
        "earlystopping = EarlyStopping(\n",
        "    monitor='loss', \n",
        "    patience=3, \n",
        "    min_delta=0, \n",
        "    mode='auto'\n",
        ")\n",
        "\n",
        "reduce_lr = ReduceLROnPlateau(\n",
        "    monitor='loss', \n",
        "    factor=0.2,   \n",
        "    patience=2, \n",
        "    min_lr=0.001,\n",
        "    verbose=0\n",
        ")\n",
        "callbacks = [checkpoint, earlystopping, reduce_lr]"
      ],
      "execution_count": 96,
      "outputs": []
    },
    {
      "cell_type": "code",
      "metadata": {
        "id": "NqP3sPTweptP"
      },
      "source": [
        "modelGRU.compile(optimizer='sgd', loss='mean_squared_error')"
      ],
      "execution_count": 97,
      "outputs": []
    },
    {
      "cell_type": "code",
      "metadata": {
        "id": "Byy-xoGJ_CgP"
      },
      "source": [
        "# modelGRU.fit(X_train, y_train, epochs=10, batch_size=16, callbacks=callbacks)"
      ],
      "execution_count": 98,
      "outputs": []
    },
    {
      "cell_type": "code",
      "metadata": {
        "colab": {
          "base_uri": "https://localhost:8080/"
        },
        "id": "VMNwK01dxpoU",
        "outputId": "c8814ffe-3b00-4827-ab06-88a55b23892a"
      },
      "source": [
        "# download pre-trained weight\n",
        "!wget https://storage.googleapis.com/kao-weights/my_best_modelGRU.hdf5\n",
        "history= modelGRU.load_weights('my_best_modelGRU.hdf5')"
      ],
      "execution_count": 99,
      "outputs": [
        {
          "output_type": "stream",
          "name": "stdout",
          "text": [
            "--2022-02-11 01:35:59--  https://storage.googleapis.com/kao-weights/my_best_modelGRU.hdf5\n",
            "Resolving storage.googleapis.com (storage.googleapis.com)... 108.177.97.128, 108.177.125.128, 142.250.157.128, ...\n",
            "Connecting to storage.googleapis.com (storage.googleapis.com)|108.177.97.128|:443... connected.\n",
            "HTTP request sent, awaiting response... 200 OK\n",
            "Length: 257768 (252K) [application/octet-stream]\n",
            "Saving to: ‘my_best_modelGRU.hdf5.1’\n",
            "\n",
            "\rmy_best_modelGRU.hd   0%[                    ]       0  --.-KB/s               \rmy_best_modelGRU.hd 100%[===================>] 251.73K  --.-KB/s    in 0.002s  \n",
            "\n",
            "2022-02-11 01:35:59 (104 MB/s) - ‘my_best_modelGRU.hdf5.1’ saved [257768/257768]\n",
            "\n"
          ]
        }
      ]
    },
    {
      "cell_type": "code",
      "metadata": {
        "id": "CHOo-uOmgFni"
      },
      "source": [
        "y_pred = modelGRU.predict(X_test)"
      ],
      "execution_count": 100,
      "outputs": []
    },
    {
      "cell_type": "code",
      "metadata": {
        "id": "E-D60yoWliZP"
      },
      "source": [
        "y_pred = y_pred*scale"
      ],
      "execution_count": 101,
      "outputs": []
    },
    {
      "cell_type": "code",
      "metadata": {
        "id": "gmoBJy-k9D6Y",
        "colab": {
          "base_uri": "https://localhost:8080/"
        },
        "outputId": "a120a120-36dc-4b39-fcff-f6f4658719fc"
      },
      "source": [
        "import math\n",
        "from sklearn.metrics import mean_squared_error\n",
        "print( 'MPAE =', MAPE(y_test, y_pred) )\n",
        "print( 'RMSE =', math.sqrt(mean_squared_error(y_test, y_pred)) )"
      ],
      "execution_count": 102,
      "outputs": [
        {
          "output_type": "stream",
          "name": "stdout",
          "text": [
            "MPAE = 5.861238189769883\n",
            "RMSE = 38.516345483389244\n"
          ]
        }
      ]
    },
    {
      "cell_type": "code",
      "metadata": {
        "colab": {
          "base_uri": "https://localhost:8080/",
          "height": 350
        },
        "id": "9ruRS6aXgJDC",
        "outputId": "4c40161d-ad7d-4029-87ce-322c37edf5af"
      },
      "source": [
        "# Visualising the results\n",
        "plt.figure(figsize=(14,5))\n",
        "plt.plot(y_test, color = 'red', label = 'Real Google Stock Price')\n",
        "plt.plot(y_pred, color = 'blue', label = 'Predicted Google Stock Price')\n",
        "plt.title('Google Stock Price Prediction Using GRU')\n",
        "plt.xlabel('Time')\n",
        "plt.ylabel('Google Stock Price')\n",
        "plt.legend()\n",
        "plt.show()"
      ],
      "execution_count": 103,
      "outputs": [
        {
          "output_type": "display_data",
          "data": {
            "image/png": "[encoded data removed]",
            "text/plain": [
              "<Figure size 1008x360 with 1 Axes>"
            ]
          },
          "metadata": {
            "needs_background": "light"
          }
        }
      ]
    },
    {
      "cell_type": "code",
      "metadata": {
        "id": "BKR3J9tlz4ZU"
      },
      "source": [
        ""
      ],
      "execution_count": 103,
      "outputs": []
    }
  ]
}