{
  "cells": [
    {
      "cell_type": "code",
      "execution_count": null,
      "metadata": {
        "id": "PX_jQnZ3ACqA"
      },
      "outputs": [],
      "source": [
        "import pandas as pd\n",
        "import numpy as np\n",
        "#pd.set_option('max_columns', 120)\n",
        "#pd.set_option('max_colwidth', 5000)\n",
        "\n",
        "import matplotlib.pyplot as plt\n",
        "import seaborn as sns\n",
        "%matplotlib inline\n",
        "plt.rcParams['figure.figsize'] = (12,8)"
      ]
    },
    {
      "cell_type": "code",
      "execution_count": null,
      "metadata": {
        "id": "xgY5GxhGACqF"
      },
      "outputs": [],
      "source": [
        "#------------------------------------------------------------------------------\n",
        "# THIS DATA IS NOT CONTINUED FROM THE PREV LAB FOR SIMPLICITY\n",
        "#------------------------------------------------------------------------------\n",
        "\n",
        "filtered_loans = pd.read_csv('https://github.com/kaopanboonyuen/2110446_DataScience_2021s2/raw/main/datasets/filtered_loans_2007_dropTwoVar.csv')\n",
        "#drop_cols = ['last_credit_pull_d','title']\n",
        "#filtered_loans = filtered_loans.drop(drop_cols,axis=1)\n",
        "print(filtered_loans.shape)\n",
        "filtered_loans.head()"
      ]
    },
    {
      "cell_type": "code",
      "execution_count": null,
      "metadata": {
        "id": "CIHLv4YbACqJ"
      },
      "outputs": [],
      "source": [
        "null_counts = filtered_loans.isnull().sum()\n",
        "print(\"Number of null values in each column:\\n{}\".format(null_counts))"
      ]
    },
    {
      "cell_type": "code",
      "execution_count": null,
      "metadata": {
        "id": "zdDjcF4XACqM",
        "scrolled": true
      },
      "outputs": [],
      "source": [
        "filtered_loans"
      ]
    },
    {
      "cell_type": "code",
      "execution_count": null,
      "metadata": {
        "id": "jvSn85PRACqQ"
      },
      "outputs": [],
      "source": [
        "filtered_loans.mean()"
      ]
    },
    {
      "cell_type": "code",
      "execution_count": null,
      "metadata": {
        "id": "HiPe3EWxACqT"
      },
      "outputs": [],
      "source": [
        "filtered_loans.fillna(filtered_loans.mean(), inplace=True)"
      ]
    },
    {
      "cell_type": "code",
      "execution_count": null,
      "metadata": {
        "id": "m2MQO33kACqW"
      },
      "outputs": [],
      "source": [
        "null_counts = filtered_loans.isnull().sum()\n",
        "print(\"Number of null values in each column:\\n{}\".format(null_counts))"
      ]
    },
    {
      "cell_type": "code",
      "execution_count": null,
      "metadata": {
        "id": "iy-zfmV3ACqZ"
      },
      "outputs": [],
      "source": [
        "# Imputation of missing values for categories in pandas using 'mode'\n",
        "filtered_loans_v1 = filtered_loans.copy()\n",
        "\n",
        "# For 'mode', there can be many outputs, so we pic the first one.\n",
        "filtered_loans_v1.fillna(filtered_loans_v1.mode().iloc[0], inplace=True)"
      ]
    },
    {
      "cell_type": "code",
      "execution_count": null,
      "metadata": {
        "id": "EPUv0wSIACqc"
      },
      "outputs": [],
      "source": [
        "null_counts = filtered_loans_v1.isnull().sum()\n",
        "print(\"Number of null values in each column:\\n{}\".format(null_counts))"
      ]
    },
    {
      "cell_type": "markdown",
      "metadata": {
        "id": "673HwTBFjW4D"
      },
      "source": [
        "## SimpleImputer (Alernative Method)\n",
        "\n",
        "Imputation transformer for completing missing values.\n",
        "\n",
        "Credit: https://scikit-learn.org/stable/modules/generated/sklearn.impute.SimpleImputer.html"
      ]
    },
    {
      "cell_type": "code",
      "execution_count": null,
      "metadata": {
        "id": "XlvQ0XpGjW4I"
      },
      "outputs": [],
      "source": [
        "filtered_loans = pd.read_csv('https://github.com/kaopanboonyuen/2110446_DataScience_2021s2/raw/main/datasets/filtered_loans_2007_dropTwoVar.csv')\n",
        "null_counts = filtered_loans.isnull().sum()\n",
        "print(\"Number of null values in each column:\\n{}\".format(null_counts))"
      ]
    },
    {
      "cell_type": "code",
      "source": [
        "# 1) select only numeric columns\n",
        "filtered_loans_num = filtered_loans[['revol_util','pub_rec_bankruptcies']]"
      ],
      "metadata": {
        "id": "JexPIB33mOmp"
      },
      "execution_count": null,
      "outputs": []
    },
    {
      "cell_type": "code",
      "execution_count": null,
      "metadata": {
        "id": "bv7yj6K-jW4J"
      },
      "outputs": [],
      "source": [
        "from sklearn.impute import SimpleImputer\n",
        "\n",
        "num_imp=SimpleImputer(missing_values=np.NaN, strategy='mean')\n",
        "filtered_loans[['revol_util','pub_rec_bankruptcies']]=pd.DataFrame(num_imp.fit_transform(filtered_loans_num))\n",
        "filtered_loans.isnull().sum()"
      ]
    },
    {
      "cell_type": "code",
      "execution_count": null,
      "metadata": {
        "id": "fwp24pc8jW4K"
      },
      "outputs": [],
      "source": [
        "# 2) select only categorical columns\n",
        "filtered_loans_cat = filtered_loans[['emp_length']]"
      ]
    },
    {
      "cell_type": "code",
      "execution_count": null,
      "metadata": {
        "id": "A-XuxfK4jW4M"
      },
      "outputs": [],
      "source": [
        "cat_imp=SimpleImputer(missing_values=np.NaN, strategy='most_frequent')\n",
        "filtered_loans['emp_length']=pd.DataFrame(cat_imp.fit_transform(filtered_loans_cat))\n",
        "filtered_loans.isnull().sum()"
      ]
    },
    {
      "cell_type": "code",
      "source": [
        ""
      ],
      "metadata": {
        "id": "D6sVF7_LpR6H"
      },
      "execution_count": null,
      "outputs": []
    }
  ],
  "metadata": {
    "anaconda-cloud": {},
    "colab": {
      "collapsed_sections": [],
      "name": "Lab2_ImputeMissingValue.ipynb",
      "provenance": [],
      "toc_visible": true
    },
    "kernelspec": {
      "display_name": "Python 3",
      "language": "python",
      "name": "python3"
    },
    "language_info": {
      "codemirror_mode": {
        "name": "ipython",
        "version": 3
      },
      "file_extension": ".py",
      "mimetype": "text/x-python",
      "name": "python",
      "nbconvert_exporter": "python",
      "pygments_lexer": "ipython3",
      "version": "3.8.3"
    },
    "toc": {
      "base_numbering": 1,
      "nav_menu": {},
      "number_sections": true,
      "sideBar": true,
      "skip_h1_title": false,
      "title_cell": "Table of Contents",
      "title_sidebar": "Contents",
      "toc_cell": false,
      "toc_position": {},
      "toc_section_display": true,
      "toc_window_display": false
    }
  },
  "nbformat": 4,
  "nbformat_minor": 0
}