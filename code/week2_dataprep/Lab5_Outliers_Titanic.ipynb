{
  "cells": [
    {
      "cell_type": "code",
      "execution_count": null,
      "metadata": {
        "id": "bKhcA7niFG0b"
      },
      "outputs": [],
      "source": [
        "import pandas as pd\n",
        "import numpy as np\n",
        "\n",
        "import matplotlib.pyplot as plt\n",
        "\n",
        "import numpy as np\n",
        "from scipy.stats import kurtosis, skew\n",
        "\n",
        "%matplotlib inline\n",
        "import seaborn as sns\n",
        "\n",
        "MAX_ROWS = 10\n",
        "pd.set_option('display.max_rows', MAX_ROWS)\n",
        "pd.set_option('display.max_columns', 200)\n",
        "\n",
        "sns.set_style(\"whitegrid\")\n",
        "sns.set_context(\"paper\")"
      ]
    },
    {
      "cell_type": "code",
      "execution_count": null,
      "metadata": {
        "id": "Jl5Pf32fFG0n"
      },
      "outputs": [],
      "source": [
        "df = pd.read_csv('https://github.com/kaopanboonyuen/2110446_DataScience_2021s2/raw/main/datasets/Titanic.csv')\n",
        "\n",
        "# View\n",
        "df"
      ]
    },
    {
      "cell_type": "code",
      "execution_count": null,
      "metadata": {
        "id": "4n91GALUFG0t"
      },
      "outputs": [],
      "source": [
        "i = 'Fare'\n",
        "\n",
        "plt.figure(figsize=(10,8))\n",
        "plt.subplot(211)\n",
        "plt.xlim(df[i].min(), df[i].max()*1.1)\n",
        "\n",
        "ax = df[i].plot(kind='kde')\n",
        "\n",
        "plt.subplot(212)\n",
        "plt.xlim(df[i].min(), df[i].max()*1.1)\n",
        "sns.boxplot(x=df[i])"
      ]
    },
    {
      "cell_type": "code",
      "execution_count": null,
      "metadata": {
        "id": "YupXdb2eFG0z"
      },
      "outputs": [],
      "source": [
        "kurtosis_before_value = kurtosis(df[i])\n",
        "print(\"kurtosis_before_value = \", kurtosis_before_value)\n",
        "skew_before_value = skew(df[i])\n",
        "print(\"skew_before_value = \", skew_before_value)"
      ]
    },
    {
      "cell_type": "code",
      "execution_count": null,
      "metadata": {
        "id": "rKLLvaQ4FG04"
      },
      "outputs": [],
      "source": [
        "# Remove any zeros (otherwise we get (-inf))\n",
        "# Alternative: we can +1 before taking log!!!\n",
        "df.loc[df.Fare == 0, 'Fare'] = np.nan\n",
        "\n",
        "# Drop NA\n",
        "df.dropna(inplace=True)\n",
        "\n",
        "# Log Transform\n",
        "df['Log_' + i] = np.log(df[i])"
      ]
    },
    {
      "cell_type": "code",
      "execution_count": null,
      "metadata": {
        "id": "wfzYpnvCFG0_"
      },
      "outputs": [],
      "source": [
        "i = 'Log_Fare'\n",
        "\n",
        "plt.figure(figsize=(10,8))\n",
        "plt.subplot(211)\n",
        "plt.xlim(df[i].min(), df[i].max()*1.1)\n",
        "\n",
        "ax = df[i].plot(kind='kde')\n",
        "\n",
        "plt.subplot(212)\n",
        "plt.xlim(df[i].min(), df[i].max()*1.1)\n",
        "sns.boxplot(x=df[i])"
      ]
    },
    {
      "cell_type": "code",
      "execution_count": null,
      "metadata": {
        "id": "KjvHTDMkFG1J"
      },
      "outputs": [],
      "source": [
        "print(\"kurtosis_before_value = \", kurtosis_before_value)\n",
        "print(\"skew_before_value = \", skew_before_value)\n",
        "print(\"------\")\n",
        "kurtosis_after_value = kurtosis(df[i])\n",
        "print(\"kurtosis_after_value = \", kurtosis_after_value)\n",
        "skew_after_value = skew(df[i])\n",
        "print(\"skew_after_value = \", skew_after_value)"
      ]
    },
    {
      "cell_type": "code",
      "execution_count": null,
      "metadata": {
        "id": "FtkACwbyFG1T"
      },
      "outputs": [],
      "source": [
        "q75, q25 = np.percentile(df.Log_Fare.dropna(), [75 ,25])\n",
        "iqr = q75 - q25\n",
        "\n",
        "min = q25 - (iqr*1.5)\n",
        "max = q75 + (iqr*1.5)"
      ]
    },
    {
      "cell_type": "code",
      "execution_count": null,
      "metadata": {
        "id": "nubXiAgQFG1Z"
      },
      "outputs": [],
      "source": [
        "i = 'Log_Fare'\n",
        "\n",
        "plt.figure(figsize=(10,8))\n",
        "plt.subplot(211)\n",
        "plt.xlim(df[i].min(), df[i].max()*1.1)\n",
        "plt.axvline(x=min)\n",
        "plt.axvline(x=max)\n",
        "\n",
        "ax = df[i].plot(kind='kde')\n",
        "\n",
        "plt.subplot(212)\n",
        "plt.xlim(df[i].min(), df[i].max()*1.1)\n",
        "sns.boxplot(x=df[i])\n",
        "plt.axvline(x=min)\n",
        "plt.axvline(x=max)"
      ]
    },
    {
      "cell_type": "code",
      "execution_count": null,
      "metadata": {
        "id": "6F-TmzXnFG1f"
      },
      "outputs": [],
      "source": [
        "# create variable 'Outlier'\n",
        "df['Outlier'] = 0\n",
        "\n",
        "df.loc[df[i] < min, 'Outlier'] = 1\n",
        "df.loc[df[i] > max, 'Outlier'] = 1"
      ]
    },
    {
      "cell_type": "code",
      "execution_count": null,
      "metadata": {
        "id": "9cUxcT7iFG1n"
      },
      "outputs": [],
      "source": [
        "print(df.info())"
      ]
    },
    {
      "cell_type": "code",
      "execution_count": null,
      "metadata": {
        "id": "i_mD2c0AFG1t"
      },
      "outputs": [],
      "source": [
        ""
      ]
    }
  ],
  "metadata": {
    "anaconda-cloud": {},
    "colab": {
      "collapsed_sections": [],
      "name": "Lab4_Outliers.ipynb",
      "provenance": []
    },
    "kernelspec": {
      "display_name": "Python 3",
      "language": "python",
      "name": "python3"
    },
    "language_info": {
      "codemirror_mode": {
        "name": "ipython",
        "version": 3
      },
      "file_extension": ".py",
      "mimetype": "text/x-python",
      "name": "python",
      "nbconvert_exporter": "python",
      "pygments_lexer": "ipython3",
      "version": "3.8.3"
    },
    "toc": {
      "base_numbering": 1,
      "nav_menu": {},
      "number_sections": true,
      "sideBar": true,
      "skip_h1_title": false,
      "title_cell": "Table of Contents",
      "title_sidebar": "Contents",
      "toc_cell": false,
      "toc_position": {},
      "toc_section_display": true,
      "toc_window_display": false
    }
  },
  "nbformat": 4,
  "nbformat_minor": 0
}