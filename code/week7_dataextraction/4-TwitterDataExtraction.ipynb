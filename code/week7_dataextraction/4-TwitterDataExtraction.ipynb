{
 "cells": [
  {
   "cell_type": "markdown",
   "metadata": {},
   "source": [
    "# Using Twitter API with Tweepy\n",
    "\n",
    "To interface with Twitter API, we can use third-party package such as Tweepy.\n",
    "To use the package, we will need to register and get keys from twitter developer portal.  Then, we use these keys to authenticate with OAuth2 to access twitter API."
   ]
  },
  {
   "cell_type": "code",
   "execution_count": null,
   "metadata": {},
   "outputs": [],
   "source": [
    "import tweepy\n",
    "import pandas as pd\n",
    "import pytz\n",
    "import yaml, os"
   ]
  },
  {
   "cell_type": "markdown",
   "metadata": {},
   "source": [
    "You can either create a config file 'twitter-config.yml' (in yaml format).  Here is an example of the content in the config file <br>\n",
    "\n",
    "```yaml\n",
    "consumer_key: 'XXXXXXXX'\n",
    "consumer_secret: 'XXXXXXXX'\n",
    "access_token_key: 'XXXXXXXX'\n",
    "access_token_secret: 'XXXXXXXX'\n",
    "```\n",
    "\n",
    "or change the key/token values in the else section below."
   ]
  },
  {
   "cell_type": "code",
   "execution_count": null,
   "metadata": {},
   "outputs": [],
   "source": [
    "config_file = 'twitter-config.yml'\n",
    "if os.path.isfile(config_file):\n",
    "    config = yaml.safe_load(open(config_file))\n",
    "else:\n",
    "    config = {\n",
    "        'consumer_key': 'XXXXXXXX',\n",
    "        'consumer_secret': 'XXXXXXXX',\n",
    "        'access_token_key': 'XXXXXXXX',\n",
    "        'access_token_secret': 'XXXXXXXX'   \n",
    "    }"
   ]
  },
  {
   "cell_type": "code",
   "execution_count": null,
   "metadata": {},
   "outputs": [],
   "source": [
    "auth = tweepy.OAuthHandler(config['consumer_key'], config['consumer_secret'])\n",
    "auth.set_access_token(config['access_token_key'], config['access_token_secret'])\n",
    "api = tweepy.API(auth, wait_on_rate_limit=True)"
   ]
  },
  {
   "cell_type": "markdown",
   "metadata": {},
   "source": [
    "Tweepy provides many features:\n",
    "- searching and listing users' information\n",
    "- reading tweets from user timelines\n",
    "- creating, fetching, retweeing tweets\n",
    "- managing followers\n",
    "- adding and removing likes\n",
    "- blocking users\n",
    "- searching and filtering tweets\n",
    "- listing trends\n",
    "- streaming tweets in real-time"
   ]
  },
  {
   "cell_type": "markdown",
   "metadata": {},
   "source": [
    "Let's create a helper function to print a tweet.  The function prints only one line containing, timestamp (in BKK timezone), user who creates tweet, and the content of the tweet."
   ]
  },
  {
   "cell_type": "code",
   "execution_count": null,
   "metadata": {},
   "outputs": [],
   "source": [
    "def print_tweet(tweet):\n",
    "    # tweet.created_at is an \"unaware\" timezone, but it acutally is a UTC timezone\n",
    "    # we will have to make it a UTC first, then convert it to bkk\n",
    "    utc_dt = tweet.created_at.replace(tzinfo=pytz.UTC)\n",
    "    timezone_bkk = pytz.timezone('Asia/Bangkok')\n",
    "    bkk_dt = utc_dt.astimezone(timezone_bkk)\n",
    "    print('{} [{}] {}'.format(bkk_dt, tweet.user.name, tweet.text[:50]))"
   ]
  },
  {
   "cell_type": "markdown",
   "metadata": {},
   "source": [
    "## Getting user's information\n",
    "With get_user method, we can access user's public information such as screen_name, description, followers' count, etc.  Please refer to [Python – User object in Tweepy](https://www.geeksforgeeks.org/python-user-object-in-tweepy/) for more details of user object."
   ]
  },
  {
   "cell_type": "code",
   "execution_count": null,
   "metadata": {},
   "outputs": [],
   "source": [
    "user = api.get_user(screen_name='katyperry')"
   ]
  },
  {
   "cell_type": "code",
   "execution_count": null,
   "metadata": {},
   "outputs": [],
   "source": [
    "print('Name:', user.screen_name)\n",
    "print('Description:', user.description)\n",
    "print('Number of Followers:', user.followers_count)\n",
    "print('Number of Followings:', user.friends_count)\n",
    "print('Number of Tweets/Retweets:', user.statuses_count)\n",
    "print('Headshot\\'s URL', user.profile_image_url)"
   ]
  },
  {
   "cell_type": "markdown",
   "metadata": {},
   "source": [
    "## Accessing user timelines\n",
    "We can get tweets, replies, and mentions in user's timeline, as long as it is public."
   ]
  },
  {
   "cell_type": "code",
   "execution_count": null,
   "metadata": {},
   "outputs": [],
   "source": [
    "timeline = api.user_timeline(user_id=user.id)\n",
    "for tweet in timeline:\n",
    "    print_tweet(tweet)"
   ]
  },
  {
   "cell_type": "markdown",
   "metadata": {},
   "source": [
    "## Listing Trends\n",
    "Trends are location-oriented.  We will have to use location coordinate to get trending information."
   ]
  },
  {
   "cell_type": "code",
   "execution_count": null,
   "metadata": {
    "scrolled": true
   },
   "outputs": [],
   "source": [
    "# Let's use BKK location\n",
    "lat = 13.739060668870644\n",
    "long = 100.53214799610562\n",
    "location_info = api.closest_trends(lat, long)"
   ]
  },
  {
   "cell_type": "code",
   "execution_count": null,
   "metadata": {},
   "outputs": [],
   "source": [
    "location_info"
   ]
  },
  {
   "cell_type": "markdown",
   "metadata": {},
   "source": [
    "Get trending keywords and put them in dataframe"
   ]
  },
  {
   "cell_type": "code",
   "execution_count": null,
   "metadata": {},
   "outputs": [],
   "source": [
    "trendings = api.get_place_trends(location_info[0]['woeid'])\n",
    "df = pd.DataFrame(trendings[0]['trends'])"
   ]
  },
  {
   "cell_type": "code",
   "execution_count": null,
   "metadata": {},
   "outputs": [],
   "source": [
    "# sort trending based on their tweet volume in descending order\n",
    "trending_df = df.sort_values('tweet_volume', ascending=False)\n",
    "trending_df"
   ]
  },
  {
   "cell_type": "code",
   "execution_count": null,
   "metadata": {},
   "outputs": [],
   "source": [
    "# get the keyword with the highest tweet volume\n",
    "top_trending_keyword = trending_df.head(1).iloc[0]['name']\n",
    "print('Top Trending Keyword = ', top_trending_keyword)"
   ]
  },
  {
   "cell_type": "code",
   "execution_count": null,
   "metadata": {},
   "outputs": [],
   "source": [
    "for tweet in api.search_tweets(q=top_trending_keyword, count=10):\n",
    "    print_tweet(tweet)"
   ]
  },
  {
   "cell_type": "markdown",
   "metadata": {},
   "source": [
    "## Understanding cursor\n",
    "For Twitter API, those information will be returned with some certain limitations e.g. providing only 20 followers.  If you want more complete list, we will have to use Cursor API.  Cursor API is basically a paging mechanism."
   ]
  },
  {
   "cell_type": "code",
   "execution_count": null,
   "metadata": {},
   "outputs": [],
   "source": [
    "user_id = 'natawutn'\n",
    "user = api.get_user(screen_name=user_id)"
   ]
  },
  {
   "cell_type": "code",
   "execution_count": null,
   "metadata": {},
   "outputs": [],
   "source": [
    "print('Name:', user.screen_name)\n",
    "print('Number of Followers:', user.followers_count)\n",
    "print('Number of Followings:', user.friends_count)\n",
    "print('Number of Tweets/Retweets:', user.statuses_count)"
   ]
  },
  {
   "cell_type": "code",
   "execution_count": null,
   "metadata": {},
   "outputs": [],
   "source": [
    "for friend in user.friends():\n",
    "    print('{:15.15} -- {:40.40}'.format(friend.screen_name, friend.description))"
   ]
  },
  {
   "cell_type": "code",
   "execution_count": null,
   "metadata": {},
   "outputs": [],
   "source": [
    "# Iterate through all of the account friends (but not more than 30)\n",
    "counter = 0\n",
    "for id in tweepy.Cursor(api.get_friend_ids, screen_name=user_id).items():\n",
    "    # Process the friend here\n",
    "    friend = api.get_user(user_id=id)\n",
    "    print('{:15.15} -- {:40.40}'.format(friend.screen_name, friend.description))\n",
    "    counter += 1\n",
    "    if counter >= 30:\n",
    "        break"
   ]
  },
  {
   "cell_type": "code",
   "execution_count": null,
   "metadata": {},
   "outputs": [],
   "source": []
  }
 ],
 "metadata": {
  "kernelspec": {
   "display_name": "Python 3 (ipykernel)",
   "language": "python",
   "name": "python3"
  },
  "language_info": {
   "codemirror_mode": {
    "name": "ipython",
    "version": 3
   },
   "file_extension": ".py",
   "mimetype": "text/x-python",
   "name": "python",
   "nbconvert_exporter": "python",
   "pygments_lexer": "ipython3",
   "version": "3.9.7"
  },
  "toc": {
   "base_numbering": 1,
   "nav_menu": {},
   "number_sections": true,
   "sideBar": true,
   "skip_h1_title": false,
   "title_cell": "Table of Contents",
   "title_sidebar": "Contents",
   "toc_cell": false,
   "toc_position": {},
   "toc_section_display": true,
   "toc_window_display": false
  },
  "varInspector": {
   "cols": {
    "lenName": 16,
    "lenType": 16,
    "lenVar": 40
   },
   "kernels_config": {
    "python": {
     "delete_cmd_postfix": "",
     "delete_cmd_prefix": "del ",
     "library": "var_list.py",
     "varRefreshCmd": "print(var_dic_list())"
    },
    "r": {
     "delete_cmd_postfix": ") ",
     "delete_cmd_prefix": "rm(",
     "library": "var_list.r",
     "varRefreshCmd": "cat(var_dic_list()) "
    }
   },
   "types_to_exclude": [
    "module",
    "function",
    "builtin_function_or_method",
    "instance",
    "_Feature"
   ],
   "window_display": false
  }
 },
 "nbformat": 4,
 "nbformat_minor": 4
}
